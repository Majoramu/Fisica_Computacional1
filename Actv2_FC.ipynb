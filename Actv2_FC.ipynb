{
  "nbformat": 4,
  "nbformat_minor": 0,
  "metadata": {
    "colab": {
      "name": "Actv2_FC.ipynb",
      "provenance": [],
      "authorship_tag": "ABX9TyN3oDB4LUq+dz2WvQ/G+2TM",
      "include_colab_link": true
    },
    "kernelspec": {
      "name": "python3",
      "display_name": "Python 3"
    }
  },
  "cells": [
    {
      "cell_type": "markdown",
      "metadata": {
        "id": "view-in-github",
        "colab_type": "text"
      },
      "source": [
        "<a href=\"https://colab.research.google.com/github/Majoramu/Fisica_Computacional1/blob/main/Actv2_FC.ipynb\" target=\"_parent\"><img src=\"https://colab.research.google.com/assets/colab-badge.svg\" alt=\"Open In Colab\"/></a>"
      ]
    },
    {
      "cell_type": "code",
      "metadata": {
        "id": "m4HOD2i2rey0"
      },
      "source": [
        "#Título"
      ],
      "execution_count": null,
      "outputs": []
    },
    {
      "cell_type": "markdown",
      "metadata": {
        "id": "pla3edM1rSKU"
      },
      "source": [
        "# **Actividad 2. Encontraremos el área de distintas figuras geométricas. **\n",
        "\n",
        "---\n",
        "\n",
        "\n",
        "\n",
        "---\n",
        "\n"
      ]
    },
    {
      "cell_type": "code",
      "metadata": {
        "id": "A1UwttMJsEI8"
      },
      "source": [
        "#La primer celda se incluyen todas las bibliotecas a utilizar\n",
        "import numpy as np\n",
        "\n",
        "#SHIFT+ENTER >>> Siguiente celda (ejecuta celda actual)"
      ],
      "execution_count": 5,
      "outputs": []
    },
    {
      "cell_type": "markdown",
      "metadata": {
        "id": "SJ2rYn51vVnJ"
      },
      "source": [
        "Ejercicio 1.\n",
        "El área del rectángulo es $A=x*y$"
      ]
    },
    {
      "cell_type": "code",
      "metadata": {
        "colab": {
          "base_uri": "https://localhost:8080/"
        },
        "id": "ZupDM7cRokvC",
        "outputId": "99c3f83c-b6e5-42c8-df79-e23fdd940445"
      },
      "source": [
        "#Mi primer ejemplo de Python\n",
        "#Se define una función de dos variables para calcular el área\n",
        "def area(x,y):\n",
        "  return x*y \n",
        "\n",
        "print(\"proporciona el largo y altura del rectángulo: \", end=\"\")\n",
        "l = float(input())\n",
        "w = float(input())\n",
        "a = area(l,w)\n",
        "#imprime el valor del área en formato libre.\n",
        "print(\"\\nArea =\", a)\n",
        "#imprime el valor del area en formato libre\n",
        "print(\"\\nArea = {:.2f}\".format(a))"
      ],
      "execution_count": 8,
      "outputs": [
        {
          "output_type": "stream",
          "text": [
            "proporciona el largo y altura del rectángulo: 1\n",
            "2\n",
            "\n",
            "Area = 2.0\n",
            "\n",
            "Area = 2.00\n"
          ],
          "name": "stdout"
        }
      ]
    },
    {
      "cell_type": "code",
      "metadata": {
        "colab": {
          "base_uri": "https://localhost:8080/"
        },
        "id": "eZ0N9n4rsxlR",
        "outputId": "f14afc08-60ac-4a1c-9f25-d3152658bede"
      },
      "source": [
        "# Es el mismo código de la celda anterior, pero aquí estamos definiendo el valor de l y w,\n",
        "# En el anterior se forzaba a interactuar con el usuario para obtener los valores de l y w. \n",
        "def area(x,y):\n",
        "  return x*y \n",
        "\n",
        "print(\"proporciona el largo y altura del rectángulo: \", end=\"\")\n",
        "#l = float(input())\n",
        "l=1.0\n",
        "#w = float(input())\n",
        "w=2.0\n",
        "a = area(l,w)\n",
        "#imprime el valor del área en formato libre.\n",
        "print(\"\\nArea =\", a)\n",
        "#imprime el valor del area en formato libre\n",
        "print(\"\\nArea = {:.2f}\".format(a)) #el comando format es para tener dos decimales en vez de uno."
      ],
      "execution_count": 9,
      "outputs": [
        {
          "output_type": "stream",
          "text": [
            "proporciona el largo y altura del rectángulo: \n",
            "Area = 2.0\n",
            "\n",
            "Area = 2.00\n"
          ],
          "name": "stdout"
        }
      ]
    },
    {
      "cell_type": "markdown",
      "metadata": {
        "id": "rHMAbScau--P"
      },
      "source": [
        "Ejercicio 2. El área del círculo se da por\n",
        "$A = \\pi*r^{2} $"
      ]
    },
    {
      "cell_type": "code",
      "metadata": {
        "id": "MG-5NVVzt3F8"
      },
      "source": [
        ""
      ],
      "execution_count": 14,
      "outputs": []
    },
    {
      "cell_type": "code",
      "metadata": {
        "id": "irbS0A6QwRti"
      },
      "source": [
        ""
      ],
      "execution_count": null,
      "outputs": []
    }
  ]
}