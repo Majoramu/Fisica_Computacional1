{
  "nbformat": 4,
  "nbformat_minor": 0,
  "metadata": {
    "colab": {
      "name": "Actv2_FC.ipynb",
      "provenance": [],
      "authorship_tag": "ABX9TyM9pZGHh+uM3Co13wwu17Si",
      "include_colab_link": true
    },
    "kernelspec": {
      "name": "python3",
      "display_name": "Python 3"
    }
  },
  "cells": [
    {
      "cell_type": "markdown",
      "metadata": {
        "id": "view-in-github",
        "colab_type": "text"
      },
      "source": [
        "<a href=\"https://colab.research.google.com/github/Majoramu/Fisica_Computacional1/blob/main/Actv2_FC.ipynb\" target=\"_parent\"><img src=\"https://colab.research.google.com/assets/colab-badge.svg\" alt=\"Open In Colab\"/></a>"
      ]
    },
    {
      "cell_type": "code",
      "metadata": {
        "id": "m4HOD2i2rey0"
      },
      "source": [
        "#Título"
      ],
      "execution_count": 25,
      "outputs": []
    },
    {
      "cell_type": "markdown",
      "metadata": {
        "id": "pla3edM1rSKU"
      },
      "source": [
        "# **Actividad 2. Encontraremos el área de distintas figuras geométricas. **\n",
        "\n",
        "---\n",
        "\n",
        "\n",
        "\n",
        "---\n",
        "\n"
      ]
    },
    {
      "cell_type": "code",
      "metadata": {
        "id": "A1UwttMJsEI8"
      },
      "source": [
        "#La primer celda se incluyen todas las bibliotecas a utilizar\n",
        "import numpy as np\n",
        "\n",
        "#SHIFT+ENTER >>> Siguiente celda (ejecuta celda actual)"
      ],
      "execution_count": 1,
      "outputs": []
    },
    {
      "cell_type": "markdown",
      "metadata": {
        "id": "SJ2rYn51vVnJ"
      },
      "source": [
        "Ejercicio 1.\n",
        "El área del rectángulo es $A=x*y$"
      ]
    },
    {
      "cell_type": "code",
      "metadata": {
        "colab": {
          "base_uri": "https://localhost:8080/"
        },
        "id": "ZupDM7cRokvC",
        "outputId": "5d5aa875-fadd-468b-f59a-ee04a8664816"
      },
      "source": [
        "#Mi primer ejemplo de Python\n",
        "#Se define una función de dos variables para calcular el área\n",
        "def area(x,y):\n",
        "  return x*y \n",
        "\n",
        "print(\"proporciona el largo y altura del rectángulo: \", end=\"\")\n",
        "l = float(input())\n",
        "w = float(input())\n",
        "a = area(l,w)\n",
        "#imprime el valor del área en formato libre.\n",
        "print(\"\\nArea =\", a)\n",
        "#imprime el valor del area en formato libre\n",
        "print(\"\\nArea = {:.2f}\".format(a))"
      ],
      "execution_count": 2,
      "outputs": [
        {
          "output_type": "stream",
          "text": [
            "proporciona el largo y altura del rectángulo: 5\n",
            "4\n",
            "\n",
            "Area = 20.0\n",
            "\n",
            "Area = 20.00\n"
          ],
          "name": "stdout"
        }
      ]
    },
    {
      "cell_type": "code",
      "metadata": {
        "colab": {
          "base_uri": "https://localhost:8080/"
        },
        "id": "eZ0N9n4rsxlR",
        "outputId": "0c1d409d-b396-4d3b-eaef-63683d9facf3"
      },
      "source": [
        "# Es el mismo código de la celda anterior, pero aquí estamos definiendo el valor de l y w,\n",
        "# En el anterior se forzaba a interactuar con el usuario para obtener los valores de l y w. \n",
        "def area(x,y):\n",
        "  return x*y \n",
        "\n",
        "print(\"proporciona el largo y altura del rectángulo: \", end=\"\")\n",
        "#l = float(input())\n",
        "l=1.0\n",
        "#w = float(input())\n",
        "w=2.0\n",
        "a = area(l,w)\n",
        "#imprime el valor del área en formato libre.\n",
        "print(\"\\nArea =\", a)\n",
        "#imprime el valor del area en formato libre\n",
        "print(\"\\nArea = {:.2f}\".format(a)) #el comando format es para tener dos decimales en vez de uno."
      ],
      "execution_count": 3,
      "outputs": [
        {
          "output_type": "stream",
          "text": [
            "proporciona el largo y altura del rectángulo: \n",
            "Area = 2.0\n",
            "\n",
            "Area = 2.00\n"
          ],
          "name": "stdout"
        }
      ]
    },
    {
      "cell_type": "markdown",
      "metadata": {
        "id": "rHMAbScau--P"
      },
      "source": [
        "Ejercicio 1.1: El área del círculo se da por\n",
        "$A = \\pi*r^{2} $"
      ]
    },
    {
      "cell_type": "code",
      "metadata": {
        "colab": {
          "base_uri": "https://localhost:8080/"
        },
        "id": "qbyxv1OvuVhe",
        "outputId": "9662b945-38cb-4774-d3cc-7edc3f7a6cb6"
      },
      "source": [
        "import numpy as np \r\n",
        "\r\n",
        "def area(x,y):\r\n",
        "  return np.pi*r**2 \r\n",
        "\r\n",
        "print(\"proporciona el radio: \", end=\"\")\r\n",
        "r = float(input())\r\n",
        "a = area(l,w)\r\n",
        "#imprime el valor del área en formato libre.\r\n",
        "print(\"\\nArea =\", a)\r\n",
        "#imprime el valor del area en formato libre\r\n",
        "print(\"\\nArea = {:.2f}\".format(a))"
      ],
      "execution_count": 4,
      "outputs": [
        {
          "output_type": "stream",
          "text": [
            "proporciona el radio: 5\n",
            "\n",
            "Area = 78.53981633974483\n",
            "\n",
            "Area = 78.54\n"
          ],
          "name": "stdout"
        }
      ]
    },
    {
      "cell_type": "markdown",
      "metadata": {
        "id": "BkPRCwWMjLwO"
      },
      "source": [
        "Ejercicio 1.2: Área de una elipse: $A=a*b*\\pi\r\n",
        "$ "
      ]
    },
    {
      "cell_type": "code",
      "metadata": {
        "colab": {
          "base_uri": "https://localhost:8080/"
        },
        "id": "RP09M4OVjk_w",
        "outputId": "a68460da-43f3-4f5f-b9a2-e707389cff3b"
      },
      "source": [
        "import numpy as np \r\n",
        "\r\n",
        "def area(a,b):\r\n",
        "  return a*b \r\n",
        "\r\n",
        "print(\"proporciona los semiejes: \", end=\"\")\r\n",
        "l = float(input())\r\n",
        "w = float(input())\r\n",
        "a = area(l,w)*np.pi\r\n",
        "#imprime el valor del área en formato libre.\r\n",
        "print(\"\\nArea =\", a)\r\n",
        "#imprime el valor del area en formato libre\r\n",
        "print(\"\\nArea = {:.2f}\".format(a))"
      ],
      "execution_count": 5,
      "outputs": [
        {
          "output_type": "stream",
          "text": [
            "proporciona los semiejes: 5\n",
            "2\n",
            "\n",
            "Area = 31.41592653589793\n",
            "\n",
            "Area = 31.42\n"
          ],
          "name": "stdout"
        }
      ]
    },
    {
      "cell_type": "markdown",
      "metadata": {
        "id": "LJ5ke0IRlwwl"
      },
      "source": [
        "Ejercicio 1.3: Volumen de una esfera. $ V = \\frac{4}{3} \\pi r^{3} $"
      ]
    },
    {
      "cell_type": "code",
      "metadata": {
        "id": "O89ZTqLBmud-",
        "colab": {
          "base_uri": "https://localhost:8080/"
        },
        "outputId": "eb637fdf-4165-45a8-d868-4f5b3d9720c3"
      },
      "source": [
        "import numpy as np \r\n",
        "\r\n",
        "def area(x,y):\r\n",
        "  return 4/3*np.pi \r\n",
        "\r\n",
        "print(\"proporciona el radio: \", end=\"\")\r\n",
        "r = float(input())\r\n",
        "a = area(l,w)*r**3\r\n",
        "#imprime el valor del volumen en formato libre.\r\n",
        "print(\"\\nVolumen =\", a)\r\n",
        "#imprime el valor del volumen en formato libre\r\n",
        "print(\"\\nVolumen = {:.2f}\".format(a))"
      ],
      "execution_count": 6,
      "outputs": [
        {
          "output_type": "stream",
          "text": [
            "proporciona el radio: 5\n",
            "\n",
            "Volumen = 523.5987755982989\n",
            "\n",
            "Volumen = 523.60\n"
          ],
          "name": "stdout"
        }
      ]
    },
    {
      "cell_type": "markdown",
      "metadata": {
        "id": "cs_7Wf_Boyg6"
      },
      "source": [
        "Ejercicio 1.4: Volúmen de un cilindro circular. $ V_{cil} = \\pi * r^{2}*h $ "
      ]
    },
    {
      "cell_type": "code",
      "metadata": {
        "colab": {
          "base_uri": "https://localhost:8080/"
        },
        "id": "X_N0gz8PpNf8",
        "outputId": "85c99662-7584-4b8a-a39f-466f44ea83a2"
      },
      "source": [
        "import numpy as np \r\n",
        "\r\n",
        "def area(x,y):\r\n",
        "  return np.pi*r**2 \r\n",
        "\r\n",
        "print(\"proporciona el radio y altura del cilindro: \", end=\"\")\r\n",
        "r = float(input())\r\n",
        "h = float(input())\r\n",
        "a = area(l,w)*h\r\n",
        "#imprime el valor del volumen en formato libre.\r\n",
        "print(\"\\nVolumen =\", a)\r\n",
        "#imprime el valor del volumen en formato libre\r\n",
        "print(\"\\nVolumen = {:.2f}\".format(a))"
      ],
      "execution_count": 7,
      "outputs": [
        {
          "output_type": "stream",
          "text": [
            "proporciona el radio y altura del cilindro: 5\n",
            "8\n",
            "\n",
            "Volumen = 628.3185307179587\n",
            "\n",
            "Volumen = 628.32\n"
          ],
          "name": "stdout"
        }
      ]
    },
    {
      "cell_type": "markdown",
      "metadata": {
        "id": "jjyG_yS3xfJ1"
      },
      "source": [
        "2\r\n",
        "Ejemplos de control de flujo"
      ]
    },
    {
      "cell_type": "code",
      "metadata": {
        "id": "irbS0A6QwRti",
        "colab": {
          "base_uri": "https://localhost:8080/"
        },
        "outputId": "ff92f177-4081-4c16-c2e9-170464d45217"
      },
      "source": [
        "# Condicional: if \n",
        "x = 2\n",
        "y = 2\n",
        "z = 1\n",
        "if x == y:\n",
        "     print(\"Hola\")\n",
        "elif x == z:\n",
        "     print(\"Hasta luego\")\n",
        "else:\n",
        "     print(\"???\")"
      ],
      "execution_count": 8,
      "outputs": [
        {
          "output_type": "stream",
          "text": [
            "Hola\n"
          ],
          "name": "stdout"
        }
      ]
    },
    {
      "cell_type": "code",
      "metadata": {
        "colab": {
          "base_uri": "https://localhost:8080/"
        },
        "id": "YA1DnzBYxu8w",
        "outputId": "ada25b99-f9b7-476d-9986-412104fdd048"
      },
      "source": [
        "# Loop: for\n",
        "\n",
        "print(\"loop 1\")\n",
        "for i in range(5): # default - comienza en 0, incrementa en 1\n",
        "     print(i)\n",
        "\n",
        " \n",
        "print(\"\\nloop 2\")\n",
        "for i in range(10, 2, -2): # entradas: inicio, fin, tamaño de paso \n",
        "     print(i)"
      ],
      "execution_count": 9,
      "outputs": [
        {
          "output_type": "stream",
          "text": [
            "loop 1\n",
            "0\n",
            "1\n",
            "2\n",
            "3\n",
            "4\n",
            "\n",
            "loop 2\n",
            "10\n",
            "8\n",
            "6\n",
            "4\n"
          ],
          "name": "stdout"
        }
      ]
    },
    {
      "cell_type": "code",
      "metadata": {
        "colab": {
          "base_uri": "https://localhost:8080/"
        },
        "id": "D9qWwtQGx6U6",
        "outputId": "873f0457-6a6b-4ab4-936a-14d158f9fe68"
      },
      "source": [
        "# Loop: while\n",
        "\n",
        "i = 1\n",
        "while i < 100:\n",
        "     print(i**2)\n",
        "# i+= i**2  # a+= b es notación compacta de a = a + b\n",
        "     i += i**2 "
      ],
      "execution_count": 10,
      "outputs": [
        {
          "output_type": "stream",
          "text": [
            "1\n",
            "4\n",
            "36\n",
            "1764\n"
          ],
          "name": "stdout"
        }
      ]
    },
    {
      "cell_type": "code",
      "metadata": {
        "colab": {
          "base_uri": "https://localhost:8080/"
        },
        "id": "6OLpYMNa1DWL",
        "outputId": "4e2dce97-3614-44bf-d988-d60b5ec6052e"
      },
      "source": [
        "# Ejemplos de: continue y break \n",
        "\n",
        "for num in range(2, 10):\n",
        "     if num % 2 == 0:\n",
        "          continue # se regresa al inicio\n",
        "     print(f\"Encontrado {num}, un número impar\")\n",
        "\n",
        "n = 64\n",
        "\n",
        "for x in range(2, n):\n",
        "     if n % x == 0: # si n es divisible por x (modulo 0)\n",
        "          print(f'{n} igual {x} * {n // x}')\n",
        "          break\n",
        "\n",
        "for i in range(5):\n",
        "     for j in range(5*i):\n",
        "          if j == 10:\n",
        "               print(j)\n",
        "               break\n",
        "#break se va a esta línea\n",
        "\n",
        "if False:\n",
        "     pass # no hace nada, continua\n",
        "else:\n",
        "     print('True!')\n"
      ],
      "execution_count": 11,
      "outputs": [
        {
          "output_type": "stream",
          "text": [
            "Encontrado 3, un número impar\n",
            "Encontrado 5, un número impar\n",
            "Encontrado 7, un número impar\n",
            "Encontrado 9, un número impar\n",
            "64 igual 2 * 32\n",
            "10\n",
            "10\n",
            "True!\n"
          ],
          "name": "stdout"
        }
      ]
    },
    {
      "cell_type": "markdown",
      "metadata": {
        "id": "Wr5mrX8Kqvbx"
      },
      "source": [
        "Ejercicio 2: Calculo de la raiz de ecuaciones cuadráticas."
      ]
    },
    {
      "cell_type": "code",
      "metadata": {
        "colab": {
          "base_uri": "https://localhost:8080/"
        },
        "id": "jaOFEISDJvWk",
        "outputId": "3ad5e0fb-7ce4-4b60-ee39-52801ef8e5ac"
      },
      "source": [
        "print(\"Obtenemos las raíces de una función cuadrática.\") \n",
        "#se introducen los coeficientes de cada término.\n",
        "print(\"Coeficiente del término cuadrático\")\n",
        "a=float(input())\n",
        "print(\"Coeficiente del término lineal\")\n",
        "b=float(input())\n",
        "print(\"Coeficiente del término independiente\")\n",
        "c=float(input())\n",
        "#Definimos los valores iniciales de 0 a x1 y x2\n",
        "x1=0\n",
        "x2=0\n",
        "x=0\n",
        "#Condicionamos cuando la raíz es menor a 0\n",
        "if ((b**2)-4*a*c) < 0:\n",
        "  print(\"Las raíces son complejas\")\n",
        "else:\n",
        "#Condicionamos cuando la raíz es mayor a 0\n",
        "  x1 = (-b+np.sqrt(b**2-(4*a*c)))/(2*a)  \n",
        "  x2 = (-b-np.sqrt(b**2-(4*a*c)))/(2*a)  \n",
        "  print(\"La raíz real x1 es: {:.2f}\".format(x1))\n",
        "  print(\"La raíz real x1 es: {:.2f}\".format(x2))"
      ],
      "execution_count": 12,
      "outputs": [
        {
          "output_type": "stream",
          "text": [
            "Obtenemos las raíces de una función cuadrática.\n",
            "Coeficiente del término cuadrático\n",
            "2\n",
            "Coeficiente del término lineal\n",
            "4\n",
            "Coeficiente del término independiente\n",
            "1\n",
            "La raíz real x1 es: -0.29\n",
            "La raíz real x1 es: -1.71\n"
          ],
          "name": "stdout"
        }
      ]
    },
    {
      "cell_type": "markdown",
      "metadata": {
        "id": "lqY1UKr9unIx"
      },
      "source": [
        "Ejercicio 3: Implementar el método Babilonio (o Método de Herón), para calcular la raíz cuadrada de un número S, cuando la sucesión converja con un error menor a 0.01. Compare con el valor obtenido por el método Babilonio con el valor de la función np.sqrt(S).\n",
        "\n",
        " $ x_{0} \\approx \\sqrt{S}  $ \\\\\n",
        " $ x_{n+1} = \\frac{1}{2} + (x_{n} + \\frac{S}{x_{n}} )$ \\\\\n",
        "\n",
        " $ \\sqrt{S} = \\lim_{n \\rightarrow \\infty} x_{n} $"
      ]
    },
    {
      "cell_type": "code",
      "metadata": {
        "colab": {
          "base_uri": "https://localhost:8080/"
        },
        "id": "cOvZ_Y5gLf90",
        "outputId": "8132ca97-0e20-4819-a80f-a15c1571d4d3"
      },
      "source": [
        "print(\"Método Babilónico\")\n",
        "\n",
        "#Se ingresa el número s para calcular la raíz cuadrada\n",
        "print(\"Introduzca el número al cual desea calcularle la raíz cuadrada\")\n",
        "s=float(input())\n",
        "xn=np.sqrt(s)-3\n",
        "#Comienza el ciclo y continúa hasta que el error sea menor a 0.01\n",
        "while abs(np.sqrt(s)-xn) > 0.01:\n",
        "#Se aplica el método babilónico\n",
        "  xn=1/2*(xn+(s/xn))\n",
        "\n",
        "#Se imprime la aproximación \n",
        "print(\"El valor aproximado de la raíz cuadrada de\", s, \"es:\", xn, \". \\nLa aproximación tiene un error de:\", abs(np.sqrt(s)-xn))\n",
        "#Calculamos la raíz cuadrada de s con la funcion perteneciente de la biblioteca numpy\n",
        "rn=np.sqrt(s)\n",
        "print(\"Mientras el valor calculado a partir del uso de la biblioteca numpy es de:\", rn)"
      ],
      "execution_count": 14,
      "outputs": [
        {
          "output_type": "stream",
          "text": [
            "Método Babilónico\n",
            "Introduzca el número al cual desea calcularle la raíz cuadrada\n",
            "25\n",
            "El valor aproximado de la raíz cuadrada de 25.0 es: 5.000012953048684 . \n",
            "La aproximación tiene un error de: 1.295304868431657e-05\n",
            "Mientras el valor calculado a partir del uso de la biblioteca numpy es de: 5.0\n"
          ],
          "name": "stdout"
        }
      ]
    },
    {
      "cell_type": "markdown",
      "metadata": {
        "id": "-QNQRIhF8Eyt"
      },
      "source": [
        "Ejercicio 4: Reproduce la figura que aparece inmediatamente abajo en el artículo de Wikipedia sobre Series de Taylor, que muestra la aproximación de la función ln(1+x) alrededor de x=0.\n",
        "\n",
        "$ ln(1 + x) = \\sum_{n=1}^{\\infty} (-1)^{n+1} \\frac{x^{n}}{n} = x - \\frac{1}{2} x^{2} + \\frac{1}{3} x^{2}-... $ para -1<x<1"
      ]
    },
    {
      "cell_type": "code",
      "metadata": {
        "colab": {
          "base_uri": "https://localhost:8080/",
          "height": 313
        },
        "id": "UsRP3VVrM3ty",
        "outputId": "f09b7ad7-ba04-4503-c455-26931dfeb334"
      },
      "source": [
        "import matplotlib.pyplot as plt\n",
        "\n",
        "\n",
        "print(\"El programa se utiliza para aproximarnos a partir de la serie de Taylor a la funcion ln(1+x).\")\n",
        "def Tay(x,n):\n",
        "  #entra un vector x\n",
        "  r=[]\n",
        "  for a in x:\n",
        "    xn=0.0\n",
        "    #a ese vector, le aplicamos el polinomio a cada valor de x\n",
        "    for i in range(1,n+1):\n",
        "      xn=xn+((-1)**(i+1))*(a**i/i)\n",
        "    r.append(xn)\n",
        "  return np.array(r)\n",
        "\n",
        "x = np.linspace(-0.99,1,1000)  \n",
        "#polinomios de Taylor de grado 4,7,11 y 16\n",
        "T4=Tay(x,4)\n",
        "T7=Tay(x,7)\n",
        "T11=Tay(x,11)\n",
        "T16=Tay(x,16)\n",
        "#logaritmo de x+1\n",
        "y=np.log(x+1)\n",
        "\n",
        "# Creación de la base de la gráfica\n",
        "plt.subplot(111)\n",
        "plt.xlabel(\"X\")\n",
        "plt.ylabel(\"Y\")\n",
        "#Título del gráfico\n",
        "plt.title('Polinomios de Taylor de grado n que se aproximan a la función logaritmo de x+1')\n",
        "\n",
        "#graficamos los polinomios de Taylor de grado n\n",
        "plt.plot(x,T4,label=\"n=4\")\n",
        "plt.plot(x,T7,label=\"n=7\")\n",
        "plt.plot(x,T11,label=\"n=11\")\n",
        "plt.plot(x,T16,label=\"n=16\")\n",
        "\n",
        "#función ln(x+1)\n",
        "plt.plot(x,y,label='ln(x+1)')\n",
        "#fijamos los límites de y\n",
        "plt.ylim(-4,4)\n",
        "#agregamos una cuadrícula a la gráfica\n",
        "plt.grid(True)\n",
        "plt.legend(bbox_to_anchor=(1,1), loc=\"upper left\")\n",
        "plt.show()"
      ],
      "execution_count": 15,
      "outputs": [
        {
          "output_type": "stream",
          "text": [
            "El programa se utiliza para aproximarnos a partir de la serie de Taylor a la funcion ln(1+x).\n"
          ],
          "name": "stdout"
        },
        {
          "output_type": "display_data",
          "data": {
            "image/png": "[encoded data removed]",
            "text/plain": [
              "<Figure size 432x288 with 1 Axes>"
            ]
          },
          "metadata": {
            "tags": [],
            "needs_background": "light"
          }
        }
      ]
    },
    {
      "cell_type": "code",
      "metadata": {
        "colab": {
          "base_uri": "https://localhost:8080/"
        },
        "id": "7hCed0n_8K3b",
        "outputId": "703bf5da-8ab9-4910-e874-02838d36898a"
      },
      "source": [
        "lista1=[1,'2',3,4]\n",
        "lista2=[1,2,3,4.0]\n",
        "print(f\"Suma de listas: {lista1+lista2}\")"
      ],
      "execution_count": 16,
      "outputs": [
        {
          "output_type": "stream",
          "text": [
            "Suma de listas: [1, '2', 3, 4, 1, 2, 3, 4.0]\n"
          ],
          "name": "stdout"
        }
      ]
    },
    {
      "cell_type": "code",
      "metadata": {
        "colab": {
          "base_uri": "https://localhost:8080/"
        },
        "id": "Pty5Kost9cDF",
        "outputId": "6fd52c3b-9697-435d-de70-9aa97a0e80db"
      },
      "source": [
        "import numpy as np\n",
        "#arreglo de una dimensión.\n",
        "\n",
        "my_array = np.array([1,2.0,'3',4])\n",
        "\n",
        "print(my_array)\n",
        "print(my_array.dtype)"
      ],
      "execution_count": 17,
      "outputs": [
        {
          "output_type": "stream",
          "text": [
            "['1' '2.0' '3' '4']\n",
            "<U32\n"
          ],
          "name": "stdout"
        }
      ]
    },
    {
      "cell_type": "code",
      "metadata": {
        "id": "aO6uXhcX9s83"
      },
      "source": [
        "s1 = np.array([1,2,3,4])  #arreglo de enteros\n",
        "s2 = np.array([1,2,3,4,0]) #un número flotante convierte el arreglo en flotante\n",
        "s3 = np.array([1,2,3,'4'])    # Un arreglo con un carácter, convierte a todo el arreglo de caracteres. \n",
        "s4 = np.arange(0,5,0.5)     # Inserta puntos cada 0.5 entre 0 y 5, incluyendo extremos\n",
        "s5 = np.linspace(0,5,20)    # Inserta 20 puntos entre 0 y 5, incluyendo extremos"
      ],
      "execution_count": 18,
      "outputs": []
    },
    {
      "cell_type": "code",
      "metadata": {
        "colab": {
          "base_uri": "https://localhost:8080/"
        },
        "id": "MBuJVOOq929H",
        "outputId": "e47c9f62-e39b-426d-d22f-b7c4d0a8b7ef"
      },
      "source": [
        "np.linspace(0,5,11)"
      ],
      "execution_count": 19,
      "outputs": [
        {
          "output_type": "execute_result",
          "data": {
            "text/plain": [
              "array([0. , 0.5, 1. , 1.5, 2. , 2.5, 3. , 3.5, 4. , 4.5, 5. ])"
            ]
          },
          "metadata": {
            "tags": []
          },
          "execution_count": 19
        }
      ]
    },
    {
      "cell_type": "code",
      "metadata": {
        "colab": {
          "base_uri": "https://localhost:8080/"
        },
        "id": "7TlR2DKCBwtX",
        "outputId": "46a52129-ae1f-40b8-984a-504c91d444b0"
      },
      "source": [
        "np.arange(0,6,0.5)"
      ],
      "execution_count": 20,
      "outputs": [
        {
          "output_type": "execute_result",
          "data": {
            "text/plain": [
              "array([0. , 0.5, 1. , 1.5, 2. , 2.5, 3. , 3.5, 4. , 4.5, 5. , 5.5])"
            ]
          },
          "metadata": {
            "tags": []
          },
          "execution_count": 20
        }
      ]
    },
    {
      "cell_type": "markdown",
      "metadata": {
        "id": "6ouW_mb1Jmwq"
      },
      "source": [
        "Gráfica de Taylor"
      ]
    },
    {
      "cell_type": "code",
      "metadata": {
        "id": "MYBsmOklJrBX"
      },
      "source": [
        "# Cargar la subbiblioteca pytlot de Matplotlib \n",
        "import numpy as np\n",
        "import matplotlib.pyplot as plt\n",
        "\n",
        "# Gráfica de funciones\n",
        "# Definición de variables y funciones\n",
        "x = np.linspace(-np.pi,np.pi,100)  # arrego de 100 puntos entre -pi y pi\n",
        "y = np.sin(x)      # y será también un arreglo de 100 puntos automáticamente \n",
        "y1 = x\n",
        "y3 = x**3/(3*2)\n",
        "y5 = x**5/(5*4*3*2)\n",
        "sT = y1 - y3 + y5 # Serie de Taylor de sin(x) a 5o. Orden."
      ],
      "execution_count": 21,
      "outputs": []
    },
    {
      "cell_type": "code",
      "metadata": {
        "colab": {
          "base_uri": "https://localhost:8080/",
          "height": 295
        },
        "id": "SWpM5bI4KNS5",
        "outputId": "0061b9bf-e266-4e62-b2dc-39d16640200c"
      },
      "source": [
        "\n",
        "# Creación de la gráficas\n",
        "plt.subplot(111)\n",
        "plt.xlabel(\"X label\")\n",
        "plt.ylabel(\"Y label\")\n",
        "plt.title(\"Title\")\n",
        "\n",
        "# Graficar varias funciones\n",
        "plt.plot(x,y, label=\"sin(x)\")\n",
        "plt.plot(x,y1, label='x')\n",
        "plt.plot(x,sT, label='Serie Taylor Orden 5')\n",
        "\n",
        "# Agregar una malla\n",
        "plt.grid(True)\n",
        "\n",
        "# Fijar los límites en el eje Y.\n",
        "plt.ylim(-2, 2)\n",
        "\n",
        "# Ubicación de las etiquetas de las funciones\n",
        "plt.legend(bbox_to_anchor=(1,1), loc=\"upper left\")\n",
        "plt.show()\n",
        "\n",
        "#plt.savefig('plot.png')  # Si se desea guardar en un archivo la imagen de la gráfica"
      ],
      "execution_count": 22,
      "outputs": [
        {
          "output_type": "display_data",
          "data": {
            "image/png": "[encoded data removed]",
            "text/plain": [
              "<Figure size 432x288 with 1 Axes>"
            ]
          },
          "metadata": {
            "tags": [],
            "needs_background": "light"
          }
        }
      ]
    }
  ]
}