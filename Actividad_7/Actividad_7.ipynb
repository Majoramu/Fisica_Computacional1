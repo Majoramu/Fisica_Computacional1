{
  "nbformat": 4,
  "nbformat_minor": 0,
  "metadata": {
    "colab": {
      "name": "Actividad_7.ipynb",
      "provenance": []
    },
    "kernelspec": {
      "name": "python3",
      "display_name": "Python 3"
    }
  },
  "cells": [
    {
      "cell_type": "markdown",
      "metadata": {
        "id": "xv5wu84rjRWD"
      },
      "source": [
        ".**Álgebra Lineal con SciPy**\r\n",
        "\r\n",
        "Utilizaremos la biblioteca scipy.linalg para operar con vectores y matrices (Arreglos de NumPy: 1-D, 2-D, 3-D, etc)."
      ]
    },
    {
      "cell_type": "code",
      "metadata": {
        "id": "jcNaUKXYjQu2"
      },
      "source": [
        "# 1 de marzo de 2021\r\n",
        "# Cargamos las bibliotecas para trabajar en Algebra Lineal\r\n",
        "\r\n",
        "import numpy as np\r\n",
        "import scipy.linalg as la\r\n",
        "from numpy.linalg import matrix_power as mpow\r\n",
        "\r\n",
        "import matplotlib.pyplot as plt\r\n",
        "%matplotlib inline"
      ],
      "execution_count": 1,
      "outputs": []
    },
    {
      "cell_type": "markdown",
      "metadata": {
        "id": "RsWyRbYKpHae"
      },
      "source": [
        "**Arreglos de Numpy 1-D**\r\n",
        "\r\n",
        "Los arreglos en Python, tienen: dimensión, forma y tamaño."
      ]
    },
    {
      "cell_type": "code",
      "metadata": {
        "colab": {
          "base_uri": "https://localhost:8080/"
        },
        "id": "8mrmIsDppV3p",
        "outputId": "b3427030-b1c3-4a83-9c31-61bdc048dbbd"
      },
      "source": [
        "# Definimos un arreglo 1-D\r\n",
        "a = np.array([1,2,3,4,3,2,1])\r\n",
        "print(a)"
      ],
      "execution_count": 2,
      "outputs": [
        {
          "output_type": "stream",
          "text": [
            "[1 2 3 4 3 2 1]\n"
          ],
          "name": "stdout"
        }
      ]
    },
    {
      "cell_type": "code",
      "metadata": {
        "colab": {
          "base_uri": "https://localhost:8080/"
        },
        "id": "1LHY9Kb3pcb5",
        "outputId": "53a72a84-77bc-4ad5-e65e-348ae44b66c6"
      },
      "source": [
        "# Propiedades del arreglo anterior\r\n",
        "print('Número de dimensiones:', a.ndim)\r\n",
        "print('Forma (shape):', a.shape)\r\n",
        "print('Tamaño (size):', a.size)"
      ],
      "execution_count": 3,
      "outputs": [
        {
          "output_type": "stream",
          "text": [
            "Número de dimensiones: 1\n",
            "Forma (shape): (7,)\n",
            "Tamaño (size): 7\n"
          ],
          "name": "stdout"
        }
      ]
    },
    {
      "cell_type": "code",
      "metadata": {
        "colab": {
          "base_uri": "https://localhost:8080/"
        },
        "id": "aLfw_2K7pfPb",
        "outputId": "46697243-69fb-4629-89f8-5eb1316c1212"
      },
      "source": [
        "# Definimos un arreglo 2-D. Pensemos en una Matriz M de 2-D.\r\n",
        "M = np.array([[1,2],[3,4],[5,6],[7,8]])\r\n",
        "print(M)"
      ],
      "execution_count": 4,
      "outputs": [
        {
          "output_type": "stream",
          "text": [
            "[[1 2]\n",
            " [3 4]\n",
            " [5 6]\n",
            " [7 8]]\n"
          ],
          "name": "stdout"
        }
      ]
    },
    {
      "cell_type": "code",
      "metadata": {
        "colab": {
          "base_uri": "https://localhost:8080/"
        },
        "id": "tnLS3k-rpgYH",
        "outputId": "041aeea5-183d-4787-9c1e-9a54374d4c8a"
      },
      "source": [
        "# Propiedades del arreglo anterior. \r\n",
        "print('Número de dimensiones:', M.ndim)\r\n",
        "print('Forma (shape):', M.shape)\r\n",
        "print('Tamaño (size):', M.size)"
      ],
      "execution_count": 5,
      "outputs": [
        {
          "output_type": "stream",
          "text": [
            "Número de dimensiones: 2\n",
            "Forma (shape): (4, 2)\n",
            "Tamaño (size): 8\n"
          ],
          "name": "stdout"
        }
      ]
    },
    {
      "cell_type": "code",
      "metadata": {
        "colab": {
          "base_uri": "https://localhost:8080/"
        },
        "id": "BBavIeYepjl4",
        "outputId": "53c728bc-5cd3-42a8-bb0e-94d30aedb34c"
      },
      "source": [
        "# Podemos seleccionar una columna 1 de la matriz M (columnas:0,1) \r\n",
        "col = M[:,1] \r\n",
        "print(col)\r\n"
      ],
      "execution_count": 6,
      "outputs": [
        {
          "output_type": "stream",
          "text": [
            "[2 4 6 8]\n"
          ],
          "name": "stdout"
        }
      ]
    },
    {
      "cell_type": "code",
      "metadata": {
        "colab": {
          "base_uri": "https://localhost:8080/"
        },
        "id": "EoIWQ5zXpp6n",
        "outputId": "fe42762e-fb73-41ee-d3f1-ece901b30f36"
      },
      "source": [
        "# Propiedades del arreglo anterior. \r\n",
        "print('Número de dimensiones:', col.ndim)\r\n",
        "print('Forma (shape):', col.shape)\r\n",
        "print('Tamaño (size):', col.size)"
      ],
      "execution_count": 7,
      "outputs": [
        {
          "output_type": "stream",
          "text": [
            "Número de dimensiones: 1\n",
            "Forma (shape): (4,)\n",
            "Tamaño (size): 4\n"
          ],
          "name": "stdout"
        }
      ]
    },
    {
      "cell_type": "markdown",
      "metadata": {
        "id": "7sdcRG8QpwKg"
      },
      "source": [
        "Pero, si seleccionamos una columna de una matriz 2-D, estamos seleccionando uno de los vectores en un espacio 2-D. Tenemos que usar la función .reshape()"
      ]
    },
    {
      "cell_type": "code",
      "metadata": {
        "colab": {
          "base_uri": "https://localhost:8080/"
        },
        "id": "WKbC9JL3prKu",
        "outputId": "bb8fc848-35b8-44f1-b361-b61cf95b07b6"
      },
      "source": [
        "column = col.reshape(4,1)\r\n",
        "print(column)"
      ],
      "execution_count": 8,
      "outputs": [
        {
          "output_type": "stream",
          "text": [
            "[[2]\n",
            " [4]\n",
            " [6]\n",
            " [8]]\n"
          ],
          "name": "stdout"
        }
      ]
    },
    {
      "cell_type": "code",
      "metadata": {
        "colab": {
          "base_uri": "https://localhost:8080/"
        },
        "id": "lheuzDgNp06R",
        "outputId": "aff9854b-596f-4a9f-9c3d-e03d8809cfa2"
      },
      "source": [
        "# Propiedades del arreglo anterior. \r\n",
        "print('Número de dimensiones:', column.ndim)\r\n",
        "print('Forma (shape):', column.shape)\r\n",
        "print('Tamaño (size):', column.size)"
      ],
      "execution_count": 9,
      "outputs": [
        {
          "output_type": "stream",
          "text": [
            "Número de dimensiones: 2\n",
            "Forma (shape): (4, 1)\n",
            "Tamaño (size): 4\n"
          ],
          "name": "stdout"
        }
      ]
    },
    {
      "cell_type": "markdown",
      "metadata": {
        "id": "dL1zkYM4p3dz"
      },
      "source": [
        "\r\n",
        "Aunque la variable 'col' y 'column' tengan los mismos datos, son dos objetos distintos."
      ]
    },
    {
      "cell_type": "markdown",
      "metadata": {
        "id": "cFzPEXgPp4ML"
      },
      "source": [
        "# **Operación y Funciones de Matrices**"
      ]
    },
    {
      "cell_type": "markdown",
      "metadata": {
        "id": "fsTmmZ04qFVf"
      },
      "source": [
        "**Operaciones Aritméticas**\r\n",
        "\r\n",
        "Las operaciones aritméticas +, -, /, * y ** se realizan elemento a elemento.\r\n",
        "\r\n",
        "Ejemplos:"
      ]
    },
    {
      "cell_type": "code",
      "metadata": {
        "colab": {
          "base_uri": "https://localhost:8080/"
        },
        "id": "wwPEZMOMqW2E",
        "outputId": "58c2a2e7-0a45-4407-e17f-462cfedec31c"
      },
      "source": [
        "# Definimos una matriz M\r\n",
        "M = np.array([[1,2],[3,4]])\r\n",
        "print(M)"
      ],
      "execution_count": 10,
      "outputs": [
        {
          "output_type": "stream",
          "text": [
            "[[1 2]\n",
            " [3 4]]\n"
          ],
          "name": "stdout"
        }
      ]
    },
    {
      "cell_type": "markdown",
      "metadata": {
        "id": "UFyJ12evqdel"
      },
      "source": [
        "**Multiplicación de Matrices**"
      ]
    },
    {
      "cell_type": "code",
      "metadata": {
        "colab": {
          "base_uri": "https://localhost:8080/"
        },
        "id": "TBvq_10rqhAD",
        "outputId": "cc2eb6bb-950c-41d7-aa35-2e90814f458c"
      },
      "source": [
        "# Producto simple (elemento a elemento)\r\n",
        "M*M"
      ],
      "execution_count": 11,
      "outputs": [
        {
          "output_type": "execute_result",
          "data": {
            "text/plain": [
              "array([[ 1,  4],\n",
              "       [ 9, 16]])"
            ]
          },
          "metadata": {
            "tags": []
          },
          "execution_count": 11
        }
      ]
    },
    {
      "cell_type": "code",
      "metadata": {
        "colab": {
          "base_uri": "https://localhost:8080/"
        },
        "id": "OE-ShkH9qjOF",
        "outputId": "c50396e6-8422-4ed8-94b9-3300a064289d"
      },
      "source": [
        "# Producto matricial \r\n",
        "M@M"
      ],
      "execution_count": 12,
      "outputs": [
        {
          "output_type": "execute_result",
          "data": {
            "text/plain": [
              "array([[ 7, 10],\n",
              "       [15, 22]])"
            ]
          },
          "metadata": {
            "tags": []
          },
          "execution_count": 12
        }
      ]
    },
    {
      "cell_type": "markdown",
      "metadata": {
        "id": "mDnv35xLk9Up"
      },
      "source": [
        "**Ejercicio 1:** Defina las siguientes matrices:\r\n",
        "\r\n",
        "$$\\begin{equation*}\r\n",
        " A\r\n",
        " =\r\n",
        "  \\begin{bmatrix}\r\n",
        "   1 & 3 \\\\\r\n",
        "   -1 & 7\r\n",
        "   \\end{bmatrix}\r\n",
        "\\end{equation*}$$$$\\begin{equation*}\r\n",
        " B =\r\n",
        "  \\begin{bmatrix}\r\n",
        "   5 & 2 \\\\\r\n",
        "   1 & 2\r\n",
        "   \\end{bmatrix}\r\n",
        "\\end{equation*}$$\r\n",
        "y la matrix identidad\r\n",
        "\r\n",
        "$$\\begin{equation*}\r\n",
        " I = \r\n",
        "   \\begin{bmatrix}\r\n",
        "   1 & 0 \\\\\r\n",
        "   0 & 1\r\n",
        "   \\end{bmatrix}\r\n",
        "\\end{equation*}$$\r\n",
        "\r\n",
        "Calcule el resultado de $2*I+3*A+A@B$.\r\n",
        "\r\n",
        "Para definir la matriz identidad, se puede utilizar la función np.eye(2, dtype=int). Ver manual de np.eye()."
      ]
    },
    {
      "cell_type": "code",
      "metadata": {
        "colab": {
          "base_uri": "https://localhost:8080/"
        },
        "id": "UPUkrG8ArOWt",
        "outputId": "3ca225b2-8ee7-4004-911c-8664bf4cf760"
      },
      "source": [
        "# Definimos una matriz A\r\n",
        "A = np.array([[1,3],[-1,7]])\r\n",
        "print(A)"
      ],
      "execution_count": 13,
      "outputs": [
        {
          "output_type": "stream",
          "text": [
            "[[ 1  3]\n",
            " [-1  7]]\n"
          ],
          "name": "stdout"
        }
      ]
    },
    {
      "cell_type": "code",
      "metadata": {
        "colab": {
          "base_uri": "https://localhost:8080/"
        },
        "id": "pj8D68OMnKzk",
        "outputId": "508c5e11-1dfc-4251-c4c0-a87a8220a1ca"
      },
      "source": [
        "# Definimos una matriz B\r\n",
        "B = np.array([[5,2],[1,2]])\r\n",
        "print(B)"
      ],
      "execution_count": 14,
      "outputs": [
        {
          "output_type": "stream",
          "text": [
            "[[5 2]\n",
            " [1 2]]\n"
          ],
          "name": "stdout"
        }
      ]
    },
    {
      "cell_type": "code",
      "metadata": {
        "id": "3o5EeJdqnUCc"
      },
      "source": [
        "# Definimos la matriz Identidad\r\n",
        "I = np.eye(2, dtype=int)"
      ],
      "execution_count": 15,
      "outputs": []
    },
    {
      "cell_type": "code",
      "metadata": {
        "colab": {
          "base_uri": "https://localhost:8080/"
        },
        "id": "VsJTAaFXnokz",
        "outputId": "e285329d-90ff-4ee8-b30e-f94f3b7b7746"
      },
      "source": [
        "# Producto matricial \r\n",
        "2*I + 3*M + M@B"
      ],
      "execution_count": 16,
      "outputs": [
        {
          "output_type": "execute_result",
          "data": {
            "text/plain": [
              "array([[12, 12],\n",
              "       [28, 28]])"
            ]
          },
          "metadata": {
            "tags": []
          },
          "execution_count": 16
        }
      ]
    },
    {
      "cell_type": "markdown",
      "metadata": {
        "id": "nz8bkSOVrdPQ"
      },
      "source": [
        "**Potencias de Matrices**\r\n",
        "\r\n",
        "No existe un símbolo para denotar las potencias de matrices. Por eso definimos la función mpow en la 1a celda de bibliotecas.\r\n",
        "\r\n",
        "from numpy.linalg import matrix_power as mpow"
      ]
    },
    {
      "cell_type": "code",
      "metadata": {
        "colab": {
          "base_uri": "https://localhost:8080/"
        },
        "id": "sF4TiL1JoJ30",
        "outputId": "40da780e-a370-4ca0-ed5e-96e5c3e98395"
      },
      "source": [
        "# Teníamos una matriz M definida. \r\n",
        "print(M)"
      ],
      "execution_count": 17,
      "outputs": [
        {
          "output_type": "stream",
          "text": [
            "[[1 2]\n",
            " [3 4]]\n"
          ],
          "name": "stdout"
        }
      ]
    },
    {
      "cell_type": "code",
      "metadata": {
        "colab": {
          "base_uri": "https://localhost:8080/"
        },
        "id": "EzoHdcf3rmpc",
        "outputId": "02e3d44a-b9e1-4502-9438-39fd9e525b21"
      },
      "source": [
        "# Cuadrado: M^2 = M@M\r\n",
        "print(M@M)\r\n",
        "print(mpow(M,2))"
      ],
      "execution_count": 18,
      "outputs": [
        {
          "output_type": "stream",
          "text": [
            "[[ 7 10]\n",
            " [15 22]]\n",
            "[[ 7 10]\n",
            " [15 22]]\n"
          ],
          "name": "stdout"
        }
      ]
    },
    {
      "cell_type": "code",
      "metadata": {
        "colab": {
          "base_uri": "https://localhost:8080/"
        },
        "id": "fF1oYv51rpws",
        "outputId": "39561d36-2555-4833-cc14-7703a56523c8"
      },
      "source": [
        "# Quinta potencia: M^5 = M@M@M@M@M\r\n",
        "print(M@M@M@M@M)\r\n",
        "print(mpow(M,5))"
      ],
      "execution_count": 19,
      "outputs": [
        {
          "output_type": "stream",
          "text": [
            "[[1069 1558]\n",
            " [2337 3406]]\n",
            "[[1069 1558]\n",
            " [2337 3406]]\n"
          ],
          "name": "stdout"
        }
      ]
    },
    {
      "cell_type": "markdown",
      "metadata": {
        "id": "7SLP9Ofhrtxl"
      },
      "source": [
        "**Matriz Traspuesta $M^{T}$**"
      ]
    },
    {
      "cell_type": "code",
      "metadata": {
        "colab": {
          "base_uri": "https://localhost:8080/"
        },
        "id": "3TCZoS3YrtYZ",
        "outputId": "05b19333-a377-44eb-9544-78f9c1a89dfb"
      },
      "source": [
        "# La matriz M y su transpuesta\r\n",
        "print(M)\r\n",
        "print(M.T)"
      ],
      "execution_count": 20,
      "outputs": [
        {
          "output_type": "stream",
          "text": [
            "[[1 2]\n",
            " [3 4]]\n",
            "[[1 3]\n",
            " [2 4]]\n"
          ],
          "name": "stdout"
        }
      ]
    },
    {
      "cell_type": "code",
      "metadata": {
        "colab": {
          "base_uri": "https://localhost:8080/"
        },
        "id": "iL9xSGmwrr2k",
        "outputId": "be193222-9dee-4170-fe11-69b3c80ff641"
      },
      "source": [
        "# El producto de M por M.T, debe ser una matriz simétrica.\r\n",
        "M @ M.T"
      ],
      "execution_count": 21,
      "outputs": [
        {
          "output_type": "execute_result",
          "data": {
            "text/plain": [
              "array([[ 5, 11],\n",
              "       [11, 25]])"
            ]
          },
          "metadata": {
            "tags": []
          },
          "execution_count": 21
        }
      ]
    },
    {
      "cell_type": "markdown",
      "metadata": {
        "id": "yoVUPGyDsDWi"
      },
      "source": [
        "**Traza de una Matriz**\r\n",
        "\r\n",
        "Suma de los elementos de la diagonal. Usaremos la función de NumPy: np.trace."
      ]
    },
    {
      "cell_type": "code",
      "metadata": {
        "colab": {
          "base_uri": "https://localhost:8080/"
        },
        "id": "m3SfXG37sAa0",
        "outputId": "e40d389e-7cf4-433e-97e1-279f40f5d603"
      },
      "source": [
        "# Traza de la matriz M.\r\n",
        "print(M)\r\n",
        "print(np.trace(M))"
      ],
      "execution_count": 22,
      "outputs": [
        {
          "output_type": "stream",
          "text": [
            "[[1 2]\n",
            " [3 4]]\n",
            "5\n"
          ],
          "name": "stdout"
        }
      ]
    },
    {
      "cell_type": "markdown",
      "metadata": {
        "id": "LBkykh7LsNan"
      },
      "source": [
        "**Determinante de una Matriz**\r\n",
        "\r\n",
        "\r\n",
        "Determinante de una Matrix\r\n",
        "\r\n",
        "Se utiliza la función scipy.linalg.det\r\n",
        "\r\n",
        "Para la matriz M,\r\n",
        "\r\n",
        "$$\\begin{equation*}\r\n",
        " M\r\n",
        " =\r\n",
        "  \\begin{bmatrix}\r\n",
        "   a & b \\\\\r\n",
        "   c & d\r\n",
        "   \\end{bmatrix}\r\n",
        "\\end{equation*}$$\r\n",
        "det(M) = $ad-bc$"
      ]
    },
    {
      "cell_type": "code",
      "metadata": {
        "colab": {
          "base_uri": "https://localhost:8080/"
        },
        "id": "ECLjG_pLsLHM",
        "outputId": "c3c3f503-de5a-4cac-daa1-21fa26e4fa0c"
      },
      "source": [
        "# Determinante de la matriz M\r\n",
        "print(M)\r\n",
        "print(la.det(M))"
      ],
      "execution_count": 23,
      "outputs": [
        {
          "output_type": "stream",
          "text": [
            "[[1 2]\n",
            " [3 4]]\n",
            "-2.0\n"
          ],
          "name": "stdout"
        }
      ]
    },
    {
      "cell_type": "markdown",
      "metadata": {
        "id": "vE-qAOCSseyd"
      },
      "source": [
        "**Matriz Inversa**\r\n",
        "\r\n",
        "Se calcula con la función scipy.linalg.inv\r\n",
        "\r\n",
        "Nota: Para invertir una Matriz, su Determinante no debe ser cero.\r\n",
        "\r\n",
        "Para una matriz $M$, la inversa $M^{-1}$\r\n",
        "\r\n",
        "$$\\begin{equation*}\r\n",
        " M\r\n",
        " =\r\n",
        "  \\begin{bmatrix}\r\n",
        "   a & b \\\\\r\n",
        "   c & d\r\n",
        "   \\end{bmatrix}\r\n",
        "\\end{equation*}$$$$\\begin{equation*}\r\n",
        " M^{-1}\r\n",
        " = \\frac{1}{\\det(M)}\r\n",
        "  \\begin{bmatrix}\r\n",
        "   d & -b \\\\\r\n",
        "   -c & a\r\n",
        "   \\end{bmatrix}\r\n",
        "\\end{equation*}$$"
      ]
    },
    {
      "cell_type": "code",
      "metadata": {
        "colab": {
          "base_uri": "https://localhost:8080/"
        },
        "id": "8PsQfdqMsabS",
        "outputId": "20335688-8a3f-4744-f2c1-91fa73d6540b"
      },
      "source": [
        "# Matriz inversa de M\r\n",
        "la.inv(M)"
      ],
      "execution_count": 24,
      "outputs": [
        {
          "output_type": "execute_result",
          "data": {
            "text/plain": [
              "array([[-2. ,  1. ],\n",
              "       [ 1.5, -0.5]])"
            ]
          },
          "metadata": {
            "tags": []
          },
          "execution_count": 24
        }
      ]
    },
    {
      "cell_type": "markdown",
      "metadata": {
        "id": "TzbcIzHDso1n"
      },
      "source": [
        "**Ejercicio 2.** Los polinomios característicos y el Teorema de Cayley-Hamilton.\r\n",
        "\r\n",
        "El polinomio característico de una matriz M esta dado en general por la ecuación$$\r\n",
        "\\det(M - \\lambda I) = 0\r\n",
        "$$Para una matriz cuadrada M (2x2), el polinomio característico se puede escribir como$$\r\n",
        "P_2 (\\lambda) = \\det{(M)} - \\mathrm{tr \\,}(M) \\, \\lambda + \\lambda^2   \r\n",
        "$$y para una matriz cuadrada M (3x3), el polinomio característico resulta ser\r\n",
        "\r\n",
        "$$\r\n",
        "P_3 (\\lambda) = \\frac{1}{6} \r\n",
        "[ \\mathrm{tr}^3 (M) + 2 \\, \\mathrm{tr }(M^3) - 3 \\, \\mathrm{tr}(M) \\mathrm{tr}(M^2) ] - \r\n",
        "\\frac{1}{2} [ \\mathrm{tr}^2 (M) - \\mathrm{tr}(M^2) ] \\lambda + \\mathrm{tr}(M) \\lambda^2 - \\lambda^3\r\n",
        "$$\r\n",
        "El Teorema de Cayley-Hamilton nos dice que una matriz cuadrada M (2x2), satisface el polinomio característico$$\r\n",
        "P_2(M) = \\det(M) - \\mathrm{tr}(M) M + M^2 \r\n",
        "$$y en general cualquier matriz cuadrada M (nxn), satisface $P_n(M)$.\r\n",
        "\r\n",
        "Demuestre esto para cualquier matriz M (2x2), ($\\det(M) \\neq 0$)."
      ]
    },
    {
      "cell_type": "code",
      "metadata": {
        "colab": {
          "base_uri": "https://localhost:8080/"
        },
        "id": "SYzT9gAF5pnU",
        "outputId": "1ca0884c-cf79-4293-f584-ca8c8896db8b"
      },
      "source": [
        "#Definimos el polinomio \r\n",
        "#Pa = la.det(A) -np.trace(A)*A + A@A \r\n",
        "\r\n",
        "# Determinante de la matriz M\r\n",
        "print(A)\r\n",
        "print('El determinante de la matriz A es:', la.det(A))\r\n",
        "\r\n",
        "# Traza de la matriz A.\r\n",
        "print(A)\r\n",
        "print('La traza de la matriz A:', np.trace(A))\r\n",
        "\r\n",
        "# Cuadrado: A^2 = A@A\r\n",
        "print(A@A)\r\n",
        "print('El cuadrado de la matriz a resulta:')\r\n",
        "print(mpow(A,2))\r\n",
        "\r\n",
        "print('Así, el polinomio característico P de una matriz 2x2 es:')\r\n",
        "#Definimos el polinomio \r\n",
        "Pa = la.det(A) -np.trace(A)*A + A@A \r\n",
        "\r\n",
        "print(Pa)"
      ],
      "execution_count": 25,
      "outputs": [
        {
          "output_type": "stream",
          "text": [
            "[[ 1  3]\n",
            " [-1  7]]\n",
            "El determinante de la matriz A es: 10.0\n",
            "[[ 1  3]\n",
            " [-1  7]]\n",
            "La traza de la matriz A: 8\n",
            "[[-2 24]\n",
            " [-8 46]]\n",
            "El cuadrado de la matriz a resulta:\n",
            "[[-2 24]\n",
            " [-8 46]]\n",
            "Así, el polinomio característico P de una matriz 2x2 es:\n",
            "[[ 0. 10.]\n",
            " [10.  0.]]\n"
          ],
          "name": "stdout"
        }
      ]
    },
    {
      "cell_type": "markdown",
      "metadata": {
        "id": "-PmgA-BsxWA_"
      },
      "source": [
        "**Resolución de Ecuaciones Lineales.**\r\n",
        "\r\n",
        "Un sistema de ecuaciones lineales, es una colección de (n+1) ecuaciones de (n+1) variables de la forma:\r\n",
        "\r\n",
        "$$\\begin{align*}\r\n",
        " a_{0,0} x_0 + a_{0,1} x_1 + \\cdots + a_{0,n} x_n & = b_0 \\\\\r\n",
        " a_{1,0} x_0 + a_{1,1} x_1 + \\cdots + a_{1,n} x_n & = b_1 \\\\\r\n",
        "\\vdots &  =  \\vdots \\\\\r\n",
        " a_{n,0} x_0 + a_{n,1} x_1 + \\cdots + a_{n,n} x_n & = b_n \\\\\r\n",
        "\\end{align*}$$\r\n",
        "El cual se puede escribir de forma matricial\r\n",
        "\r\n",
        "$$\\begin{equation*}\r\n",
        "A x = b\r\n",
        "\\end{equation*}$$\r\n",
        "donde A es la matriz cuadrada (n+1 x n+1)\r\n",
        "\r\n",
        "$$\\begin{equation*}\r\n",
        "A = \r\n",
        "\\begin{bmatrix}\r\n",
        "a_{0,0} & a_{0,1} & \\cdots & a_{0,n} \\\\\r\n",
        "a_{1,0} & a_{1,1} & \\cdots & a_{1,n} \\\\\r\n",
        " \\vdots & \\vdots & \\cdots & \\vdots \\\\\r\n",
        "a_{n,0} & a_{n,1} & \\cdots & a_{n,n} \\\\\r\n",
        "\\end{bmatrix}\r\n",
        "\\end{equation*}$$\r\n",
        "El vector $x$ es un vector desconocido de (n+1) dimensiones, y $b$ un vector constante conocido de (n+1) dimensiones.\r\n",
        "\r\n",
        "$$\\begin{equation*}\r\n",
        "x  =  \\begin{bmatrix} \r\n",
        "x_0 \\\\\r\n",
        "x_1 \\\\ \r\n",
        "\\vdots \\\\\r\n",
        "x_n \\\\\r\n",
        "\\end{bmatrix} \r\n",
        "\\end{equation*}$$\r\n",
        ",\r\n",
        "\r\n",
        "$$\\begin{equation*} \r\n",
        "b = \r\n",
        "\\begin{bmatrix}\r\n",
        " b_0 \\\\\r\n",
        " b_1 \\\\\r\n",
        "\\vdots \\\\\r\n",
        " b_n \\\\\r\n",
        " \\end{bmatrix}\r\n",
        "\\end{equation*}$$\r\n",
        "Buscamos la solución$$\\begin{equation*}\r\n",
        "x = A^{-1} b \r\n",
        "\\end{equation*}$$"
      ]
    },
    {
      "cell_type": "markdown",
      "metadata": {
        "id": "XbGU6hAYxvPQ"
      },
      "source": [
        "**Método de Eliminación Gaussiana.**\r\n",
        "\r\n",
        "El método de eliminación Gaussiana es un método para resolver un sistema de ecuaciones lineales. Este método involucra 3 tipos de operaciones elementales:\r\n",
        "\r\n",
        "Intercambio de posición de renglones.\r\n",
        "Multiplicar un renglón por una constante no nula.\r\n",
        "Sumar un múltiplo de un reglon a otro renglón.\r\n",
        "Usando este conjunto de operaciones es posible convertir una matriz en una matriz triangular superior o matriz en forma escalonada.\r\n",
        "\r\n",
        "Ejemplo:\r\n",
        "\r\n",
        "$L_1$, $L_2$ y $L_3$ denotan los renglones de la matriz.\r\n",
        "\r\n"
      ]
    },
    {
      "cell_type": "code",
      "metadata": {
        "id": "m_fGX9dqsoXs"
      },
      "source": [
        "# Implementación del método de eliminación Gaussiana\r\n",
        "# Definimos 3 funciones \r\n",
        "\r\n",
        "# Intercambio de posición de renglones.\r\n",
        "def switch_rows(A,i,j):\r\n",
        "    \"Intercambiar renglones i y j en la matriz A.\"\r\n",
        "    n = A.shape[0]\r\n",
        "    E = np.eye(n)\r\n",
        "    E[i,i] = 0\r\n",
        "    E[j,j] = 0\r\n",
        "    E[i,j] = 1\r\n",
        "    E[j,i] = 1\r\n",
        "    return E @ A\r\n",
        "\r\n",
        "# Multiplicar un renglón por una constante no nula.\r\n",
        "def scale_row(A,k,i):\r\n",
        "    \"Multiplicar el renglón i por k en la matriz A.\"\r\n",
        "    n = A.shape[0]\r\n",
        "    E = np.eye(n)\r\n",
        "    E[i,i] = k\r\n",
        "    return E @ A\r\n",
        "\r\n",
        "# Sumar un múltiplo de un reglon a otro renglón.\r\n",
        "def add_row(A,k,i,j):\r\n",
        "    \"Sumar k veces el renglón j al renglón i en la matriz A.\"\r\n",
        "    n = A.shape[0]\r\n",
        "    E = np.eye(n)\r\n",
        "    if i == j:\r\n",
        "        E[i,i] = k + 1\r\n",
        "    else:\r\n",
        "        E[i,j] = k\r\n",
        "    return E @ A"
      ],
      "execution_count": 26,
      "outputs": []
    },
    {
      "cell_type": "markdown",
      "metadata": {
        "id": "6qC9_FAjx7fj"
      },
      "source": [
        "**Ejemplos**\r\n",
        "\r\n",
        "Encontrar la matriz inversa de M.\r\n",
        "\r\n",
        "(Trabajaremos con la matriz aumentada: |M|I|)"
      ]
    },
    {
      "cell_type": "code",
      "metadata": {
        "colab": {
          "base_uri": "https://localhost:8080/"
        },
        "id": "tQyOS7avx_Ry",
        "outputId": "145d6671-f03b-4466-b08b-42987c39efb6"
      },
      "source": [
        "M = np.array([[2,1,-1],[-3,-1,2],[-2,1,2]])\r\n",
        "print(M)\r\n",
        "print('det(M) = ', la.det(M))"
      ],
      "execution_count": 27,
      "outputs": [
        {
          "output_type": "stream",
          "text": [
            "[[ 2  1 -1]\n",
            " [-3 -1  2]\n",
            " [-2  1  2]]\n",
            "det(M) =  -1.0\n"
          ],
          "name": "stdout"
        }
      ]
    },
    {
      "cell_type": "code",
      "metadata": {
        "colab": {
          "base_uri": "https://localhost:8080/"
        },
        "id": "92WguJnpyBX4",
        "outputId": "7e630f81-261c-4f5f-93fc-6d05fa17ac5f"
      },
      "source": [
        "# Matriz aumentada: Unimos la matriz M con la matriz Identidad \r\n",
        "A = np.hstack([M,np.eye(3)])\r\n",
        "print(A)"
      ],
      "execution_count": 28,
      "outputs": [
        {
          "output_type": "stream",
          "text": [
            "[[ 2.  1. -1.  1.  0.  0.]\n",
            " [-3. -1.  2.  0.  1.  0.]\n",
            " [-2.  1.  2.  0.  0.  1.]]\n"
          ],
          "name": "stdout"
        }
      ]
    },
    {
      "cell_type": "code",
      "metadata": {
        "colab": {
          "base_uri": "https://localhost:8080/"
        },
        "id": "zU4vLJQFyDu0",
        "outputId": "c79c4db4-e9d0-462a-82e6-65991b086d63"
      },
      "source": [
        "# \"Sumar k veces el renglón j al renglón i en la matriz A.\"\r\n",
        "# add_row(A,k,i,j):\r\n",
        "# 1) L2 + 3/2 L1 ->  L2; \r\n",
        "#    L3+L1 -> L3\r\n",
        "A1_tmp = add_row(A,3/2,1,0)\r\n",
        "A1 = add_row(A1_tmp,1,2,0)\r\n",
        "print(A1)"
      ],
      "execution_count": 29,
      "outputs": [
        {
          "output_type": "stream",
          "text": [
            "[[ 2.   1.  -1.   1.   0.   0. ]\n",
            " [ 0.   0.5  0.5  1.5  1.   0. ]\n",
            " [ 0.   2.   1.   1.   0.   1. ]]\n"
          ],
          "name": "stdout"
        }
      ]
    },
    {
      "cell_type": "code",
      "metadata": {
        "colab": {
          "base_uri": "https://localhost:8080/"
        },
        "id": "7ksJLEOhyFow",
        "outputId": "7b0291be-e3c0-4305-84bf-5fa0c32adff3"
      },
      "source": [
        "# 2) L3 + -4L2 -> L3\r\n",
        "A2 = add_row(A1, -4,2,1)\r\n",
        "print(A2)"
      ],
      "execution_count": 30,
      "outputs": [
        {
          "output_type": "stream",
          "text": [
            "[[ 2.   1.  -1.   1.   0.   0. ]\n",
            " [ 0.   0.5  0.5  1.5  1.   0. ]\n",
            " [ 0.   0.  -1.  -5.  -4.   1. ]]\n"
          ],
          "name": "stdout"
        }
      ]
    },
    {
      "cell_type": "code",
      "metadata": {
        "colab": {
          "base_uri": "https://localhost:8080/"
        },
        "id": "bbsNXPNTyILH",
        "outputId": "9f3a0664-6848-4a8f-fac8-ba8948e07a73"
      },
      "source": [
        "# 3) L2 + 1/2 L3 -> L2\r\n",
        "#    L1-L3 -> L1\r\n",
        "A3_tmp = add_row(A2, 1/2, 1, 2)\r\n",
        "A3 = add_row(A3_tmp, -1,0,2)\r\n",
        "print(A3)"
      ],
      "execution_count": 31,
      "outputs": [
        {
          "output_type": "stream",
          "text": [
            "[[ 2.   1.   0.   6.   4.  -1. ]\n",
            " [ 0.   0.5  0.  -1.  -1.   0.5]\n",
            " [ 0.   0.  -1.  -5.  -4.   1. ]]\n"
          ],
          "name": "stdout"
        }
      ]
    },
    {
      "cell_type": "code",
      "metadata": {
        "colab": {
          "base_uri": "https://localhost:8080/"
        },
        "id": "T7O27KEZyKNZ",
        "outputId": "aa58bddc-51d6-4d15-cb3d-e673c37d60ce"
      },
      "source": [
        "# 4) 2L2 -> L2\r\n",
        "#    -L3 -> L3\r\n",
        "A4_tmp = scale_row(A3,2,1)\r\n",
        "A4 = scale_row(A4_tmp, -1, 2)\r\n",
        "print(A4)"
      ],
      "execution_count": 32,
      "outputs": [
        {
          "output_type": "stream",
          "text": [
            "[[ 2.  1.  0.  6.  4. -1.]\n",
            " [ 0.  1.  0. -2. -2.  1.]\n",
            " [ 0.  0.  1.  5.  4. -1.]]\n"
          ],
          "name": "stdout"
        }
      ]
    },
    {
      "cell_type": "code",
      "metadata": {
        "colab": {
          "base_uri": "https://localhost:8080/"
        },
        "id": "InOidsf_yLvj",
        "outputId": "95ac3cce-9715-46d2-d573-fbb20de995e2"
      },
      "source": [
        "# 5) L1 - L2 -> L1\r\n",
        "#    1/2 L1 -> L1\r\n",
        "A5_tmp = add_row(A4,-1,0,1)\r\n",
        "A5 = scale_row(A5_tmp,1/2,0)\r\n",
        "print(A5)"
      ],
      "execution_count": 33,
      "outputs": [
        {
          "output_type": "stream",
          "text": [
            "[[ 1.  0.  0.  4.  3. -1.]\n",
            " [ 0.  1.  0. -2. -2.  1.]\n",
            " [ 0.  0.  1.  5.  4. -1.]]\n"
          ],
          "name": "stdout"
        }
      ]
    },
    {
      "cell_type": "code",
      "metadata": {
        "colab": {
          "base_uri": "https://localhost:8080/"
        },
        "id": "aPSmen5uyOXs",
        "outputId": "ba755ff3-0e46-40f9-925c-26cb71873414"
      },
      "source": [
        "# Hemos obtenido la inversa\r\n",
        "M_inv = A5[:,3:]\r\n",
        "print(M_inv)"
      ],
      "execution_count": 34,
      "outputs": [
        {
          "output_type": "stream",
          "text": [
            "[[ 4.  3. -1.]\n",
            " [-2. -2.  1.]\n",
            " [ 5.  4. -1.]]\n"
          ],
          "name": "stdout"
        }
      ]
    },
    {
      "cell_type": "code",
      "metadata": {
        "colab": {
          "base_uri": "https://localhost:8080/"
        },
        "id": "12jqML0JyRwX",
        "outputId": "cd65a14c-0987-4d28-c638-50bec033e0e7"
      },
      "source": [
        "# El producto de M_inv @ M = I \r\n",
        "result = M_inv @ M\r\n",
        "print(result)"
      ],
      "execution_count": 35,
      "outputs": [
        {
          "output_type": "stream",
          "text": [
            "[[1. 0. 0.]\n",
            " [0. 1. 0.]\n",
            " [0. 0. 1.]]\n"
          ],
          "name": "stdout"
        }
      ]
    },
    {
      "cell_type": "code",
      "metadata": {
        "colab": {
          "base_uri": "https://localhost:8080/"
        },
        "id": "0OILRWTVyT5y",
        "outputId": "0e8b7e92-f2ca-4e08-a856-a144fedf0a4f"
      },
      "source": [
        "# Checamos la inversa de M con la función 'la.inv(M)'\r\n",
        "la.inv(M)"
      ],
      "execution_count": 36,
      "outputs": [
        {
          "output_type": "execute_result",
          "data": {
            "text/plain": [
              "array([[ 4.,  3., -1.],\n",
              "       [-2., -2.,  1.],\n",
              "       [ 5.,  4., -1.]])"
            ]
          },
          "metadata": {
            "tags": []
          },
          "execution_count": 36
        }
      ]
    },
    {
      "cell_type": "markdown",
      "metadata": {
        "id": "uN3ZPtmNyWcW"
      },
      "source": [
        "Ejemplo: Resolviendo la ecuación Mx=b\r\n",
        "\r\n",
        "en este caso b esta dado por:\r\n",
        "\r\n",
        "$$\\begin{equation*}\r\n",
        "b = \r\n",
        "\\begin{bmatrix}\r\n",
        "8 \\\\\r\n",
        "-11 \\\\\r\n",
        "-3 \\\\\r\n",
        "\\end{bmatrix}\r\n",
        "\\end{equation*}$$\r\n",
        "La solución es $x = M^{-1} M x = M^{-1} b$"
      ]
    },
    {
      "cell_type": "code",
      "metadata": {
        "colab": {
          "base_uri": "https://localhost:8080/"
        },
        "id": "VGEJiwvIyZCp",
        "outputId": "fea7432d-7668-4b33-8c6e-a58973cc073f"
      },
      "source": [
        "# definimos b. Recordemos que tenemos que usar la función .reshape()\r\n",
        "b = np.array([8,-11,-3]).reshape(3,1)\r\n",
        "print(b)"
      ],
      "execution_count": 37,
      "outputs": [
        {
          "output_type": "stream",
          "text": [
            "[[  8]\n",
            " [-11]\n",
            " [ -3]]\n"
          ],
          "name": "stdout"
        }
      ]
    },
    {
      "cell_type": "code",
      "metadata": {
        "colab": {
          "base_uri": "https://localhost:8080/"
        },
        "id": "j_JhPinIyaju",
        "outputId": "7493d535-c700-43fe-9a28-18d53764a3bc"
      },
      "source": [
        "# La solución es:\r\n",
        "x = M_inv @ b \r\n",
        "print(x)"
      ],
      "execution_count": 38,
      "outputs": [
        {
          "output_type": "stream",
          "text": [
            "[[ 2.]\n",
            " [ 3.]\n",
            " [-1.]]\n"
          ],
          "name": "stdout"
        }
      ]
    },
    {
      "cell_type": "markdown",
      "metadata": {
        "id": "ujwaSN3YycNy"
      },
      "source": [
        "**Función scipy.linalg.solve()**\r\n",
        "\r\n",
        "Podemos usar la función solve() de scipy.linalg"
      ]
    },
    {
      "cell_type": "code",
      "metadata": {
        "colab": {
          "base_uri": "https://localhost:8080/"
        },
        "id": "FraKI_0syf8O",
        "outputId": "066ad7bf-343c-4e45-9097-dfd23b2cd1df"
      },
      "source": [
        "# Resolviendo el sistema de ecuaciones usando scipy.linalg.solve\r\n",
        "x_sol = la.solve(M, b)\r\n",
        "print(x_sol)"
      ],
      "execution_count": 39,
      "outputs": [
        {
          "output_type": "stream",
          "text": [
            "[[ 2.]\n",
            " [ 3.]\n",
            " [-1.]]\n"
          ],
          "name": "stdout"
        }
      ]
    },
    {
      "cell_type": "markdown",
      "metadata": {
        "id": "ZKPH9pzcyiIG"
      },
      "source": [
        "**Ejercicio 3:**\r\n",
        "\r\n",
        "Resuelva el sistema de ecuaciones.\r\n",
        "\r\n",
        "$$\\begin{eqnarray*}\r\n",
        "x - 3 y + z & = & 1 \\\\ \\nonumber\r\n",
        "3 x - 4y + z & = & 5 \\\\ \\nonumber\r\n",
        "2 y - z & = & 0 \\\\ \\nonumber\r\n",
        "\\end{eqnarray*}$$\r\n",
        "utilizando el Método de Eliminación Gaussiana y la función scipy.linalg.solve()"
      ]
    },
    {
      "cell_type": "code",
      "metadata": {
        "colab": {
          "base_uri": "https://localhost:8080/"
        },
        "id": "XLBFdHe30YH5",
        "outputId": "744f3c37-7bc0-402f-f6c3-ca108358f535"
      },
      "source": [
        "M = np.array([[1,-3,1],[3,-4,1],[0,2,-1]])\r\n",
        "print(M)\r\n",
        "print('det(M) = ', la.det(M))"
      ],
      "execution_count": 40,
      "outputs": [
        {
          "output_type": "stream",
          "text": [
            "[[ 1 -3  1]\n",
            " [ 3 -4  1]\n",
            " [ 0  2 -1]]\n",
            "det(M) =  -1.0000000000000004\n"
          ],
          "name": "stdout"
        }
      ]
    },
    {
      "cell_type": "code",
      "metadata": {
        "colab": {
          "base_uri": "https://localhost:8080/"
        },
        "id": "dS5xCBvqb6JG",
        "outputId": "becff71d-0c32-4060-ed30-53f03e2a42a9"
      },
      "source": [
        " # Matriz aumentada: Unimos la matriz M con la matriz Identidad \r\n",
        "A = np.hstack([M,np.eye(3)])\r\n",
        "print(A)"
      ],
      "execution_count": 41,
      "outputs": [
        {
          "output_type": "stream",
          "text": [
            "[[ 1. -3.  1.  1.  0.  0.]\n",
            " [ 3. -4.  1.  0.  1.  0.]\n",
            " [ 0.  2. -1.  0.  0.  1.]]\n"
          ],
          "name": "stdout"
        }
      ]
    },
    {
      "cell_type": "code",
      "metadata": {
        "colab": {
          "base_uri": "https://localhost:8080/"
        },
        "id": "3wa5Jg9Zb9cs",
        "outputId": "a007ec47-43bc-4f17-d056-96ce72abfc02"
      },
      "source": [
        "# \"Sumar k veces el renglón j al renglón i en la matriz A.\"\r\n",
        "# add_row(A0,k,i,j):\r\n",
        "# 1) -3L1 - L2 ->  L2; \r\n",
        "#    L3 -> L3\r\n",
        "A1_tmp = add_row(A,-3,1,0)\r\n",
        "A1 = add_row(A1_tmp,0,2,0)\r\n",
        "print(A1)"
      ],
      "execution_count": 42,
      "outputs": [
        {
          "output_type": "stream",
          "text": [
            "[[ 1. -3.  1.  1.  0.  0.]\n",
            " [ 0.  5. -2. -3.  1.  0.]\n",
            " [ 0.  2. -1.  0.  0.  1.]]\n"
          ],
          "name": "stdout"
        }
      ]
    },
    {
      "cell_type": "code",
      "metadata": {
        "colab": {
          "base_uri": "https://localhost:8080/"
        },
        "id": "1s8roW9NcG5S",
        "outputId": "195d6e42-0a0f-4b4f-d0ab-26239f207150"
      },
      "source": [
        "# 2) -1/2L2 + L3 -> L3\r\n",
        "#      1/5L2 -> L2\r\n",
        "A2_tmp = add_row(A1, -1/2,2,1)\r\n",
        "A2 = scale_row(A2_tmp,1/5,1)\r\n",
        "print(A2)"
      ],
      "execution_count": 43,
      "outputs": [
        {
          "output_type": "stream",
          "text": [
            "[[ 1.  -3.   1.   1.   0.   0. ]\n",
            " [ 0.   1.  -0.4 -0.6  0.2  0. ]\n",
            " [ 0.  -0.5  0.   1.5 -0.5  1. ]]\n"
          ],
          "name": "stdout"
        }
      ]
    },
    {
      "cell_type": "code",
      "metadata": {
        "colab": {
          "base_uri": "https://localhost:8080/"
        },
        "id": "rc8N-nWdcMhA",
        "outputId": "189615e4-fdb2-40bc-a18d-d592449c7049"
      },
      "source": [
        "# 3) 3L2 +  L1 -> L1\r\n",
        "#    1/2L3 + L3 -> L3\r\n",
        "A3_tmp = add_row(A2, 3, 0, 1)\r\n",
        "A3 = add_row(A3_tmp, 1/2,2,1)\r\n",
        "print(A3)"
      ],
      "execution_count": 44,
      "outputs": [
        {
          "output_type": "stream",
          "text": [
            "[[ 1.   0.  -0.2 -0.8  0.6  0. ]\n",
            " [ 0.   1.  -0.4 -0.6  0.2  0. ]\n",
            " [ 0.   0.  -0.2  1.2 -0.4  1. ]]\n"
          ],
          "name": "stdout"
        }
      ]
    },
    {
      "cell_type": "code",
      "metadata": {
        "colab": {
          "base_uri": "https://localhost:8080/"
        },
        "id": "kGWaa5bUi1o6",
        "outputId": "4e933134-ba47-4e6c-91a2-01c9b437483a"
      },
      "source": [
        "# 4) -2L3 + L1 -> L1\r\n",
        "#    -5L3 -> L3\r\n",
        "A4_tmp = add_row(A3,-2,0,2)\r\n",
        "A4 = scale_row(A4_tmp,-5,2)\r\n",
        "print(A4)"
      ],
      "execution_count": 45,
      "outputs": [
        {
          "output_type": "stream",
          "text": [
            "[[ 1.   0.   0.2 -3.2  1.4 -2. ]\n",
            " [ 0.   1.  -0.4 -0.6  0.2  0. ]\n",
            " [ 0.   0.   1.  -6.   2.  -5. ]]\n"
          ],
          "name": "stdout"
        }
      ]
    },
    {
      "cell_type": "code",
      "metadata": {
        "colab": {
          "base_uri": "https://localhost:8080/"
        },
        "id": "D0_IEbdRcSMP",
        "outputId": "abfab9a9-473f-431c-95fa-9502884ab86a"
      },
      "source": [
        "# 5) -4/5L3 + L1 -> L1\r\n",
        "#    L3 -> L3\r\n",
        "A5_tmp = add_row(A4,4/5,0,2)\r\n",
        "A5 = scale_row(A5_tmp,1,2)\r\n",
        "print(A5)"
      ],
      "execution_count": 46,
      "outputs": [
        {
          "output_type": "stream",
          "text": [
            "[[ 1.   0.   1.  -8.   3.  -6. ]\n",
            " [ 0.   1.  -0.4 -0.6  0.2  0. ]\n",
            " [ 0.   0.   1.  -6.   2.  -5. ]]\n"
          ],
          "name": "stdout"
        }
      ]
    },
    {
      "cell_type": "code",
      "metadata": {
        "colab": {
          "base_uri": "https://localhost:8080/"
        },
        "id": "nx-dB-cKoYGp",
        "outputId": "baf64fc8-c803-4ad5-9c0a-892a212a9534"
      },
      "source": [
        "# 6) -L3 + L1 -> L1\r\n",
        "#     L1 -> L1\r\n",
        "A6_tmp = add_row(A5,-1,0,2)\r\n",
        "A6 = scale_row(A6_tmp,1,0)\r\n",
        "print(A6)"
      ],
      "execution_count": 47,
      "outputs": [
        {
          "output_type": "stream",
          "text": [
            "[[ 1.   0.   0.  -2.   1.  -1. ]\n",
            " [ 0.   1.  -0.4 -0.6  0.2  0. ]\n",
            " [ 0.   0.   1.  -6.   2.  -5. ]]\n"
          ],
          "name": "stdout"
        }
      ]
    },
    {
      "cell_type": "code",
      "metadata": {
        "colab": {
          "base_uri": "https://localhost:8080/"
        },
        "id": "Zvb4pnPVoX_F",
        "outputId": "b85fd288-d630-4791-9e43-7d057403c980"
      },
      "source": [
        "# 7) 6/10L3 + L2 -> L2\r\n",
        "#     L1 -> L1\r\n",
        "A7_tmp = add_row(A6,-6/10,1,2)\r\n",
        "A7 = scale_row(A7_tmp,1,0)\r\n",
        "print(A7)"
      ],
      "execution_count": 48,
      "outputs": [
        {
          "output_type": "stream",
          "text": [
            "[[ 1.  0.  0. -2.  1. -1.]\n",
            " [ 0.  1. -1.  3. -1.  3.]\n",
            " [ 0.  0.  1. -6.  2. -5.]]\n"
          ],
          "name": "stdout"
        }
      ]
    },
    {
      "cell_type": "code",
      "metadata": {
        "colab": {
          "base_uri": "https://localhost:8080/"
        },
        "id": "nlwFQSqBoX71",
        "outputId": "d24f975b-4d46-44b7-86c8-2d6e94691d19"
      },
      "source": [
        "# 8) L3 + L2 -> L2\r\n",
        "#     L1 -> L1\r\n",
        "A8_tmp = add_row(A7,1,1,2)\r\n",
        "A8 = scale_row(A8_tmp,1,0)\r\n",
        "print(A8)"
      ],
      "execution_count": 49,
      "outputs": [
        {
          "output_type": "stream",
          "text": [
            "[[ 1.  0.  0. -2.  1. -1.]\n",
            " [ 0.  1.  0. -3.  1. -2.]\n",
            " [ 0.  0.  1. -6.  2. -5.]]\n"
          ],
          "name": "stdout"
        }
      ]
    },
    {
      "cell_type": "code",
      "metadata": {
        "colab": {
          "base_uri": "https://localhost:8080/"
        },
        "id": "DY4v5loKu3W0",
        "outputId": "7fa91a2d-0491-42da-b8e4-e6de4382d729"
      },
      "source": [
        "# Hemos obtenido la inversa\r\n",
        "M_inv = A8[:,3:]\r\n",
        "print(M_inv)"
      ],
      "execution_count": 50,
      "outputs": [
        {
          "output_type": "stream",
          "text": [
            "[[-2.  1. -1.]\n",
            " [-3.  1. -2.]\n",
            " [-6.  2. -5.]]\n"
          ],
          "name": "stdout"
        }
      ]
    },
    {
      "cell_type": "code",
      "metadata": {
        "id": "DheHWR3YcZDP",
        "colab": {
          "base_uri": "https://localhost:8080/"
        },
        "outputId": "3fcdf89c-22a6-40c0-82b9-6eaabb608557"
      },
      "source": [
        "# El producto de M_inv @ M = I \r\n",
        "result = M_inv @ M\r\n",
        "print(result)"
      ],
      "execution_count": 51,
      "outputs": [
        {
          "output_type": "stream",
          "text": [
            "[[1. 0. 0.]\n",
            " [0. 1. 0.]\n",
            " [0. 0. 1.]]\n"
          ],
          "name": "stdout"
        }
      ]
    },
    {
      "cell_type": "code",
      "metadata": {
        "id": "eX5pXBYYcbca",
        "colab": {
          "base_uri": "https://localhost:8080/"
        },
        "outputId": "9e00e389-38f5-4e92-982f-fdcc1d3d6f70"
      },
      "source": [
        "# Checamos la inversa de M con la función 'la.inv(M)'\r\n",
        "la.inv(M)"
      ],
      "execution_count": 52,
      "outputs": [
        {
          "output_type": "execute_result",
          "data": {
            "text/plain": [
              "array([[-2.,  1., -1.],\n",
              "       [-3.,  1., -2.],\n",
              "       [-6.,  2., -5.]])"
            ]
          },
          "metadata": {
            "tags": []
          },
          "execution_count": 52
        }
      ]
    },
    {
      "cell_type": "markdown",
      "metadata": {
        "id": "hWmvh7B7cfLR"
      },
      "source": [
        "Ejemplo: Resolviendo la ecuación Mx=b\r\n",
        "\r\n",
        "en este caso b esta dado por:\r\n",
        "\r\n",
        "$$\\begin{equation*}\r\n",
        "b = \r\n",
        "\\begin{bmatrix}\r\n",
        "1 \\\\\r\n",
        "5 \\\\\r\n",
        "0 \\\\\r\n",
        "\\end{bmatrix}\r\n",
        "\\end{equation*}$$\r\n",
        "La solución es $x = M^{-1} M x = M^{-1} b$"
      ]
    },
    {
      "cell_type": "code",
      "metadata": {
        "id": "yJXAuoZucj8U",
        "colab": {
          "base_uri": "https://localhost:8080/"
        },
        "outputId": "0fd636e3-b23c-42d8-902e-afb49084e1c1"
      },
      "source": [
        "# definimos b. Recordemos que tenemos que usar la función .reshape()\r\n",
        "b = np.array([1,5,0]).reshape(3,1)\r\n",
        "print(b)"
      ],
      "execution_count": 53,
      "outputs": [
        {
          "output_type": "stream",
          "text": [
            "[[1]\n",
            " [5]\n",
            " [0]]\n"
          ],
          "name": "stdout"
        }
      ]
    },
    {
      "cell_type": "code",
      "metadata": {
        "id": "mogVPzX6crRD",
        "colab": {
          "base_uri": "https://localhost:8080/"
        },
        "outputId": "e77a98aa-2604-4b95-c6ee-5694e340ff5f"
      },
      "source": [
        "# La solución es:\r\n",
        "x = M_inv @ b \r\n",
        "print(x)"
      ],
      "execution_count": 54,
      "outputs": [
        {
          "output_type": "stream",
          "text": [
            "[[3.]\n",
            " [2.]\n",
            " [4.]]\n"
          ],
          "name": "stdout"
        }
      ]
    },
    {
      "cell_type": "markdown",
      "metadata": {
        "id": "8iJWPxSccxyq"
      },
      "source": [
        "Función scipy.linalg.solve()\r\n",
        "\r\n",
        "Podemos usar la función solve() de scipy.linalg"
      ]
    },
    {
      "cell_type": "code",
      "metadata": {
        "id": "bDn4JbQ5czeT",
        "colab": {
          "base_uri": "https://localhost:8080/"
        },
        "outputId": "621e65a3-54d9-4601-8591-5486cd48c4e8"
      },
      "source": [
        "# Resolviendo el sistema de ecuaciones usando scipy.linalg.solve\r\n",
        "x_sol = la.solve(M, b)\r\n",
        "print(x_sol)"
      ],
      "execution_count": 55,
      "outputs": [
        {
          "output_type": "stream",
          "text": [
            "[[3.]\n",
            " [2.]\n",
            " [4.]]\n"
          ],
          "name": "stdout"
        }
      ]
    },
    {
      "cell_type": "markdown",
      "metadata": {
        "id": "mCVw9I6O3i07"
      },
      "source": [
        "**Eigenvalores y eigenvectores.**\r\n",
        "\r\n",
        "En Álgebra Lineal, un eigenvector $\\vec{x}$ (o vector propio), es un vector que cuando se le aplica una transformación lineal $A$, a lo más cambia en escala $\\lambda$, pero no en dirección. A $\\lambda$ se le conoce como eigenvalor (o valor propio).$$\r\n",
        "A \\vec{x} = \\lambda \\vec{x} \r\n",
        "$$La transformación lineal $A$ es representada por una matriz cuadrada $n \\times n$ en un espacio vectorial de $n$ dimensiones, el vector $\\vec{x}$ es un vector de $n \\times 1$ dimensiones.\r\n",
        "\r\n",
        "La ecuación anterior puede escribir como$$\\begin{equation*}\r\n",
        "(A - \\lambda I)\\vec{x} = \\vec{0}\r\n",
        "\\end{equation*}$$Donde $I$ es la matriz identidad $n \\times n$, y $\\vec{0}$ es la matriz cero de $n \\times 1$ dimensiones, al igual que $\\vec{x}$.\r\n",
        "\r\n",
        "Esta última ecuación que $(A - \\lambda I)\\vec{x} = 0$, tiene solución para cualquier $\\vec{x}$, sí y sólo si $det(A - \\lambda I) = 0$.\r\n",
        "\r\n",
        "Los eigenvalores $\\lambda$ deben entonces satisfacer la ecuación o también llamado polinomio característico$$\\begin{equation*}\r\n",
        "|A - \\lambda I| = (\\lambda_1 - \\lambda) (\\lambda_2 - \\lambda) \\cdots (\\lambda_n - \\lambda) \r\n",
        "\\end{equation*}$$donde $\\lambda_1, \\lambda_2, \\ldots , \\lambda_n$ son los eigenvalores de A y raíces del polinomio característico. Las raíces del polinomio pueden ser reales o complejas (pueden ser distintas o haber multiplicidad en ellas)."
      ]
    },
    {
      "cell_type": "markdown",
      "metadata": {
        "id": "_jk0Xmsi3peg"
      },
      "source": [
        "**scipy.linalg.eig**\r\n",
        "\r\n",
        "La biblioteca scipy.linalg.eig regresa los eigenvectore y eigenvalores de una matriz cuadrada A."
      ]
    },
    {
      "cell_type": "code",
      "metadata": {
        "colab": {
          "base_uri": "https://localhost:8080/"
        },
        "id": "ZTz8Ybqv3egX",
        "outputId": "d074a462-cfb7-479c-d463-fbb97796261f"
      },
      "source": [
        "# Ejemplo una matriz 2x2\r\n",
        "A = np.array([[2,1],[1,2]])\r\n",
        "print(A)"
      ],
      "execution_count": 56,
      "outputs": [
        {
          "output_type": "stream",
          "text": [
            "[[2 1]\n",
            " [1 2]]\n"
          ],
          "name": "stdout"
        }
      ]
    },
    {
      "cell_type": "markdown",
      "metadata": {
        "id": "TurYuwPJ3yX0"
      },
      "source": [
        "Para la matriz A\r\n",
        "\r\n",
        "$$\\begin{equation*}\r\n",
        "A = \r\n",
        "\\begin{bmatrix}\r\n",
        "2 & 1 \\\\\r\n",
        "1 & 2 \\\\\r\n",
        "\\end{bmatrix}\r\n",
        "\\end{equation*}$$$$\\begin{equation*}\r\n",
        " \\det(A - \\lambda I) = \r\n",
        " \\begin{bmatrix}\r\n",
        "2 - \\lambda & 1 \\\\\r\n",
        "1 & 2 - \\lambda \\\\\r\n",
        " \\end{bmatrix} = (2  - \\lambda)^2 - 1 =  3 - 4 \\lambda + \\lambda^2 = 0 \r\n",
        "\\end{equation*}$$\r\n",
        "\r\n",
        "Cuyas soluciones son $\\lambda_1=3$ y $\\lambda_2=1$.\r\n",
        "\r\n",
        "- Para $\\lambda_1=3$, la ecuación característica es\r\n",
        "\r\n",
        "$$\\begin{equation*}\r\n",
        "(A - 3I)v_1 = \\begin{bmatrix}\r\n",
        "-1 & 1 \\\\\r\n",
        "1 & -1 \\\\\r\n",
        "\\end{bmatrix} \\begin{bmatrix}\r\n",
        "v_{11} \\\\\r\n",
        "v_{12} \\\\\r\n",
        "\\end{bmatrix} = \r\n",
        "\\begin{bmatrix}\r\n",
        "0 \\\\\r\n",
        "0 \\\\\r\n",
        "\\end{bmatrix}\r\n",
        "\\end{equation*}$$de donde vemos que$$\\begin{equation*}\r\n",
        "-v_{11} + v_{12} = 0 \\qquad \\mathrm{ó} \\qquad v_{11} = v_{12}\r\n",
        "\\end{equation*}$$\r\n",
        "\r\n",
        "Entonces el eigenvector $v_1$ puede ser cualquier vector múltiplo de\r\n",
        "\r\n",
        "$$\\begin{equation*}\r\n",
        "v_1 = c_1 \r\n",
        "\\begin{bmatrix}\r\n",
        "1 \\\\\r\n",
        "1 \\\\\r\n",
        "\\end{bmatrix}\r\n",
        "\\end{equation*}$$\r\n",
        "\r\n",
        "- Para $\\lambda_2=1$, la ecuación característica es$$\\begin{equation*}\r\n",
        "\r\n",
        "(A - I)v_2 = \\begin{bmatrix}\r\n",
        "1 & 1 \\\\\r\n",
        "1 & 1 \\\\\r\n",
        "\\end{bmatrix} \\begin{bmatrix}\r\n",
        "v_{21} \\\\\r\n",
        "v_{22} \\\\\r\n",
        "\\end{bmatrix} = \r\n",
        "\\begin{bmatrix}\r\n",
        "0 \\\\\r\n",
        "0 \\\\\r\n",
        "\\end{bmatrix}\r\n",
        "\\end{equation*}$$de donde vemos que$$\\begin{equation*}\r\n",
        "v_{21} + v_{22} = 0 \\qquad \\mathrm{ó} \\qquad v_{21} = - v_{22}\r\n",
        "\\end{equation*}$$\r\n",
        "\r\n",
        "Entonces el eigenvector $v_2$ puede ser cualquier vector múltiplo de\r\n",
        "\r\n",
        "$$\\begin{equation*}\r\n",
        "v_2 = c_2  \r\n",
        "\\begin{bmatrix}\r\n",
        "1 \\\\\r\n",
        "- 1 \\\\\r\n",
        "\\end{bmatrix}\r\n",
        "\\end{equation*}$$\r\n",
        "\r\n",
        "\r\n",
        "(Puedes apoyarte descargando wxmaxima o usar la calculadora en línea Wolfram Alpha)"
      ]
    },
    {
      "cell_type": "code",
      "metadata": {
        "colab": {
          "base_uri": "https://localhost:8080/"
        },
        "id": "V5iUsdK14c1L",
        "outputId": "6c569dc4-079f-456a-c752-55fb3a63c396"
      },
      "source": [
        "# Aplicamos la biblioteca scipy.linalg.eig()\r\n",
        "eigvals, eigvecs = la.eig(A)\r\n",
        "print('Eigenvalores:', eigvals)\r\n",
        "print('Eigenvectores:', eigvecs)"
      ],
      "execution_count": 57,
      "outputs": [
        {
          "output_type": "stream",
          "text": [
            "Eigenvalores: [3.+0.j 1.+0.j]\n",
            "Eigenvectores: [[ 0.70710678 -0.70710678]\n",
            " [ 0.70710678  0.70710678]]\n"
          ],
          "name": "stdout"
        }
      ]
    },
    {
      "cell_type": "markdown",
      "metadata": {
        "id": "UAtgg96b4hSM"
      },
      "source": [
        "Entonces los eigenvalores son $\\lambda_1 = 3$ y $\\lambda_2=1$ (ambos reales) y los eigenvectores correspondientes: $x_1=\\sqrt(2)/2 \\ v_1$ y $x_2=\\sqrt(2)/2 \\ v_2$"
      ]
    },
    {
      "cell_type": "code",
      "metadata": {
        "colab": {
          "base_uri": "https://localhost:8080/"
        },
        "id": "ZaFvz2nV36qO",
        "outputId": "11a572cb-bfcc-41fe-90e9-24d81edc4196"
      },
      "source": [
        "# Los eigenvectores son linealmente independientes\r\n",
        "v1 = eigvecs[:,0]\r\n",
        "v2 = eigvecs[:,1]\r\n",
        "print('v1=',v1)\r\n",
        "print('v2=',v2)"
      ],
      "execution_count": 58,
      "outputs": [
        {
          "output_type": "stream",
          "text": [
            "v1= [0.70710678 0.70710678]\n",
            "v2= [-0.70710678  0.70710678]\n"
          ],
          "name": "stdout"
        }
      ]
    },
    {
      "cell_type": "code",
      "metadata": {
        "colab": {
          "base_uri": "https://localhost:8080/"
        },
        "id": "iSbGhfS34nIi",
        "outputId": "04d7c1c5-8bba-4a64-c761-f15f878ec2ad"
      },
      "source": [
        "# Calculamos el producto matricial y el producto punto de 2 vectores (linealmente independientes)\r\n",
        "print('Producto matricial:',v1@v2)\r\n",
        "print('Producto escalar:', np.dot(v1,v2.T))"
      ],
      "execution_count": 59,
      "outputs": [
        {
          "output_type": "stream",
          "text": [
            "Producto matricial: 2.2371143170757382e-17\n",
            "Producto escalar: 2.2371143170757382e-17\n"
          ],
          "name": "stdout"
        }
      ]
    },
    {
      "cell_type": "markdown",
      "metadata": {
        "id": "36kGSIcm4o-v"
      },
      "source": [
        "\r\n",
        "Un resultado interesante del Álgebra Lineal postula que una matriz cuadrada M (nxn) es diagonalizable si y sólo si tiene n eigenvalores distintos o eigenvectores independientes.\r\n",
        "\r\n",
        "Se puede escribir M como el producto$$\\begin{equation*}\r\n",
        "M = P D P^{-1}\r\n",
        "\\end{equation*}$$\r\n",
        "\r\n",
        "donde $D$ es la matriz diagonal de los eigenvalores y $P$ es la matriz formada por los eigenvectores."
      ]
    },
    {
      "cell_type": "code",
      "metadata": {
        "colab": {
          "base_uri": "https://localhost:8080/"
        },
        "id": "ns2uHxad4tTU",
        "outputId": "894c3eb5-dc5b-469a-f5f7-c32bbc2df0c1"
      },
      "source": [
        "# Formamos la matriz de los eigenvectores\r\n",
        "P = np.array([[1,1],[1,-1]])\r\n",
        "print(P)"
      ],
      "execution_count": 60,
      "outputs": [
        {
          "output_type": "stream",
          "text": [
            "[[ 1  1]\n",
            " [ 1 -1]]\n"
          ],
          "name": "stdout"
        }
      ]
    },
    {
      "cell_type": "code",
      "metadata": {
        "colab": {
          "base_uri": "https://localhost:8080/"
        },
        "id": "tJQXSn_x4uz5",
        "outputId": "c4c3b219-f522-44b6-e37d-3c6bd0116203"
      },
      "source": [
        "# La matriz de los eigenvalores en la diagonal la definimos con\r\n",
        "D = np.diag((3,1))\r\n",
        "print(D)"
      ],
      "execution_count": 61,
      "outputs": [
        {
          "output_type": "stream",
          "text": [
            "[[3 0]\n",
            " [0 1]]\n"
          ],
          "name": "stdout"
        }
      ]
    },
    {
      "cell_type": "code",
      "metadata": {
        "colab": {
          "base_uri": "https://localhost:8080/"
        },
        "id": "_ANc5nMY4w0R",
        "outputId": "b7017921-999f-4982-f34f-05797695da85"
      },
      "source": [
        "# Calculamos M = P D P^{-1}\r\n",
        "# Veremos que es la matriz A\r\n",
        "\r\n",
        "M = P @ D @ la.inv(P)\r\n",
        "print(M)"
      ],
      "execution_count": 62,
      "outputs": [
        {
          "output_type": "stream",
          "text": [
            "[[2. 1.]\n",
            " [1. 2.]]\n"
          ],
          "name": "stdout"
        }
      ]
    },
    {
      "cell_type": "markdown",
      "metadata": {
        "id": "4LfzEQAv4y07"
      },
      "source": [
        "**Potencias de una matriz $M^k$**\r\n",
        "\r\n",
        "Si M es una matriz cuadrada, $M^k = M \\cdot M \\cdot M \\cdots M$ (k-veces) puede resultar muy intenso computacionalmente.\r\n",
        "\r\n",
        "Si M es diagonalizable, entonces$$\\begin{equation*}\r\n",
        "M^k = P D P^{-1} \\cdot P D P^{-1} \\cdot P D P^{-1} \\cdots P D P^{-1} = P D^k P^{-1}\r\n",
        "\\end{equation*}$$\r\n",
        "\r\n",
        "Veamos un ejemplo de calcular la potencia $k=25$ de $M$, $M^{25}$ y mediremos el tiempo de cálculo."
      ]
    },
    {
      "cell_type": "code",
      "metadata": {
        "colab": {
          "base_uri": "https://localhost:8080/"
        },
        "id": "ztyx5gqm44rD",
        "outputId": "3d7c81fa-3233-4946-bc48-4ca4b0a15ea0"
      },
      "source": [
        "# Calculamos la potencia k=25\r\n",
        "k=25\r\n",
        "P_inv = la.inv(P)\r\n",
        "\r\n",
        "print('La matriz de eigenvectores:',P)\r\n",
        "print('La matriz inversa de P: ', P_inv)"
      ],
      "execution_count": 63,
      "outputs": [
        {
          "output_type": "stream",
          "text": [
            "La matriz de eigenvectores: [[ 1  1]\n",
            " [ 1 -1]]\n",
            "La matriz inversa de P:  [[ 0.5  0.5]\n",
            " [ 0.5 -0.5]]\n"
          ],
          "name": "stdout"
        }
      ]
    },
    {
      "cell_type": "code",
      "metadata": {
        "colab": {
          "base_uri": "https://localhost:8080/"
        },
        "id": "B1-xOncH46S_",
        "outputId": "3cec503c-7bdc-49c7-f6f7-b77cddd04614"
      },
      "source": [
        "# La multilicación de M consigo misma k=25 veces\r\n",
        "# Calculamos el tiempo de cómputo.\r\n",
        "%%timeit\r\n",
        "result = M.copy()\r\n",
        "for _ in range(1,k):\r\n",
        "    result = result @ M"
      ],
      "execution_count": 64,
      "outputs": [
        {
          "output_type": "stream",
          "text": [
            "The slowest run took 20.27 times longer than the fastest. This could mean that an intermediate result is being cached.\n",
            "10000 loops, best of 5: 31.6 µs per loop\n"
          ],
          "name": "stdout"
        }
      ]
    },
    {
      "cell_type": "code",
      "metadata": {
        "colab": {
          "base_uri": "https://localhost:8080/"
        },
        "id": "DBUCpMWe49Nf",
        "outputId": "3169ecfc-9c51-4b3b-9789-852affbb2962"
      },
      "source": [
        "# Ahora calculamos usando la propiedad de diagonalización de M\r\n",
        "# Calculamos el tiempo de la operación\r\n",
        "%%timeit\r\n",
        "P @ D**k @ P_inv"
      ],
      "execution_count": 65,
      "outputs": [
        {
          "output_type": "stream",
          "text": [
            "The slowest run took 24.39 times longer than the fastest. This could mean that an intermediate result is being cached.\n",
            "100000 loops, best of 5: 4.24 µs per loop\n"
          ],
          "name": "stdout"
        }
      ]
    },
    {
      "cell_type": "markdown",
      "metadata": {
        "id": "6KkLmL2P5BGg"
      },
      "source": [
        "**Ejercicio 4:**\r\n",
        "\r\n",
        "Dadas las siguientes matrices $B_1, B_2$ y $B_3$\r\n",
        "\r\n",
        "(Ejemplos del artículo de Wikipedia sobre Eigenvalores y Eigenvectores)\r\n",
        "\r\n",
        "$$\\begin{equation*}\r\n",
        "B_1 = \\begin{bmatrix}\r\n",
        "2 & 0 & 0 \\\\\r\n",
        "0 & 3 & 4 \\\\\r\n",
        "0 & 4 & 9 \\\\\r\n",
        "\\end{bmatrix}\r\n",
        "\\end{equation*}$$$$\\begin{equation*}\r\n",
        "B_2 = \\begin{bmatrix}\r\n",
        "0 & 1 & 0 \\\\\r\n",
        "0 & 0 & 1 \\\\\r\n",
        "1 & 0 & 0 \\\\\r\n",
        "\\end{bmatrix}\r\n",
        "\\end{equation*}$$$$\\begin{equation*}\r\n",
        "B_3 = \\begin{bmatrix}\r\n",
        "2 & 0 & 0 & 0\\\\\r\n",
        "1 & 2 & 0 & 0 \\\\\r\n",
        "0 & 1 &3 & 0 \\\\\r\n",
        "0 & 0 & 1 & 3 \\\\\r\n",
        "\\end{bmatrix}\r\n",
        "\\end{equation*}$$\r\n",
        "\r\n",
        "Encuentra los eigenvalores y eigenvectores de cada matriz utilizando la función de scipy.linalg.eig(), y contrasta tus resultados en cada caso con los que se desarrollan en los ejemplos de la Wikipedia."
      ]
    },
    {
      "cell_type": "code",
      "metadata": {
        "id": "58bWXLS95U6X",
        "colab": {
          "base_uri": "https://localhost:8080/"
        },
        "outputId": "415bed3a-e60a-4002-8a0e-894eedbc58e6"
      },
      "source": [
        "# Matriz B1 de 3x3\r\n",
        "B1 = np.array([[2,0,0],[0,3,4],[0,4,9]])\r\n",
        "print(B1)"
      ],
      "execution_count": 67,
      "outputs": [
        {
          "output_type": "stream",
          "text": [
            "[[2 0 0]\n",
            " [0 3 4]\n",
            " [0 4 9]]\n"
          ],
          "name": "stdout"
        }
      ]
    },
    {
      "cell_type": "code",
      "metadata": {
        "id": "z4UXvvi4IGnx",
        "colab": {
          "base_uri": "https://localhost:8080/"
        },
        "outputId": "f42ab309-bba0-4943-aaf6-ca2fbbc66495"
      },
      "source": [
        "# Aplicamos la biblioteca scipy.linalg.eig()\r\n",
        "eigvalsB1, eigvecsB1 = la.eig(B1)\r\n",
        "print('Eigenvalores:', eigvalsB1)\r\n",
        "print('Eigenvectores:', )\r\n",
        "v1 = eigvecsB1[:,0]\r\n",
        "v2 = eigvecsB1[:,1]\r\n",
        "v3 = eigvecsB1[:,2]\r\n",
        "print('v1=',v1)\r\n",
        "print('v2=',v2)\r\n",
        "print('v3=',v3)"
      ],
      "execution_count": 79,
      "outputs": [
        {
          "output_type": "stream",
          "text": [
            "Eigenvalores: [11.+0.j  1.+0.j  2.+0.j]\n",
            "Eigenvectores:\n",
            "v1= [0.         0.4472136  0.89442719]\n",
            "v2= [ 0.          0.89442719 -0.4472136 ]\n",
            "v3= [1. 0. 0.]\n"
          ],
          "name": "stdout"
        }
      ]
    },
    {
      "cell_type": "code",
      "metadata": {
        "id": "5cIkNMIEHsAg",
        "colab": {
          "base_uri": "https://localhost:8080/"
        },
        "outputId": "fafab66e-5c2c-4f56-8c23-4618c8784d8b"
      },
      "source": [
        "# Matriz B2 de 3x3\r\n",
        "B2 = np.array([[0,1,0],[0,0,1],[1,0,0]])\r\n",
        "print(B2)"
      ],
      "execution_count": 80,
      "outputs": [
        {
          "output_type": "stream",
          "text": [
            "[[0 1 0]\n",
            " [0 0 1]\n",
            " [1 0 0]]\n"
          ],
          "name": "stdout"
        }
      ]
    },
    {
      "cell_type": "code",
      "metadata": {
        "colab": {
          "base_uri": "https://localhost:8080/"
        },
        "id": "484HR75NDMBw",
        "outputId": "b5fe80eb-b6e7-4b82-b2d0-75b49ed3f595"
      },
      "source": [
        "eigvalsB2, eigvecsB2 = la.eig(B2)\r\n",
        "print('Eigenvalores:', eigvalsB2)\r\n",
        "print('Eigenvectores:', )\r\n",
        "v1 = eigvecsB2[:,0]\r\n",
        "v2 = eigvecsB2[:,1]\r\n",
        "v3 = eigvecsB2[:,2]\r\n",
        "print('v1=',v1)\r\n",
        "print('v2=',v2)\r\n",
        "print('v3=',v3)"
      ],
      "execution_count": 81,
      "outputs": [
        {
          "output_type": "stream",
          "text": [
            "Eigenvalores: [-0.5+0.8660254j -0.5-0.8660254j  1. +0.j       ]\n",
            "Eigenvectores:\n",
            "v1= [ 0.57735027+0.j  -0.28867513+0.5j -0.28867513-0.5j]\n",
            "v2= [ 0.57735027-0.j  -0.28867513-0.5j -0.28867513+0.5j]\n",
            "v3= [-0.57735027+0.j -0.57735027+0.j -0.57735027+0.j]\n"
          ],
          "name": "stdout"
        }
      ]
    },
    {
      "cell_type": "code",
      "metadata": {
        "colab": {
          "base_uri": "https://localhost:8080/"
        },
        "id": "RuY5E7B-Hrpo",
        "outputId": "d7f73ce5-c2bf-439a-bb3d-cd1b6bcd0ad8"
      },
      "source": [
        "# Matriz B3 de 3x3\r\n",
        "B3 = np.array([[2,0,0,0],[1,2,0,0],[0,1,3,0],[0,0,1,3]])\r\n",
        "print(B3)"
      ],
      "execution_count": 82,
      "outputs": [
        {
          "output_type": "stream",
          "text": [
            "[[2 0 0 0]\n",
            " [1 2 0 0]\n",
            " [0 1 3 0]\n",
            " [0 0 1 3]]\n"
          ],
          "name": "stdout"
        }
      ]
    },
    {
      "cell_type": "code",
      "metadata": {
        "colab": {
          "base_uri": "https://localhost:8080/"
        },
        "id": "YeJsUY6ADoMo",
        "outputId": "f0303e47-aed2-420a-cd8d-f6babc24ab5a"
      },
      "source": [
        "eigvalsB3, eigvecsB3 = la.eig(B3)\r\n",
        "print('Eigenvalores:', eigvalsB3)\r\n",
        "print('Eigenvectores:', )\r\n",
        "v1 = eigvecsB3[:,0]\r\n",
        "v2 = eigvecsB3[:,1]\r\n",
        "v3 = eigvecsB3[:,2]\r\n",
        "v4 = eigvecsB3[:,3]\r\n",
        "print('v1=',v1)\r\n",
        "print('v2=',v2)\r\n",
        "print('v3=',v3)\r\n",
        "print('v4=',v4)"
      ],
      "execution_count": 84,
      "outputs": [
        {
          "output_type": "stream",
          "text": [
            "Eigenvalores: [3.+0.j 3.+0.j 2.+0.j 2.+0.j]\n",
            "Eigenvectores:\n",
            "v1= [0. 0. 0. 1.]\n",
            "v2= [ 0.00000000e+00  0.00000000e+00  6.66133815e-16 -1.00000000e+00]\n",
            "v3= [ 0.          0.57735027 -0.57735027  0.57735027]\n",
            "v4= [ 2.56395025e-16 -5.77350269e-01  5.77350269e-01 -5.77350269e-01]\n"
          ],
          "name": "stdout"
        }
      ]
    },
    {
      "cell_type": "markdown",
      "metadata": {
        "id": "lbMdqjwHBU7R"
      },
      "source": [
        "**Aplicaciones de sistemas de ecuaciones lineales.**\r\n",
        "\r\n",
        "**Interpolación polinomial.**\r\n",
        "\r\n",
        "Supongamos que tenemos una función $p(x)$ que deseamos interpolar de la forma\r\n",
        "\r\n",
        "$$\\begin{equation*}\r\n",
        "p(x) = a_n x^n + a_{n-1} x^{n-1} + a_{n-2} x^{n-2} + \\cdots + a_2 x^2 + a_1 x + a_0 \r\n",
        "\\end{equation*}$$\r\n",
        "Si p(x) interpola un conjunto de puntos dados, entonces se tiene que\r\n",
        "\r\n",
        "$$\\begin{equation*}\r\n",
        "p(x_i) = y_i \\qquad \\forall i \\in \\{0, 1, \\ldots , n\\}\r\n",
        "\\end{equation*}$$\r\n",
        "Substituimos entonces la primera ecuación en el último conjunto de ecuaciones obtenemos un sistema de ecuaciones lineales de los coeficientes desconocidos $a_k$ con $k=0,1,\\ldots,n$.\r\n",
        "\r\n",
        "$$\\begin{equation*}\r\n",
        "\\begin{bmatrix}\r\n",
        "x_0^n & x_0^{n-1} & x_0^{n-2} & \\cdots & x_0 & 1 \\\\\r\n",
        "x_1^n & x_1^{n-1} & x_1^{n-2} & \\cdots & x_1 & 1 \\\\\r\n",
        "\\vdots & \\vdots & \\vdots &     & \\vdots & \\vdots \\\\  \r\n",
        "x_n^n & x_n^{n-1} & x_n^{n-2} & \\cdots & x_n & 1 \\\\\r\n",
        "\\end{bmatrix}\r\n",
        "\\begin{bmatrix}\r\n",
        "a_n \\\\ \r\n",
        "a_{n-1} \\\\ \r\n",
        "\\vdots \\\\\r\n",
        " a_0 \\\\\r\n",
        "\\end{bmatrix}\r\n",
        "=\r\n",
        "\\begin{bmatrix}\r\n",
        "y_0 \\\\\r\n",
        "y_1 \\\\\r\n",
        "\\vdots \\\\\r\n",
        "y_n \\\\\r\n",
        "\\end{bmatrix}\r\n",
        "\\end{equation*}$$\r\n",
        "La ecuación matricial anterior la podemos expresar como\r\n",
        "\r\n",
        "$$\\begin{equation*}\r\n",
        "X \\vec{a} = \\vec{y}\r\n",
        "\\end{equation*}$$\r\n",
        "A la matriz de la izquierda $X$, se le conoce como la matriz de Vandermonde. En la gráfica siguiente, se muestra un polinomio interpolante $p(x)$ en azul, y los puntos rojos son los puntos conocidos que deseamos interpolar."
      ]
    },
    {
      "cell_type": "markdown",
      "metadata": {
        "id": "2IbpCw4TBhxD"
      },
      "source": [
        "**Ejemplo 1: Interpolación.**\r\n",
        " Supongamos que conocemos un conjunto de 3 puntos $(x_0, y_0)$, $(x_1, y_1)$ y $(x_1, y_1)$. Buscamos entonces encontrar un polinomio de orden 2 que pase por esos 3 puntos.\r\n",
        "\r\n",
        "La parábola $p(x) = a_0 + a_1 x + a_2 x^2$ pasa por esos puntos si se satisfacen el siguiente sistema de ecuaciones\r\n",
        "\r\n",
        "$$\\begin{eqnarray*}\r\n",
        "a_0 + a_1 x_0 + a_2 x_0^2 & = & y_0 \\\\\r\n",
        "a_0 + a_1 x_1 + a_2 x_1^2 & = & y_1 \\\\\r\n",
        "a_0 + a_1 x_2 + a_2 x_2^2 & = & y_2 \\\\\r\n",
        "\\end{eqnarray*}$$\r\n",
        "Busquemos una parábola que pasa por los 3 puntos: $(0,6)$, $(3,1)$ y $(8,2)$.\r\n",
        "\r\n",
        "Entonces la matriz de Vandermonde que pasa por los puntos"
      ]
    },
    {
      "cell_type": "code",
      "metadata": {
        "colab": {
          "base_uri": "https://localhost:8080/"
        },
        "id": "d55KpEAcBkCM",
        "outputId": "8f40174f-5a92-4206-83b3-a80ad51e2fc1"
      },
      "source": [
        "# Matriz de Vandermonde X para una parábola que pasa por x=0,3,8\r\n",
        "x = np.array([0,3,8])\r\n",
        "X = np.column_stack([[1,1,1],x,x**2])\r\n",
        "print(X)"
      ],
      "execution_count": 85,
      "outputs": [
        {
          "output_type": "stream",
          "text": [
            "[[ 1  0  0]\n",
            " [ 1  3  9]\n",
            " [ 1  8 64]]\n"
          ],
          "name": "stdout"
        }
      ]
    },
    {
      "cell_type": "code",
      "metadata": {
        "colab": {
          "base_uri": "https://localhost:8080/"
        },
        "id": "Nv7q8zKvBl4O",
        "outputId": "5ee407f0-ae88-4982-b92e-2ed2737f57fc"
      },
      "source": [
        "# El vector y que pasa por y=6,1,2\r\n",
        "y = np.array([6,1,2]).reshape(3,1)\r\n",
        "print(y)"
      ],
      "execution_count": 86,
      "outputs": [
        {
          "output_type": "stream",
          "text": [
            "[[6]\n",
            " [1]\n",
            " [2]]\n"
          ],
          "name": "stdout"
        }
      ]
    },
    {
      "cell_type": "code",
      "metadata": {
        "colab": {
          "base_uri": "https://localhost:8080/"
        },
        "id": "7Z9YzZL0BnKQ",
        "outputId": "20a04d40-07b7-4153-b05f-aaa8d3c18e3c"
      },
      "source": [
        "# Resolvemos la ecuación Xa = y, para los coeficientes desconocidos a\r\n",
        "# Usamos la función scipy.linalg.solve()\r\n",
        "a = la.solve(X,y)\r\n",
        "print(a)"
      ],
      "execution_count": 87,
      "outputs": [
        {
          "output_type": "stream",
          "text": [
            "[[ 6.        ]\n",
            " [-2.36666667]\n",
            " [ 0.23333333]]\n"
          ],
          "name": "stdout"
        }
      ]
    },
    {
      "cell_type": "code",
      "metadata": {
        "colab": {
          "base_uri": "https://localhost:8080/",
          "height": 295
        },
        "id": "6sIfJkCyBqDv",
        "outputId": "15a875ac-d889-4ee2-c0ea-301a3a1ad083"
      },
      "source": [
        "# Graficamos los resultados del polinomio interpolante de coeficientes a[0], a[1], y a[2]\r\n",
        "# Sobreponemos en la gráfica los puntos conocidos en azul con puntos ('b.')\r\n",
        "xs = np.linspace(0,8,20)\r\n",
        "ys = a[0] + a[1]*xs + a[2]*xs**2\r\n",
        "plt.plot(xs,ys,x,y,'b.',ms=20)\r\n",
        "plt.grid()\r\n",
        "plt.title('Polinomio interpolante p(x)')\r\n",
        "plt.xlabel('x')\r\n",
        "plt.ylabel('y')\r\n",
        "plt.show()"
      ],
      "execution_count": 88,
      "outputs": [
        {
          "output_type": "display_data",
          "data": {
            "image/png": "[encoded data removed]",
            "text/plain": [
              "<Figure size 432x288 with 1 Axes>"
            ]
          },
          "metadata": {
            "tags": [],
            "needs_background": "light"
          }
        }
      ]
    },
    {
      "cell_type": "markdown",
      "metadata": {
        "id": "kTjEGdeFBsmT"
      },
      "source": [
        "**Ejemplo 2: Interpolación.**\r\n",
        "Ahora buscaremos un polinomio que pasa por 10 puntos: $(0,y_0), (1,y_1), \\ldots , (9,y_9)$, donde $y_k$ son 10 números aleatorios."
      ]
    },
    {
      "cell_type": "code",
      "metadata": {
        "colab": {
          "base_uri": "https://localhost:8080/",
          "height": 295
        },
        "id": "-YefqEPtBukq",
        "outputId": "661bfc1b-5d97-4f98-9b2d-8e433cd68890"
      },
      "source": [
        "# Generamos los 10 puntos aleatorios entre 0 y 10.\r\n",
        "# graficamos los puntos aleatorios en rojo con puntos ('r.')\r\n",
        "N = 10\r\n",
        "x = np.arange(0,N)\r\n",
        "y = np.random.randint(0,10,N)\r\n",
        "plt.plot(x,y,'r.')\r\n",
        "plt.grid()\r\n",
        "plt.title('Puntos aleatorios que deseamos interpolar')\r\n",
        "plt.xlabel('x')\r\n",
        "plt.ylabel('y')\r\n",
        "plt.show()"
      ],
      "execution_count": 89,
      "outputs": [
        {
          "output_type": "display_data",
          "data": {
            "image/png": "[encoded data removed]",
            "text/plain": [
              "<Figure size 432x288 with 1 Axes>"
            ]
          },
          "metadata": {
            "tags": [],
            "needs_background": "light"
          }
        }
      ]
    },
    {
      "cell_type": "code",
      "metadata": {
        "colab": {
          "base_uri": "https://localhost:8080/"
        },
        "id": "0CyrJfNHBym9",
        "outputId": "d3942fb8-7bea-4280-8197-b8b36c81f180"
      },
      "source": [
        "# Creamos la matriz de Vandemonde, e imprimimos los primeros 5 renglones y columnas\r\n",
        "X = np.column_stack([x**k for k in range(0,N)])\r\n",
        "print(X[:5,:5])"
      ],
      "execution_count": 90,
      "outputs": [
        {
          "output_type": "stream",
          "text": [
            "[[  1   0   0   0   0]\n",
            " [  1   1   1   1   1]\n",
            " [  1   2   4   8  16]\n",
            " [  1   3   9  27  81]\n",
            " [  1   4  16  64 256]]\n"
          ],
          "name": "stdout"
        }
      ]
    },
    {
      "cell_type": "code",
      "metadata": {
        "colab": {
          "base_uri": "https://localhost:8080/"
        },
        "id": "VPQFHjd5B0F7",
        "outputId": "9bfaffeb-c605-4c6e-cc42-d3bda4c0305f"
      },
      "source": [
        "\r\n",
        "# La biblioteca Numpy tambien tiene una función para crear la matriz de Vandermonde\r\n",
        "X = np.vander(x,increasing=True)\r\n",
        "# Sólo imprimimos los primeros 5 renglones y columnas.\r\n",
        "print(X[:5,:5])"
      ],
      "execution_count": 91,
      "outputs": [
        {
          "output_type": "stream",
          "text": [
            "[[  1   0   0   0   0]\n",
            " [  1   1   1   1   1]\n",
            " [  1   2   4   8  16]\n",
            " [  1   3   9  27  81]\n",
            " [  1   4  16  64 256]]\n"
          ],
          "name": "stdout"
        }
      ]
    },
    {
      "cell_type": "code",
      "metadata": {
        "colab": {
          "base_uri": "https://localhost:8080/"
        },
        "id": "WJY16cKDB0eh",
        "outputId": "a30dde04-959c-42df-b531-d628e08a1be1"
      },
      "source": [
        "# Usamos la función de scipy.linalg.solve(), para encontrar los 10 coeficientes\r\n",
        "# de la ecuación lineal Xa=y\r\n",
        "a = la.solve(X,y)\r\n",
        "print(a)"
      ],
      "execution_count": 92,
      "outputs": [
        {
          "output_type": "stream",
          "text": [
            "[ 4.00000000e+00 -1.35734127e+01  6.54165674e+01 -9.38624118e+01\n",
            "  6.23630208e+01 -2.25013310e+01  4.68437500e+00 -5.61888227e-01\n",
            "  3.60367063e-02 -9.56238977e-04]\n"
          ],
          "name": "stdout"
        }
      ]
    },
    {
      "cell_type": "code",
      "metadata": {
        "colab": {
          "base_uri": "https://localhost:8080/",
          "height": 295
        },
        "id": "FEfMhJQCB2Vx",
        "outputId": "3218fb26-318a-42f2-ba50-624feac5a4a2"
      },
      "source": [
        "# Graficamos el polinomio interpolante y los puntos interpolados\r\n",
        "# Los puntos interpolados en rojo ('r.')\r\n",
        "xs = np.linspace(0,N-1,200)\r\n",
        "ys = sum([a[k]*xs**k for k in range(0,N)])\r\n",
        "plt.plot(x,y,'r.',xs,ys)\r\n",
        "plt.grid()\r\n",
        "plt.title('Polinomio interpolante p(x)')\r\n",
        "plt.xlabel('x')\r\n",
        "plt.ylabel('y')\r\n",
        "plt.show()"
      ],
      "execution_count": 93,
      "outputs": [
        {
          "output_type": "display_data",
          "data": {
            "image/png": "[encoded data removed]",
            "text/plain": [
              "<Figure size 432x288 with 1 Axes>"
            ]
          },
          "metadata": {
            "tags": [],
            "needs_background": "light"
          }
        }
      ]
    },
    {
      "cell_type": "code",
      "metadata": {
        "id": "4TIyX5VqB4L1"
      },
      "source": [
        ""
      ],
      "execution_count": 93,
      "outputs": []
    },
    {
      "cell_type": "markdown",
      "metadata": {
        "id": "YjOTUi0AB6GF"
      },
      "source": [
        "Observamos que el polinomio interpolante oscila mucho cerca de los extremos. Cuando se tengan muchos puntos, no será deseable hacer una interpolación. Será mejor ajustar un polinomio de orden menor, usando alguna regresión lineal o cuadrática (por ej. ajuste de mínimos cuadrados)."
      ]
    },
    {
      "cell_type": "markdown",
      "metadata": {
        "id": "zEpgR9T0B9F-"
      },
      "source": [
        "**Regresión Lineal de Mínimos Cuadrados.**\r\n",
        "\r\n",
        "Supongamos que tenemos $(n+1)$ puntos $(x_0, y_0), (x_1,y_1), \\ldots , (x_n, y_n)$ en el plano y deseamos ajustar una curva $y = a_0 + a_1 x$ que \"mejor ajuste\" al conjunto de datos.\r\n",
        "\r\n",
        "El método que \"mejor ajusta\", es el método de regresión lineal, dado que minimiza la suma de los errores cuadrados $SSE$.\r\n",
        "\r\n",
        "$$\\begin{equation*}\r\n",
        "SSE = \\sum_i (y_i - (a_0 + a_1 x_i))^2\r\n",
        "\\end{equation*}$$\r\n",
        "En forma matricial, la regresión lineal se puede expresar como\r\n",
        "\r\n",
        "$$\\begin{equation*}\r\n",
        "X = \r\n",
        "\\begin{bmatrix}\r\n",
        "1 & x_1 \\\\\r\n",
        "1 & x_2 \\\\\r\n",
        "\\vdots & \\vdots \\\\\r\n",
        "1 & x_n \\\\\r\n",
        "\\end{bmatrix}, \\vec{y} = \r\n",
        "\\begin{bmatrix}\r\n",
        " y_1 \\\\\r\n",
        " y_2 \\\\\r\n",
        "\\vdots \\\\\r\n",
        " y_n \\\\\r\n",
        "\\end{bmatrix}, \\vec{a} = \r\n",
        "\\begin{bmatrix}\r\n",
        "a_0 \\\\\r\n",
        "a_1 \\\\\r\n",
        "\\end{bmatrix}\r\n",
        "\\end{equation*}$$\r\n",
        "y la $SSE$ se puede resumir como$$\\begin{equation*}\r\n",
        "SSE = || \\vec{y} - X \\vec{a} ||^2\r\n",
        "\\end{equation*}$$\r\n",
        "\r\n",
        "Los coeficientes $\\vec{a}$ que minimizan la ecuación anterior, tiene solución única si y sólo si las columnas de la matriz $X$ son linealmente independientes. La matriz $X^T X$ es simétrica y por lo tanto diagonalizable. Multiplicaremos por $X^T$ por la izquierda la ecuación anterior y resulta:\r\n",
        "\r\n",
        "$$\\begin{eqnarray*}\r\n",
        "(\\vec{y} - X \\vec{a}) & = & 0 \\\\\r\n",
        "X^T (\\vec{y} - X \\vec{a}) & = & 0 \\\\\r\n",
        "X^T \\vec{y} - (X^T X) \\vec{a} & = & 0 \\\\\r\n",
        "(X^T X) \\vec{a} & = & X^T \\vec{y}\r\n",
        "\\end{eqnarray*}$$\r\n",
        "La última ecuación habrá que resolverla para $\\vec{a}$."
      ]
    },
    {
      "cell_type": "markdown",
      "metadata": {
        "id": "Tdk39Q7sB_AF"
      },
      "source": [
        "**Ejemplo: Regresión Lineal.**\r\n",
        "\r\n",
        "Ajustaremos un línea recta a una colección de puntos aleatorios que generaremos alrededor de una recta $y = a_0 + a_1 x + \\epsilon$, donde $\\epsilon$ es una variable aleatoria con distribución normal. Utilizaremos la función numpy.random.rand()."
      ]
    },
    {
      "cell_type": "code",
      "metadata": {
        "colab": {
          "base_uri": "https://localhost:8080/",
          "height": 295
        },
        "id": "0TaWynhTCAsb",
        "outputId": "f9350544-327c-4727-ffb7-307f05ec4a9a"
      },
      "source": [
        "# Datos aleatorios que yacen alrededor de una recta\r\n",
        "# Coeficientes de la recta\r\n",
        "a0 = 2\r\n",
        "a1 = 3\r\n",
        "# Número de puntos entre (0,1)\r\n",
        "N = 100\r\n",
        "x = np.random.rand(100)\r\n",
        "# Ruido gaussiano\r\n",
        "noise = 0.2*np.random.randn(100)\r\n",
        "# Agregamos el ruido a la recta\r\n",
        "y = a0 + a1*x + noise\r\n",
        "\r\n",
        "plt.scatter(x,y);\r\n",
        "plt.grid()\r\n",
        "plt.title('Datos aleatorios')\r\n",
        "plt.xlabel('x')\r\n",
        "plt.ylabel('y')\r\n",
        "plt.show()"
      ],
      "execution_count": 94,
      "outputs": [
        {
          "output_type": "display_data",
          "data": {
            "image/png": "[encoded data removed]",
            "text/plain": [
              "<Figure size 432x288 with 1 Axes>"
            ]
          },
          "metadata": {
            "tags": [],
            "needs_background": "light"
          }
        }
      ]
    },
    {
      "cell_type": "code",
      "metadata": {
        "colab": {
          "base_uri": "https://localhost:8080/"
        },
        "id": "6yu8ld36CDnE",
        "outputId": "c7b94687-7c44-451d-b7f7-d97716a4bff1"
      },
      "source": [
        "# Creamos la matriz X, con 1's en la primera columna y los puntos x_k en la segunda.\r\n",
        "X = np.column_stack([np.ones(N),x])\r\n",
        "print('Shape:', X.shape)\r\n",
        "# Imprimimos los primeros 5 renglones para verificar\r\n",
        "print(X[:5,:])"
      ],
      "execution_count": 95,
      "outputs": [
        {
          "output_type": "stream",
          "text": [
            "Shape: (100, 2)\n",
            "[[1.         0.28103267]\n",
            " [1.         0.41198275]\n",
            " [1.         0.61508684]\n",
            " [1.         0.82539063]\n",
            " [1.         0.67929571]]\n"
          ],
          "name": "stdout"
        }
      ]
    },
    {
      "cell_type": "code",
      "metadata": {
        "colab": {
          "base_uri": "https://localhost:8080/"
        },
        "id": "BKk8TleiCGDI",
        "outputId": "19f329a4-2164-4323-bdd9-dba151d0dbda"
      },
      "source": [
        "# Usamos la función scipy.linalg.solve() para resolver la ecuación X.T@X@a = X.T@y respecto a 'a'\r\n",
        "a = la.solve(X.T @ X, X.T @ y)\r\n",
        "print(a)"
      ],
      "execution_count": 96,
      "outputs": [
        {
          "output_type": "stream",
          "text": [
            "[2.02211168 2.95751035]\n"
          ],
          "name": "stdout"
        }
      ]
    },
    {
      "cell_type": "code",
      "metadata": {
        "colab": {
          "base_uri": "https://localhost:8080/",
          "height": 295
        },
        "id": "n589unvBCHXG",
        "outputId": "e87c1653-f340-4739-a4c0-5405e35ea558"
      },
      "source": [
        "# Graficamos el ajuste con esos 2 coeficientes de la regresión y = a_0 + a_1 x \r\n",
        "xs = np.linspace(0,1,10) # 10 pts entre cero y 1\r\n",
        "ys = a[0] + a[1]*xs\r\n",
        "plt.plot(xs,ys,'r',linewidth=4)\r\n",
        "plt.scatter(x,y);\r\n",
        "plt.grid()\r\n",
        "plt.title('Ajuste mediante Regresión Lineal de los datos')\r\n",
        "plt.xlabel('x')\r\n",
        "plt.ylabel('y')\r\n",
        "plt.show()"
      ],
      "execution_count": 97,
      "outputs": [
        {
          "output_type": "display_data",
          "data": {
            "image/png": "[encoded data removed]",
            "text/plain": [
              "<Figure size 432x288 with 1 Axes>"
            ]
          },
          "metadata": {
            "tags": [],
            "needs_background": "light"
          }
        }
      ]
    },
    {
      "cell_type": "code",
      "metadata": {
        "id": "rveECu7DCJgp",
        "colab": {
          "base_uri": "https://localhost:8080/",
          "height": 295
        },
        "outputId": "e1ec22d7-1e87-40fc-b374-bebbbf8babcd"
      },
      "source": [
        "# Los coeficientes para gererar los datos\r\n",
        "a0 = 3\r\n",
        "a1 = 5\r\n",
        "a2 = 8\r\n",
        "# Generaremos 1000 datos aleatorios entre (0,1)\r\n",
        "N = 1000\r\n",
        "x = 2*np.random.rand(N) - 1 # Distribuimos los datos entre (-1,1)\r\n",
        "# Ruido gaussiano\r\n",
        "noise = np.random.randn(N)\r\n",
        "# Una parábola con ruido\r\n",
        "y = a0 + a1*x + a2*x**2 + noise\r\n",
        "plt.scatter(x,y,alpha=0.5,lw=0);\r\n",
        "plt.grid()\r\n",
        "plt.title('Colección de datos aleatorios')\r\n",
        "plt.xlabel('x')\r\n",
        "plt.ylabel('y')\r\n",
        "plt.show()"
      ],
      "execution_count": 98,
      "outputs": [
        {
          "output_type": "display_data",
          "data": {
            "image/png": "[encoded data removed]",
            "text/plain": [
              "<Figure size 432x288 with 1 Axes>"
            ]
          },
          "metadata": {
            "tags": [],
            "needs_background": "light"
          }
        }
      ]
    },
    {
      "cell_type": "markdown",
      "metadata": {
        "id": "xeLsLcTtETTZ"
      },
      "source": [
        "**Ajuste con un polinomio cuadrático.**\r\n",
        "\r\n",
        "Podemos extender el ejemplo anterios a una reglesión cuadrática de la forma $y = a_0 + a_1 x + a_2 x^2$."
      ]
    },
    {
      "cell_type": "code",
      "metadata": {
        "colab": {
          "base_uri": "https://localhost:8080/",
          "height": 295
        },
        "id": "iUfRvDSUEalE",
        "outputId": "7eb74161-d730-461d-c3b8-1040208bb881"
      },
      "source": [
        "# Los coeficientes para gererar los datos\r\n",
        "a0 = 3\r\n",
        "a1 = 5\r\n",
        "a2 = 8\r\n",
        "# Generaremos 1000 datos aleatorios entre (0,1)\r\n",
        "N = 1000\r\n",
        "x = 2*np.random.rand(N) - 1 # Distribuimos los datos entre (-1,1)\r\n",
        "# Ruido gaussiano\r\n",
        "noise = np.random.randn(N)\r\n",
        "# Una parábola con ruido\r\n",
        "y = a0 + a1*x + a2*x**2 + noise\r\n",
        "plt.scatter(x,y,alpha=0.5,lw=0);\r\n",
        "plt.grid()\r\n",
        "plt.title('Colección de datos aleatorios')\r\n",
        "plt.xlabel('x')\r\n",
        "plt.ylabel('y')\r\n",
        "plt.show()"
      ],
      "execution_count": 99,
      "outputs": [
        {
          "output_type": "display_data",
          "data": {
            "image/png": "[encoded data removed]",
            "text/plain": [
              "<Figure size 432x288 with 1 Axes>"
            ]
          },
          "metadata": {
            "tags": [],
            "needs_background": "light"
          }
        }
      ]
    },
    {
      "cell_type": "code",
      "metadata": {
        "colab": {
          "base_uri": "https://localhost:8080/"
        },
        "id": "At8lXCTsCLTm",
        "outputId": "8b61e731-e88c-467f-e4fc-0b62d90dff2b"
      },
      "source": [
        "# Construimos la matriz de Vandermonde\r\n",
        "X = np.column_stack([np.ones(N),x,x**2])\r\n",
        "print('Shape:', X.shape)\r\n",
        "# Imprimimos los primeros 5 renglones para verificar\r\n",
        "print(X[:5,:])"
      ],
      "execution_count": 100,
      "outputs": [
        {
          "output_type": "stream",
          "text": [
            "Shape: (1000, 3)\n",
            "[[ 1.         -0.42456158  0.18025254]\n",
            " [ 1.         -0.05104562  0.00260565]\n",
            " [ 1.          0.07309546  0.00534295]\n",
            " [ 1.          0.67139577  0.45077228]\n",
            " [ 1.          0.34497007  0.11900435]]\n"
          ],
          "name": "stdout"
        }
      ]
    },
    {
      "cell_type": "code",
      "metadata": {
        "colab": {
          "base_uri": "https://localhost:8080/"
        },
        "id": "pAugvqxvCPzc",
        "outputId": "f5ff55dd-e59c-45db-dd20-11ca309f2eee"
      },
      "source": [
        "# Usamos la función scipy.linalg.solve() para resolver la ecuación X.T@X@a = X.T@y respecto a 'a'\r\n",
        "a = la.solve(X.T @ X, X.T @ y)\r\n",
        "print(a)"
      ],
      "execution_count": 101,
      "outputs": [
        {
          "output_type": "stream",
          "text": [
            "[2.96539184 4.87299995 7.99454114]\n"
          ],
          "name": "stdout"
        }
      ]
    },
    {
      "cell_type": "code",
      "metadata": {
        "colab": {
          "base_uri": "https://localhost:8080/",
          "height": 295
        },
        "id": "d0Ic4aMRCRWI",
        "outputId": "d06fa25e-ce04-432d-9bc6-2b0f7ee9f5a8"
      },
      "source": [
        "# Graficamos el resultado del ajuste\r\n",
        "xs = np.linspace(-1,1,20)\r\n",
        "ys = a[0] + a[1]*xs + a[2]*xs**2\r\n",
        "plt.plot(xs,ys,'r',linewidth=4)\r\n",
        "plt.scatter(x,y,alpha=0.5,lw=0)\r\n",
        "plt.grid()\r\n",
        "plt.title('Ajuste mediante Regresión Cuadrática a los datos')\r\n",
        "plt.xlabel('x')\r\n",
        "plt.ylabel('y')\r\n",
        "plt.show()"
      ],
      "execution_count": 102,
      "outputs": [
        {
          "output_type": "display_data",
          "data": {
            "image/png": "[encoded data removed]",
            "text/plain": [
              "<Figure size 432x288 with 1 Axes>"
            ]
          },
          "metadata": {
            "tags": [],
            "needs_background": "light"
          }
        }
      ]
    },
    {
      "cell_type": "markdown",
      "metadata": {
        "id": "oq_Vj-9lCTiw"
      },
      "source": [
        "**Ejercicio 5.** Se tienen los siguientes 8 puntos:\r\n",
        "\r\n",
        "$$\\begin{eqnarray*} \r\n",
        "(x&,&y) \\\\\r\n",
        "(0.0 &,& 0.0), \\\\ \r\n",
        "(0.5 &,& 0.47942), \\\\ \r\n",
        "(1.0 &,& 0.84147), \\\\\r\n",
        "(1.5 &,& 0.99749), \\\\\r\n",
        "(2.0 &,& 0.90930), \\\\\r\n",
        "(2.5 &,& 0.59847), \\\\\r\n",
        "(3.0 &,& 0.14112), \\\\\r\n",
        "(3.5 &,& -0.35078) \\\\\r\n",
        "\\end{eqnarray*}$$\r\n",
        "\r\n",
        "Encuentre un polinomio interpolante $p(x)$ que pase por los 8 puntos.\r\n",
        "\r\n",
        "Sobreponga la función $y=\\sin(x)$ y contrástela con el polinomio $p(x)$."
      ]
    },
    {
      "cell_type": "code",
      "metadata": {
        "colab": {
          "base_uri": "https://localhost:8080/",
          "height": 295
        },
        "id": "0YZ-hifwEzSk",
        "outputId": "636d39f8-43c2-4d1a-e703-c44330a26f9b"
      },
      "source": [
        "N = np.array([[0.0, 0.0], [0.5, 0.47942], [1.0 , 0.84147], [1.5 , 0.99749], [2.0 , 0.90930], [2.5 , 0.59847], [3.0 , 0.14112], [3.5 ,-0.35078]])\r\n",
        "\r\n",
        "# columnas 1 y 2 (i,j)\r\n",
        "i = 0 \r\n",
        "j = 1 \r\n",
        "x = [fila[i] for fila in N]\r\n",
        "y = [fila[j] for fila in N]\r\n",
        "x = np.array(x)\r\n",
        "y= np.array(y)\r\n",
        "\r\n",
        "plt.plot(x,y,'r.')\r\n",
        "plt.grid()\r\n",
        "plt.title('Puntos aleatorios que deseamos interpolar')\r\n",
        "plt.xlabel('x')\r\n",
        "plt.ylabel('y')\r\n",
        "plt.show()"
      ],
      "execution_count": 103,
      "outputs": [
        {
          "output_type": "display_data",
          "data": {
            "image/png": "[encoded data removed]",
            "text/plain": [
              "<Figure size 432x288 with 1 Axes>"
            ]
          },
          "metadata": {
            "tags": [],
            "needs_background": "light"
          }
        }
      ]
    },
    {
      "cell_type": "code",
      "metadata": {
        "colab": {
          "base_uri": "https://localhost:8080/"
        },
        "id": "viR7SCvNFf9d",
        "outputId": "788e61d7-b60d-4572-de27-f520232f86b0"
      },
      "source": [
        "# Creamos la matriz de Vandermonde\r\n",
        "X = np.vander(x,increasing=True)\r\n",
        "# Imprimimos los primeros 5 renglones y columnas.\r\n",
        "print(X[:5,:5])"
      ],
      "execution_count": 105,
      "outputs": [
        {
          "output_type": "stream",
          "text": [
            "[[ 1.      0.      0.      0.      0.    ]\n",
            " [ 1.      0.5     0.25    0.125   0.0625]\n",
            " [ 1.      1.      1.      1.      1.    ]\n",
            " [ 1.      1.5     2.25    3.375   5.0625]\n",
            " [ 1.      2.      4.      8.     16.    ]]\n"
          ],
          "name": "stdout"
        }
      ]
    },
    {
      "cell_type": "code",
      "metadata": {
        "colab": {
          "base_uri": "https://localhost:8080/"
        },
        "id": "QcAVyrg2Fg28",
        "outputId": "26247acd-68ee-4e79-c2c9-b746e330f6f9"
      },
      "source": [
        "# Encontramos los coeficientesde la función Xa=y\r\n",
        "a = la.solve(X,y)\r\n",
        "print(a)"
      ],
      "execution_count": 106,
      "outputs": [
        {
          "output_type": "stream",
          "text": [
            "[ 0.00000000e+00  1.00067181e+00 -3.70788889e-03 -1.58867889e-01\n",
            " -8.30222222e-03  1.31964444e-02 -1.54488889e-03  2.46349206e-05]\n"
          ],
          "name": "stdout"
        }
      ]
    },
    {
      "cell_type": "code",
      "metadata": {
        "colab": {
          "base_uri": "https://localhost:8080/",
          "height": 295
        },
        "id": "w-23kpUEFk5x",
        "outputId": "11b71831-e65e-4cc1-d136-d3d27ada773e"
      },
      "source": [
        "# Graficamos el polinomio interpolante y los puntos interpolados\r\n",
        "# Los puntos interpolados en rojo ('r.')\r\n",
        "xs = np.linspace(0,8-1,200)\r\n",
        "ys = sum([a[k]*xs**k for k in range(0,8)])\r\n",
        "plt.plot(x,y,'r.',xs,ys);\r\n",
        "plt.plot(x,np.sin(x),\"g\")\r\n",
        "plt.grid()\r\n",
        "plt.title('Polinomio interpolante p(x)')\r\n",
        "plt.xlabel('x')\r\n",
        "plt.ylabel('y')\r\n",
        "plt.show()"
      ],
      "execution_count": 107,
      "outputs": [
        {
          "output_type": "display_data",
          "data": {
            "image/png": "[encoded data removed]",
            "text/plain": [
              "<Figure size 432x288 with 1 Axes>"
            ]
          },
          "metadata": {
            "tags": [],
            "needs_background": "light"
          }
        }
      ]
    },
    {
      "cell_type": "markdown",
      "metadata": {
        "id": "KhoG6cUQCWpG"
      },
      "source": [
        "**Ejercicio 6.** Regrese a su modelo de análisis de series de tiempo. Haga una descomposición de su serie de tiempo de las temperaturas (Tmax y Tmin), y realice una regresión lineal sobre la serie de Tendencia de Temp $(T = a_0 + a_1 t)$. Encuentre si la pendiente es positiva o negativa de la tendencia (signo de $a_1$), es decir si las Temperaturas (Tmax, Tmin) están subiendo o bajando en el periodo analizado."
      ]
    },
    {
      "cell_type": "markdown",
      "metadata": {
        "id": "YZqH2TE8LMFz"
      },
      "source": [
        "\\# Para Tmax\r\n",
        "\r\n",
        "\\# Modelo Aditivo: Observado = Tendencia + Estacionalidad + Residuo\r\n",
        "\r\n",
        "\\# Tamaño de la figura\r\n",
        "\r\n",
        "sns.set(rc={'figure.figsize':(12, 6)})\r\n",
        "\r\n",
        "\\# Periodo de datos completos (No funciona cuando hace falta un rango de datos)\r\n",
        "\r\n",
        "start, end = '2000-01', '2012-06'\r\n",
        "\r\n",
        "\\# Ciclo anual 365 días (Por las Estaciones)\r\n",
        "\r\n",
        "decompfreq = 365\r\n",
        "\r\n",
        "\\# Uso del modelo 'statsmodel' para el análisis de series de tiempo(sm.tsa) \r\n",
        "\r\n",
        "\r\n",
        "resTmax = sm.tsa.seasonal_decompose(df_90_30d.loc[start:end, 'Tmax'].\r\n",
        "interpolate(),\r\n",
        "                                    freq=decompfreq, model='additive')\r\n",
        "                                    \r\n",
        "resTmax.plot()\r\n",
        "\r\n",
        "plt.title('Descomposición Aditiva de Evaporación (promedio Móvil 30 días)');\r\n",
        "\r\n",
        "![image.png](data:image/png;base64,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)"
      ]
    },
    {
      "cell_type": "markdown",
      "metadata": {
        "id": "ULJZfKmVLjm8"
      },
      "source": [
        "trendMax = resTmax.trend\r\n",
        "\r\n",
        "trendMax = trendMax[~np.isnan(trendMax)]\r\n",
        "\r\n",
        "trendMax\r\n",
        "\r\n",
        "![1.png](data:image/png;base64,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)\r\n"
      ]
    },
    {
      "cell_type": "markdown",
      "metadata": {
        "id": "SDzD3mSYL25W"
      },
      "source": [
        "N = 4198\r\n",
        "\r\n",
        "x = np.arange(0,N)\r\n",
        "\r\n",
        "y = trendMax\r\n",
        "\r\n",
        "plt.scatter(x,y);\r\n",
        "\r\n",
        "plt.grid()\r\n",
        "\r\n",
        "plt.title('Serie de Tendencia')\r\n",
        "\r\n",
        "plt.xlabel('x')\r\n",
        "\r\n",
        "plt.ylabel('y')\r\n",
        "\r\n",
        "plt.show()\r\n",
        "\r\n",
        "\r\n",
        "![image.png](data:image/png;base64,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)"
      ]
    },
    {
      "cell_type": "markdown",
      "metadata": {
        "id": "jMs8nJJ1L-mb"
      },
      "source": [
        "\\# Creamos la matriz X, con 1's en la primera columna y los puntos x_k en la segunda.\r\n",
        "\r\n",
        "X = np.column_stack([np.ones(N),x])\r\n",
        "\r\n",
        "print('Shape:', X.shape)\r\n",
        "\r\n",
        "\\# Imprimimos los primeros 5 renglones para verificar\r\n",
        "\r\n",
        "print(X[:5,:])\r\n",
        "\r\n",
        "Shape: (4198, 2)\r\n",
        "[[1. 0.]\r\n",
        " [1. 1.]\r\n",
        " [1. 2.]\r\n",
        " [1. 3.]\r\n",
        " [1. 4.]]\r\n"
      ]
    },
    {
      "cell_type": "markdown",
      "metadata": {
        "id": "z7HWUwvwNA9u"
      },
      "source": [
        "\\# Usamos la función scipy.linalg.solve() para resolver la ecuación X.T@X@a = X.T@y respecto a 'a'\r\n",
        "\r\n",
        "a = la.solve(X.T @ X, X.T @ y)\r\n",
        "\r\n",
        "print(a)\r\n",
        "\r\n",
        "[ 3.39921715e+01 -1.22384994e-04]"
      ]
    },
    {
      "cell_type": "markdown",
      "metadata": {
        "id": "Ph8-lSKINJ3d"
      },
      "source": [
        "\\# Graficamos el ajuste con esos 2 coeficientes de la regresión y = a_0 + a_1 x \r\n",
        "\r\n",
        "xs = np.linspace(0,N,10)\r\n",
        "\r\n",
        "ys = a[0] + a[1]*xs\r\n",
        "\r\n",
        "plt.plot(xs,ys,'r',linewidth=4)\r\n",
        "\r\n",
        "plt.scatter(x,y);\r\n",
        "\r\n",
        "plt.grid()\r\n",
        "\r\n",
        "plt.title('Ajuste mediante Regresión Lineal de los datos')\r\n",
        "\r\n",
        "plt.xlabel('x')\r\n",
        "\r\n",
        "plt.ylabel('y')\r\n",
        "\r\n",
        "plt.show()\r\n",
        "\r\n",
        "![image.png](data:image/png;base64,iVBORw0KGgoAAAANSUhEUgAAAt4AAAGJCAYAAAC99zSNAAAgAElEQVR4Ae2didsWxZnuz1/jTGYOM86WiQYhJo45Mez6qSiIIqBgEBVxARdcMESDRnAZlzExmsQlCrgbghpXQGUH5ZNFdhSXCRLPYaI853oa66W+pru6+317qe73910XdHdVdS33c9dTd9dbXf2/hD8QAAEQAAEQAAEQAAEQAIHCEfhfhZdAASAAAiAAAiAAAiAAAiAAAoLwhgQgAAIgAAIgAAIgAAIgUAICCO8SQKYIEAABEAABEAABEAABEEB4wwEQAAEQAAEQAAEQAAEQKAEBhHcJIFMECIAACIAACIAACIAACCC84QAIgAAIgAAIgAAIgAAIlIAAwrsEkCkCBOqGwNVXXy133HFH3aqdqb7HH3+8vPHGG8E9d999t0yfPj3T/d2c+Nxzz5Unn3zyCAjuu+8+ufzyy+XgwYNHxHUacPTRR8u2bds6zcZ5//bt2+Woo46Sv/71r850JlLbeuutt5rLTEct58MPP8x0T9bENsez3kt6EACBYhBAeBeDK7mCQC0QGDVqlPzrv/6rHDhwIPf6LlmyRI477rjc880rw6JESaeCSu//x3/8R1Gh2b9/f7npppvkq6++yqvZheXzyiuvyMUXX9xRXTsRsnk0rJuFd6e8zQN/8gCBbkAA4d0NVqaNIBCBgIqMv/3bv5V/+7d/k+eeey4iRWdBCO/28LMFkM6Iqvh+9NFH28vMcVfaWV1HFrlHIbzzhTTLw6XNu3xrQW4gAAI2AghvGw3OQaCLEJg3b56cdtppwYzqhAkT+rTcFkBPPPGEnH766X3i7UFaZzp/9KMftWZo77//fvnLX/4i/fr1k7/5m78JwnX2ds+ePfL111/LPffcIz/4wQ/k29/+tlx44YXy+eef98nbXBjhfu+998p3vvMd+e53vyuLFi0SLe/EE08MHhh0iYj5S8p7/vz58r3vfS8o96677hJblMydO1emTp1qspLJkyfLscceK//8z/8sZ5xxhvT29rbiFJuZM2fK+PHjg7adcsopsnXr1iBe0yo2Zsb62WefDcJfeuklGTJkiPzLv/xLgPl7773Xyi98YmOrcYqRlmf+XHmtXbtWhg4dGtRL2zBlypTWUgiDp+Kvbbv00kud9vh//+//BZionbTeI0aMkL179wbV0F9KHnvsseBccb/zzjsDbNVO06ZNk3379gVxZgZZl6UMHDiwhb1pS/ho8y4cZ+PisoHet3HjRjn77LMDjihXjB007uWXXw4w+qd/+icZMGCAqO3Nn6lv3EPJunXrZNiwYQG+iu1FF13UwlfzcNnGlGGOdnsUL8Xt3//93wMcFU/FVf/04evMM88MuKi20HLj/lwcX7VqlZx66qmBLbUvXXfdda1fuuJ4qw98J5xwQoDjeeedF/RhLVuXEs2aNSvol4rjoEGDZMOGDXHVIhwEQMBCAOFtgcEpCHQTAjqgPvzww7JmzRr5u7/7u5aoUgxsAZQkvHUQf/vttwPo/vu//1tU/OmfEXrBxTf//epXv5Kenh7ZvXt3MOjrWnJdnhD1p/d/61vfEn1A+J//+Z9g1leFySWXXCJffPFFIIZV3Jt1v668P/jgg0AsLVu2LChXl29o3maNd1h4P/7440EZugTnxhtvDESzqaNiowJIhYwKNK2PCjDzZwsqDVOxpoJ05cqVwTIMFaEq+uOW99j3q4BUfH/5y18G2bvy0vz0wUJxULxefPFF+fu///uWMDR43nzzzUHZ//f//t8gbZw9fve734mKrS+//DKot/JEcdc/W3grVsoltcP+/fvlggsuCES9pjNCdsaMGaLl6QOH1knbFfVn8y4cb+PisoE+9Kmg/v3vfx/YRzFTeykH9E9xeP/99wNhq/U55phjggc6jTP1jRLeBl+1heL7/PPPB/3GrPF22SbcFr2226Oi+/zzzw/w1Trow4J5sNH+oQ+KKsT1Ycj0tXCeSRxX+61YsSLARMv4P//n/7R4Fa6PXr/55psBbtqfte3XX3998BCqca+++qoMHz5c/vznPwciXO350UcfhavENQiAQAQCCO8IUAgCgaYjoIO3iu1PP/00aOoPf/jDPoOwLYCShLfOZKpIM6LMYBclvHWw1wHd/OlgrfWIEjp6vwprs75Z81exogLW/Ongr7Pg+ufKW8W7LY5VnKkAjBPeJn89qrjQcs0srmJjv4ipM/CKn/mzBZWGXXPNNXLbbbeZ6OCowmrp0qV9wsyF3q+ziDprrucqvIxId+WlDxW6LMV+sVF/qTDCUPHUNqt4M38uzFRQ6y8iUbPztvA+66yzggc4k+emTZtaNjVCVh+0zN/JJ58szzzzjLnsc7R51yciJFRdNtDZ7ZEjR/a5XR/wlANRf/pgpbO3+mfqG8VHxVcfgmx8FR+Dr8s2UeUanii/1S7mwUDTan9SjPVPRflVV10VPKxG5WPCkjhu0pmjPkBMmjTJXPZ5ENDAK6+8Un72s5+14vWhSvuqYqR9WDmsQt7MzLcScgICIOBEAOHthIdIEGgmAjoDqUslzJ8O2roUwvzZAihJeOvMr87W6Uua+pP48uXLg2yihPc//MM/BKJSly6Yf//7f//v1k/Ypnw9hu9XMaRiRQd+86fCcsGCBcGlK28VXrNnzza3BUcVUVHCW4XQLbfcEiyHUQGs9dRyzXISGxvNKFxPI6hMYePGjROtm2mvHvX66aefNkn6HM39KvBURH7/+99vLcdx5aViVkWt/aei3QhDracKc/vPhZnO6iovdBmRYqUiTMP0zxbeKt51+Yb5U2GvbdClRVFC1r7X3GOOYWxNuB4NLnoeTmfbQJcmqZC18dalTiqM9U8f3LQO+uuJLiVS/umyG/2Lqm8QIRI8LOhyG/vPxtdlG/sec27ao8t39FwfBs3fn/70J/mP//iP4PLjjz8W7a9qg5NOOkn0gSjqL4njmzdvFl1SpsuMlNdqe/sBxdTH5K071+gvYvaf3vvOO+8EQQ8++GAw662/JuiDQfjB276PcxAAgcMIILwPY8EZCHQFAvqTvwoOFSM6kOo/Fc068JrZTVvY6IuXuq7V/KkQCA/SGqeiTGfR9Gd+/dMZ3fCuJjpLZgZuk1/c0RZTmiZJeLvyDs8G6vKJuBlvXSerYlKXTqj4NTPeZus3GxutV7ieYWxUEOlSgbR/4ft1KYvOyuqfKy/FO2nGu117qCBVAW6WP9jiOTzjrQLP/IoRJWTte8OYhLG1421cwulsG+gDja7vjvvT9wuUp2bmX7E16/uj6mvyUXxdM94u25g87KNpT9SM9yOPPNKa8bbv0V+q9EHBcNGOS+K42kkfPo1AVgzsdzdMfUye4RlvfTAwM94mjR4/+eSToK7hX3XsNJyDAAgcRgDhfRgLzkCgKxBQYaI7mezcuVNURJt/+oLVT3/60wADW9iokFKRun79+kCsqMAwg7QugVi4cGFrGYYKM11nrH+67lOXipglGhqmg70Krx07dgRpdKmLWSoSBFj/2WJKg5OEtytvfTlSHzRUuGidVYDErfHWWT6d/VeBomLj2muvbbVX62Fjo9fheuqDzGuvvdZqyerVq4OHEZ1pVSGveeoMsRFArYTfnBhsTbiuR9ZlJ2onV17aLl328+tf/zrASnFVu9kz3mHh7cLsrbfeCtZCqzDUF2AHDx4crJvWetniWW2us7Nmjbe+1OkSsva9po3mqNj+/Oc/D3imwlj/mWU2Ni4uGyiuykF9gNKHQf2nv8qYdeW63t7sQa7heu2qr6mbwddeQ69C1ODrso3Jwz7a7dHyddmH1l37hi5dMg85+uBrluooj+33Guz8kjiuv4aoOFcOKhb6oGoL7zBv9dcg/VVA+722/YYbbmilV9yUz4qt8nns2LFy++2329XhHARAIAYBhHcMMASDQFMR0EHSCGy7jbqsQQdfFbhhYaMztvqTss5m69IOIxp0QNb8dMZcf77Wn+Ltl7+uuOKK4D792d/savLAAw8Eg74KYZ19nDNnjl2N1nlY0CYJb11r6so7vLNG3K4mupZVl85o/YyAM+3VyoWxCdfzt7/9bTAzqm02u2no0gHFRsN01lTFaVrhrWXqz/7GZq68VPzpQ4PWXcvQFx3Nh5DC9dR8XZjpA5qKMxX9+gKiCi+1gf7Z4lnzUEGn3FChpiJSX7LVv6gZZPveIJH1n2KrWNv/jDjMYgNdZ65LqbQ+ytvRo0cHAlKL0pci1a6KkS690N090ghvvVfxNbvG6O4i9q4xGu+yjdXM4NRuj+KlddD6Ko6Kp1k7rUt89JcM0190Njzuz8VxXaOugl7z0SUmv/jFL1pCWvOL4q2GaR/VB3XFyjwA6Bpv3clE81J89VcZ7Tf8gQAIJCOA8E7GiBQg0HUI6AtdOvjzV28EdKtD3d2DPxAAARAAAT8QQHj7YQdqAQLeIKCzmirY9Kd6/uqFgK5D1iUpakOd/dRlCWzzVi8bUlsQAIFmI4DwbrZ9aR0IZEZAfzrW5SP6AiJ/9UJAlyHoshBdAqBLAezdRurVEmoLAiAAAs1EAOHdTLvSKhAAARAAARAAARAAAc8QQHh7ZhCqAwIgAAIgAAIgAAIg0EwEEN7NtCutAgEQAAEQAAEQAAEQ8AwBhLdnBqE6IAACIAACIAACIAACzUSgq4T3Z5/tl08++YJ/YAAH4AAcgANwAA7AAThQCAdUb8b9dZXwVtH98cf7+AcGcAAOwAE4AAfgAByAA4VwQPVm3B/CG9IVQjoecHjAgwNwAA7AATgAB7qRAwjvbx47mPHGAXSjA6DN8B4OwAE4AAfgQHkcQHgjvJnV5pcNOAAH4AAcgANwAA6UwAGEN8KbjlZCR2M2obzZBLAGazgAB+AAHPCVAwhvhDfCG+ENB+AAHIADcAAOwIESOIDwRnjT0UroaL4+eVMvZoXgAByAA3AADpTHAYQ3whvhjfCGA3AADsABOAAH4EAJHEB4I7zpaCV0NGYTyptNAGuwhgNwAA7AAV85gPBGeCO8Ed5wAA7AATgAB+AAHCiBAwhvhDcdrYSO5uuTN/Xq7lmhCbNelEGXLOjzr+eKp/AJ+AQ4AAfgQEEcQHgjvOlcBXUuRG13i1rf7a8COyy67Wvf60/96F9wAA7UkQMIb4Q3whvhDQe6jANzHlrmFN0qwIdMXQAvuowXdRQx1BnxXTcOILwR3gyuDK5woMs4YM9su85VoNdtUKO+CDE4AAd85oAXwnvixIkyePBgGTp0qIwcOVLWr18fyOHjjz9efvjDH8qQIUOCf6+++uo3Mrnv4csvv5QpU6bICSecEKR/6aWX+iZIcaVA+Gwo6oYjgQNwIA8OjLr62cTZbluM51EmecBdOAAH4MAhDnghvPft29eSxosWLZJhw4YF1yq8N2zY0IqLO5k3b57MmDEjiN6yZYsce+yxsn///rjkkeEIb5wCTgEONJ0DaZaY2KJbz5uOCe2j38MBOFAmB7wQ3rYSnj9/vgwfPjwISiu8TzrpJFm9enUrmwkTJshzzz3Xuk5zgvCm45XZ8SgLvlXBgbCoTnPNchO4WgVXKRPeNZUD3gjv6dOny8CBA2XAgAHS29vbEt66BGXQoEFy7bXXyp///OdIDX300UfLp59+2orTtA888EDrOs0JwptO3tROTrvgtnKgndluI8zhEByCA3AADuTDAW+EtxHHOuM9bty44HLXrl3B8cCBA3LNNdfI1KlTTbI+R4R3PmSgU4EjHKgfB6K2BZx2+ytHLBExIrqdI7yoHy+wGTaDA35ywDvhrYq6X79+8tlnn/UR1++//77o0pOoP5aa+EkuOj12gQPFcSBKcLcjqtPcgx2LsyPYgi0c6C4OVC689SVIM7Otonrx4sXSv39/+ctf/iLmpcuDBw/KrbfeKpMmTYrS3TJ37tw+L1cec8wx8sUXX0SmjQtkqUl3ER9Hh73rzIHh0/p+bTKNeO4kDeu86S917i/UHf76xIHKhffevXulp6cnWMet2waOHj1a1q5dK9u2bQu2F9T13TqjPXnyZPnoo49aulnT7tmzJ7hWka7xup3giSeeKLozStY/hDcd06eOSV3gYxwHFr7cm2k7wDSCO83677j6EA5X4QAcgAPpOVC58M4qkItKj/BOTxo6GFjBgeo4cPLlT+cuvNWeg6e6Z9GxeXU29x378N7weu17nakffK6KAwjvb5Q8wptOWFUnpFy4l4UDaWaws6TRGXQtP2nWO0sdSds9nI7jmr6DAA+6hwfYOr2tEd4Ib5xjl30uHAeZ3kH6iFWc0GknPLx225WHEeg+YkKdquH0hFkvOn99gTPV2IX+4DfuCG+EN8Ib4Q0HasQBlzjOEhclilz3j7hsITypEU/KEF8uvmgcnPFbAJbBEco4kgMIb4Q3gymDKRyoCQdULCeJHTs+68/99r1R5wyiRw6i3YpJ0tIkw59uxYd201fiOIDwRngjumoiuuI6MeHd4+BPn/GMU3h3yoUkMdVp/tzfHK4aYZ10jPplBR40hwfYMrstEd4Ib4Q3whsO1IQDSSInj0HQVUYe+ZNH9oHaR8xcPLHjWG7SDHv7yMG61gnhjfBGdNVEdNXVyVDv/AZeW9CEz0+b/nQufTmcr33N7GV+tqxzv8i65KnObaXucD5vDiC8Ed65DNZ5E5P8cHZw4EgO2CI4fJ6XKA7na1/nJe6x7ZG2rRMmSUuebM7oeZ3aRl3rzc062A/hjfDGKTLjDQdqwIGkWca8BpywaApf51UO+dRX4IQ5kXQd3rYS29fX9tiuc9shvBHeiK4aiC6cXefOru4YJn2xMq/2Jc1m5lUO+dSX00lCOyoee9fX3tguX9shvBHeCG+ENxyoAQeixIwdltfgWNbMel71JZ98RUEaPG3epT1Pky9pyrclmJePOcIb4Y3oqoHowjmW7xyrxjxJANuCJ++113be4fO81pJXjS/lt9ensvDS5g68aQ9veNo83BDeCG+EN8IbDnjGgaziJm9RYwum8DnbwzVPCGQRd0lLkcJ8Mdfwprt5k4VjTU+L8EZ4I7o8E11Ndzq0L3kAHjZtofNDOUbMmGPemJp84455l0d+yZzwBaM4TqQJ96UN1KM+fGuirRDeCG+EN8IbDnjGgTQixk6T9+CU9AXLvGfY864/+RUnrGzehc+THhjhTXF2gfP1wRbhjfBGdHkmunCg9XGgRdgq6zKTorZqC4sq+5plA93LUZsH4fM03C2iz5Bn9/KxjrZHeCO8Ed4IbzjgEQeSZg3DYqeogSdcTvi6qHLJ118RlSSs1XZhnoSvi3pQhDf+8gbb9LUNwhvhjejySHThoPo6qG7EIyxUXNfTbn+lsP5b1r7h3WjjurY5DSdcfDVxdW0/9cY/58EBhDfCu7CBOw+CkgeOrps4kLS22ggXcywSm6TZTY0vsnzy9q/vG97FHdVmaTgMd/yzLf2tPJsgvBHeDJ7MeMMBTzgQJ2jC4T1XPFWKzcLl2tes8y5voPZFFNn2D5/bS0jCceHrwZcsKIW/vuBGPbqvr7hsjvBGeOMAPRFdro5KXPMdty4bCQuU8HXZPAiXH74uuz6UV10/SOKnbRtmvauzk20Hzv20A8Ib4Y3wRnjDAQ84EBa14esqZpiTBBQDu58De552GT5tQeIDoXI1XGaYv+HrKvgcriPXzeevjzZGeCO8j3CYPhKVOuEgm8wBXToSFibh66rWxYbrYV9XVacmc8Gnttm2TjoP1zvpoU3zC9/DNX6+GziA8EZ44/w8mO3sBmdDG6MHVRWvSaKmrDXdUTZy1e206U/jPxrqP1x2D8fZ67ttDoXTha91Nt1Oz3m0jwCXZuGC8EZ44/gaOnDirOvhrJO2aFOxUqUtw2IpfF1l3Si7GI6HbZx0HWeHNLPecaI9Lk/Ci7E5uJaHK8Ib4V3poE5nL6+zg7WfWCeJmgmzXqy0jyY9GMArP3nVrl3SiGWbs0n8tNPGnbdbV+5rFve6xZ4Ib4R3pYN6t3Q02skAEceBODFiwuPuKys8aSlMWfWgnHL60OCp6V6mTMvPNF9i5V2BcmxLH/IDZ4Q3whvhzVITOFAhB4yAiTr68jN8VN1MGIO5H4N5XnYwdk06pl2fnfTgpuWww0mzOJQXF5uaD8Ib4Y3oqlB0leVYXHvwFvnZ8bLaV9dykkSJL+1yiTBmK5slmly21rh2/IXL/5jyfOE69WgWn320J8Ib4Y3wbrjwTjPotTOY+ujQ6lan02c849zRxJf2GHEUdWS2sjlCJelBsBM/EcUdO8wXrlOP5vDZV1sivBHeCO+GCm996cke2JLOfXVSTa6XyyY+bdVXlweEJnOljLYVaeeklzb55QTBWwbHfSgD4Y3wRng3THiPuvrZTILbiD8GvvIHPoN91NEneyTNhPowmFGHzvkbxUM7rFOM7bzC5/xy0rn9OrUP95djA4Q3whvh3SDhnfbzzuFBT699mmHtlgEgyg4mzDcMTL2ijr7Vlfq0JyCibGvC8njR1+QVd8Ru7dkN3OqFG8Ib4Y3wbojwTvopN26ws8Nx4OU6cBv78LlvtgjXz772aXbeN9zqVB/bpuHzPNrBnvDl+pc8bEYe+dsM4Y3wRng3RHiHB8p2rnGy+TvZOEzrtnzDxSeWCZTHmzg+dRpeBh+TyuABrv486pSH3XA/whvhjfBGeLfWhHeD0/OljUW+yFZEG5M+rFJEmeRZnhAri488wJVnU/qPn1gjvBHeCO8GCO+kmSTXYGfH4ajLc9Q27uFzH9fbJy1lYrayPO4U0U/DHLSv8+SjnW/UeRFtI896c7Np9kN4I7wR3g0Q3klrJ3WAMy9HRQ12JqxpDs7n9hjMo46+itiouobDDM98xp66HSnEwna0r/PkY1kz69j4SBuDiR+YILwR3gjvBghve5CMOrcdblS8CctzgLXL5PxIh28wjzr6ildUXaPCEN9H2ttXm5p6RdnRhJk0eRzVx5h8o455lEEe9eNfN9kM4Y3wRng3XHiHRVDUYGfC8vxJuZscaTttNZhHHdvJr4x7hk1b6BRNdlvKqA9l5CewbNuFz/PGOZy/fR32V3mXTX75cQYs28MS4Y3wRnjXXHjrQGUPXOHzsHPkp972nGUYx06vw3ayrzvNu6j7k2Yr7Tbw64kfPEvLBdt24fO0eaRNF84/fJ02H9LVi2PY65C9EN4Ib4R3zYV3eNAKX4edXZJ4CqfnupjBLWwn+9pnzAdfssD5oGfawRaDxfCmKG4Yu0Ud8y4z6Z2UvMsjv3pxsen28kJ4T5w4UQYPHixDhw6VkSNHyvr167+Rw4cO8+bNk6OOOko2bNjQJ9xcXH755XLcccfJkCFDgn933XWXiUp9VCCabmza10znEzVQ2mFRdrfjw+dR6QnLlzt1fvhJqrvNJ3iTL2+KwjPJpnmXm1SexuddJvnVg4vdYCcvhPe+fftaAnnRokUybNiw1vXatWvl3HPPleOPP94pvB966KHWPe2cILzplHXs8EkDWNx6SVschc/riEPd6jxm5vPOWWPf25PEO8Mp39tB/Q75fdfys6Le+zAciTtiG8bkpnLAC+FtC+X58+fL8OHDg6ADBw7IqaeeKtu3b0d413w5RFM7UNXtavcn27jBTsOrblM3lO/CvyihUwSuSQJ82u2vwKca+G4XH4uafXaVqXHDp+GLiuiz5Fn9A403wnv69OkycOBAGTBggPT29gbC++abb5aHH344OE+a8f7+978vgwYNEl22snHjRlvLpzpnxrt6MuIQstsgafCKw9R1X9w9hGe3Txxmrq9AFiV04urSabiLS+E4hHh+HOrUbvb9YTvZ13a6PM+TJg1MHfIsk7z85F+32cUb4W3Usc54jxs3TpYvXy5nnXWWHDx4MFF479mzR77++usgnd7/ve99T7766iuTZaojwpsOWcfObwanqKPr5bao9CasbsKvaXarW3sMb9Iemcn0z9e6bFcUH5N+LbHrVFQdyNc/LnaDTbwT3qqS+/XrJ/qC5He/+91giYnOdn/rW9+S/v37y2uvvZYopL/97W/Ljh07EtPZCRDedMA6dnh7cAqfuwR0OK19XaelDnW0mdbZxjt8Xrc2JW1nGW6fXk+Y9SJLUDxaghJlIxNWJB9NGWmOLn9WZB3JG22QNwcqF9779++XXbt2tTTw4sWLA4FtZrpNhGupic54m79XX31VvvOd78hf//pXE5TqiPCmc+XduYrOT3+2dw1YrvJdL1Npnq5708bFzWiNuvrZXPJPWw8f07VrNx/bonVytScuzte2dGO94myk4UXikeTDwvVCfDNOF8nHsvKuXHjv3btXenp6gvXZuh3g6NGjRXcyCf+FhbemNYJ7zJgxwf26JaFuR7hixYrw7YnXCG86dFmdLq9ywoNS+NpVTpwoNnm47k0Tl5R/zxVPFTqgp6ljlWkMzlHHKuvVbtlR7UgKY723Pz7XZat2OZH2Pl165Crfjhs6tdgHgbR1Jp0/3K2jLSoX3omKuKQECG86Up06cNJMkWt9t2mnPaCFz02ado+ulwdNWd08e2UwiDq2i3mV97Wz3ETbXmWdKfuwz4/ioQkrAyd9EDflJR3LqA9lHOYGWOSPBcL7G2GP8M6fXHTY4jBNGpzSiFpXHp3YLmm225TbzbNXBoOoYyfYV3lvVFuSwqqsL2Uf9k8uO5WFU9qHN34pOWy3smxDOflijvBGeDPr5NFLTmkcXBphmyafogbbtNuEaflp6tm0NEn2q2t70wonm3dpHhDriodv9Y77lUxfdLVtEj4vsx1pOVRmnSgrX9EJnvsE4Y3w7krxU6fOn2UNpA6aaWeSwwOsfd0JPnY+SefdKLzq/tVKFzfSCifDizRLolzlEZdOFCWJa2OP8LGKHY7ScIhdcdLZnf7hJ04Ib4Q3wtvjGe/wQJjmOq2YdeXVrsNOM2ja5Xaj8LLbHz5XUd4u9r7eF25j+NrXejelXkm/sITtYV+n9SV5YxU3O+9D3fJuK/n5KY6LtOXIC6IAACAASURBVAvCG+HduIG+yA5TZt5ZXjiyB6S0dbTvCZ+3O+CG80lznba+TUnnevG0Xdx9xibpYcznujehbsOmLXQuJXH10Srb76qXiauyfpTdfYI5L5sjvBHeCG8PZ7zbnaVSkZPWObj28m73J2YzIGY5NlFsumzgwsZ1X53jXG3uNvuXbUcX9klxZdfVLi/NA8MQthdM7e9tbDmv9qEB4Y3wpuN6KLyzvKBoD55ZHGqSuM+Sl6ZN8/OwXVdz3m3LTUy7o45ZMa9L+qi2mrB2H/Lq0vYq65nUx40N4o51qHuWyYYq20PZ1Ypdn/BHeCO8Ed4eCu+4gTApPKtzceWXZ16uckxct3zR0rQ36pgV87qkdy2vURzq0o661bPdB3jDzarbqz7B1MV1rLqelI+ozsIBhDfCm0GvIcK7nZmfvAazdme7o8rP4sDqmDaqzSasju1JU2fWeVcjTAyv2j2msW3RadLUveg6kH81/G0q7ghvhDfC2zPh3c7Pw7rlYDtOyjWoZcnPlY/GpZ25MvlkKbtuaU0bo451a0uW+ka114RlyYe06URQO37E2MMcfcA6TTs0jQ91pQ7puNntOCG8Ed44LM+Et+ulRzMgho/tOrJwPvZ12jyTZjM1T83LzjvpXGfQ05Zft3SuttetLVnq263tzoJRnmmHXtr+biZqK5/W3if5GJ/qmqcNyauZQh7hjfBurMCpq9NyCZRwXKcfkgjnZ1+nxc++J+rciOisH/FIW36d0iXN3tWpLVnrGsUNE5Y1L9K7BUkSzwzurqNvs8iuumocnHBzAnz8wQfhjfDGYXk24+0aYPKe2XGVlWbgTZqJCg+IrvLCcZp30waLpF8zmtZeuz1h+9rXabhm58W5W0R0OtuttvEN427uO77Zgvq4+18SPghvhLd3DjaJtE2PtwVJ+DxvgeIazNKI/HD9wtdRn6/X9ejhdHHXTbN1XDs1PA3edcajm9tett1cWKeNK7vOSeWp73PVPel+4jsTi+CXH34Ib4Q3wruNGe+omd48Zmij8rUHm7ydX6eDmV23qHPXg0JSWzW/vNtbdX5RGJkwF1ZV1zuP8l0PeU20dR6YtZNHmn5lOOc6tlN20ffUrb5F40H++YnhMrFEeCO8Gyduiu5AroFN4zop3zWwaFwnecfd6yoz7h4NT7OFoOt+jUv6Ol2na9iTyi87vl2sy65nEeV1+pBXRJ2amKeLYxqXpt9qOh+xcbXNx/pSp3oK46LthvBGeHvpYIsmfif5u5x/pwOWK++ivvDoKtOFk+s+jUvzEJIkxjSfniueagxHXZi5sG5KXLe3vww7ujDWOK2Da/JA06Tpu2W0JVyGq21N/8UojAXX9RX1CG+Ed2NETRmOKI1QbHdP7aRdP4oaWFyDmcE06z7cZoA397uOrvJNXFNmvk17oo4ujJoSF9VuE9aUNlbZjqTZbFtQx71r0a7/KqPdhitRxzEzn2csa2PZZBl2o4y+DwkIb4Q3ziqDs0r7CWazhV5ah5NG0KfNK2u6qEHMhGleQ6amfxnS3Jel/UliweSZtV0+pjdtiTr6WN+86xTVbhOWd1ndmJ/BMu4YxiT8QK3X4TQ+XfOeQF8B55NtqEt62yC8Ed5eO1rfOnPcgJYm3J5tMu1KI7hN3uaevI8m/6hj0ix81D0alrWOcfnY4UXN+Geta7vpk2zdbr51us+2Z/i8Tu3wsa5Jy0cUbx/rnaVO9KH04i4LrqQtF1eEN8K79s64TKcRFgvtXJs1y0mDiJ13Ueu7FTu7nDzOo7YQTLJReOYtqh5FYpBUvzzima1zc63uD1Z5cCRrHlkejLP8CpW1HmWmj/INJqzMelBWuWK1SXgjvBHeCO8MS02Mgy/7WKQoSRKEWdvabl3TlFNn5+tqX9P38DZ2A4P8xEqah1Ubb2ODuh/tNoXP69426p9f//AZS4Q3whvh7bnwLvrFwiwz7+GBLnzd6axa0npyn51pUt3CWNnX7T6sJJXpW3zSQ55v9fW1Pln7bDu/QvnadrvfhM99rTP16g5BndbOCG+EN8I7pfBOs4YyPBDkcZ22M3eSLo965vVilqsunbSx6nub2q4suCYJxix5dXPapP3vw1xr0oNduG32dTdzgrbXR9wjvBHeCO+UwntwG7t72INCO+edziCndcbt1C18T9qyktKF87Wvo15QTcrPh3gE5+FB0bZn+NwHW9WhDmHckq7r0Ka0dXS1NW0epDvcH8GifCwQ3ghvhHdK4e1y+EXElSW61fF2Un/zsmheDjypLnmVU2Y+Qy9d6MS4zLpUXZbLvlXXrQ7lZ/3lra4Pq3G2gD/lC8U4WxDeni0Q3ghvhHcOwtv8lJt1UIwaRKpwZlH1iAsrer1o0l7pVeDTSZlJs92Kcyf51+3eOF5puOlHdWtTmfV14RcVV2bdyijL9csj/GlPCJZhN8o4bBuEN8K7qwb9Tjp/1KBmwlz5phFeafJxldFpXNJLb6Z+eix6cEvCq9O2ln2/jV3UebfsaGJwj8LAhHUbFgaTLEeDVZpj02a7FSdXu/l65WFxl4VTpC0XN4Q3whvhncOMdxrH5RowNC5NHkWlSRK7dt2LqoOdr11e+Lxo4W/Xo9PzNL+A1Kk9neKh9yc95OVRRlPz0OVn4f4Qd91E0a12VXEd12YNb6rtaVe54rhIvBHeCG8cVQrhnSRM03ZSXQ8dHjTyXiOdti7hdOF6xV2H7yviOq5sDa/TrKirHSauCPx8zjOvvuRzG/OqWxahrXzqhoc4F390O9K8sCef5ghd32yJ8EZ446hSCO+mrTuOckRGCLqOZc2iNQVvF5YaV+YLtFE2ryrMhUtVdfKp3KyC2+DpUxuKrItpb9SxyHLJGzGeBwcQ3ghvhHcK4R3l4E1YnWZgXU4jzbII1/15xrlmtRT3rGVFCZmif2nwCc+seBWd3vSdqGM3zNq68M36RUqDYTc9xMV9aIsZb4Sxq2/5EofwRnhnFjG+kLfMepjBLerYJKEQ1T47zBfMs9QjSnSX0Sa7jKjzJvEmiz00bRQeJqwpD7JZMdH0aR7WDE7hYzvl1fWecNvt67q2iXp3z0MDwhvh3VXCO0qEpVk+YTv28HmTHGYUPqa9aXDKEwtTbtQxSzlR99thRc0U2mVEnWdpQ9PSRuFhhzWtvWnbY2OQ5XzCrBe7yo8z4909IjVt36lTOoQ3wrtrHHa7ojLvZQ++O4gonMoW3YqRS3ikxTCqLVH5ps0vS7qockxYFXhmqXvRadnZ5EjhpJww/Mh6LNpevuXvwse3ulKfI7ne7ZggvBHeXSO8Xc5a4+KcASKhGsfpslfaZRquPJLi0pYRxZskERV1TzeFddvDbBrbJvExLr4bH+KY8a7GJ6fhMWmSbYPwRnjHCs4mdaCkgV4HtbgBLG7AM+FNwsmnthh8o45p1gHrz+9R92YJa1d8u76up+X7hHNVdXHZweAe9aJhXD+tqh15lJvGP0Xh1UQs0uAZhYUJS3M/aZLFIRgVhxHCG+HdFSIgaXs6l9M2cVHHNAIQB9aeA+vkl4Z2hUyUjduxX1Q+JgzOHOKDwSPqOOKyhRK1571J2zTBmcY/tcPDpt5jeBB1bGqbaVd744iPuCG8Ed5dIbyjHHRUmN1JdXCPSmOHmZk5+z7O83GQSeLZhXMaIWPb0XXezsuXrvzgTLLwduFn4lz2r1ucaVPcEc709SlxOGl43WxPffvathvwQHgjvLvCUbkctR1nOn2VL+WZOnBs/wVL26Z5nGe1havMrHk1NX3SLxouDDWuKbgkPWA2qa152czFDR5Suk/I5sWrsvJBeCO8GzOAxXWatCJanbk67TQDoXH8cWUSno/zNzhHHeMwTvNLRVR+rrCsg7krr7h6d1t4ln4WhWdTlpsk/TrTlHbmyW/XQ9uYmc83fkzLE0vyymesyoKjF8J74sSJMnjwYBk6dKiMHDlS1q9f/40cPnSYN2+eHHXUUbJhw4Y+4ebiyy+/lClTpsgJJ5wgP/zhD+Wll14yUamPCkQW4EhbPlnbxTxq0I4L0/W3gy9ZkLjERO/Xdajt1on70vEnzk4aHoeh655247LYOklQxtW7G8PbtYe5rwmYmbbEHZvQxrzbQB9L5z/zxp388sHdC+G9b9++lkBetGiRDBs2rHW9du1aOffcc+X444+PFd4qzGfMmBHcs2XLFjn22GNl//79rTzSnCC88yGUbx0zj50t4gbErLOgvmFTh/rEYa/hcfV33dNJXFx54XDXbJyr3uF8uuF62LSFqR5y4+xW9w/HJAlI+BI/LsVxAsziMesGn1KHNnohvG1hPH/+fBk+fHgQdODAATn11FNl+/btTuF90kknyerVq1vZTJgwQZ577rnWdZqTKoT3R3v+Wz766M+xAqIOBPK1jkUsNwg7el/b3qR6hTG3r+MefOw04fNOHsTS4hou075mR5O+oiCN8LTxizqP40Fae1WZjmUmffmQxRZRXDBhWfIhbfs2ALv2sPNGeE+fPl0GDhwoAwYMkN7e3kAr33zzzfLwww8H564Z76OPPlo+/fTTlr6+9tpr5YEHHmhdpzkpU3h/tOszWXn9bHljxKnBvyVnj5O3J18iy6fPlNWz58i6O++T9x96VD6Y/5xsWfy6bFu2Wna+v0X27PwEkf5xMtHLEN2su0y2Qx5O2QykUccoEZtke61TUpqosjQsrcCLuz9LHnlgV5c8XHiljatLW8P1TGpfOD3Xh/2OCztwOowTWPiHhTfC24hjnfEeN26cLF++XM466yw5ePBgENUk4b3x6T/I60NGtPXvzdPOlKXnni/vXHyZrLjmBlnz89tl/T2/lA2/fUI2PvMH+fBPS2T78nWy64Pt8tHuz7tSqLscch5xiO7yHFnWZRtpP1zTjvhOu87bxTEGwSO548IrbVxdl5y42jd0avxyKnjk3vHIxlU/wgReR/Y7MKkOE++Et6rsfv36yV133SXf/e53gyUmKrq/9a1vSf/+/eW1114zGr11rNtSk03PLW5LdGcW60NPlrfOGCPLzv+JvHvplbLy+p/KmtvulPf+6yHpfWyBbHr+Jdn6xjuyY/UG2b1ldyOWveTx07XttO1zBHf5jirJnuHBw7ZX+DyNcA7fE74Olxe+zlrf8P3deJ203CJsg7jrtL9I+IJx0sNf3dpTNq5xPIgK148xlV0/yit/vKgL5pULb30JcteuXS0RvXjx4kBgm5luE+Ga8Z47d26flyuPOeYY+eKLL8ytqY6lLjXZ89+y9hd3yZunnlGOAE87uz68R946a6y8fcFFsvzKa2TVrFtk7bx75P1f/VY+ePIZ2bzoVdm6ZKXsXL9J9mzf66Uj6/RlrSinbcLq0qmbVk+Df9Qx3NaoNCYsjZBJEkPh8sLXSSIynJ7rfZm27zS2jDvWCc+4NpjwOrWliroanNIe0/T/KtpBmd0n0CsX3nv37pWenh4ZNGiQDBkyREaPHi26k0n4Lyy8Ne2ePXuCZH/5y19k8uTJwXaCJ554oujOKFn/yhTepqPpi5V7tn0sO9ZtlK1vLZfNf/iTfPDE04HQXTv3P2XVrJtl+eVXy7JJU+St0WPl9WGneCXU3zjldFkydoK8M+VSWXHVdbL65ttk3d3/JRsefkw2LnxBtrz8pmx7Z43s6t0quq7dtLvIY1onnCSwwvngtKtzjmFb2Nc2l9RGdlz43E7rOg/fZ18nfcXSTht17iq3m+OisGonrE7LCpLa1818SNP2JPzC8Wl+8UpTLmmqGwuagn3lwjurQC4qfRXCOyuJdBeU3Zt3yY5V78uHr78tumSl99EF8t79v5Y1t90hK6+7KVhSsmzCBfLmyNFeiXRdJvPm6aNk6fhJ8u7UK2TlzFmyZs48WX/fg9L7yJOy6dk/yoevLpXtK9+T3Zt2irY1Kz5pxLQ9MIcds+s6a11In59zdtnFfiDKuh48zkau8jQu7j4Nd90b9TKoK69uinPhZuLS9G9Nq+l8xy6pLXVoQ9UYG15kOVZdZ8rPb1yoM5YI72+UfB2Ed1ai6Szzrg+2yfZ318mWV96SjU+/KBt+87is/88HZPUtvwheznznommy9Nzz5I0ez5a96Pr0UWfLsokXyruXzZBVN/5M1t5+t7z3wMPS+/unZPOLr8jWN9+VHWs+kN1bPwrWpyc54PBglpTexIfvy2oH0nfmbI0doo62mI2Kt8PS2sG+J+o8Lp+kL6TaDwlxeXRreNISHfOioa7VjbJJOMx3HMP1DV/7Xn8f6pf0oB3GVK99qDd16Gw8aAJ+CO8GC++sBN2z4xPZ+d4W2bZslWz+42vywfxn5f0HH5F1d9wrq386R5ZPv1be/snFsmTMuGAbxMwve6Zda95GuleG9sizI0bJ4z3j5cHTfyJ3n3mpzDnrKrn+nBvlinFz5MLz7jy0LeN7h7dljHLMUWFZcSR9vo417U4lUbYzYbZAT7JP0mxkWEAnCW5Th6Ryuzk+aZmQjbnB03X06WF5+LR0X8K129PNXEjb9iTO2Hiac594kbadpMt3PPEBT4Q3wrutWQBdn777wz2yY01vMPO8+cWXpffxp4IZaX1xdNUNs4OZap2xfuvMs+X1oSd7tfRFX2z948ix8sip58kDI6fIHaMuk5vHXCszx/5Upo2/TS44/24554JfyqkX/q5rt2X0wUFpHZKEsKmnGVyjjrZwM+ldx6g8TJgt4tPOwOq9rvKI2ydxHzcKbxWYxAdjJx8wNXXJckx6j8CHdvlShyy4mrS+1J16NE9Qp7UpwhvhXYog0DXbuzbtkO0r3gvWcuua7g2PPCnr7/2VrJkzV1ZeO0veueRyWTp+YrAW3KfZdH1oePOMs2TZeRHbMj6q2zIuDtbcN2lbxrQOpKx0ZtCMOpo6RMWZMJMm7dHcF3fUfNLOdGsezLSlG2TDmMaJ0DQPPFVvIRf3IBHHKROelqOkc79TYfAMH8EtXV8Ep+JwQngjvEsR3lk78Z6dn8rODVuDXVG2vPSGbFz4fLBbyrq77pfVP7st2EXl7QunyrMjRsvLQ3u8mk1/XbdlHK3bMk6R5VdcfeS2jH/4k2xdskJ2rvN3W8as9io6fXjwtK91NjvpZ+es9UtaP6r52XVIOs9aPumTB70kzDU+TriXgW+a+kWlKaNuTSkjCr+ksKa0nXYk+whfMUJ4I7y9FN6uDhP1U/Pwix6XMyc/JOMn3ScXnTdPpo+7RW48+wa5dfQMWXzZ9YEAViEcbMs43C+hbrZl1AeJYFvGn90m+oAR3pZRH0TK2pbRhX8Vca7BVJd+pBHKWeqdJOSjOBhXx/BSiSz1IG384JpkI2OPKjBMWzdTR3Pkl5F4e0fZManfG1ztY1Q+hGXDHbw6wwvhjfCulfC2HWia8yjR09qWcfWGQ9syPh+zLeN5PwmWmHi17CW8LeO1ui3j3GDJji7dsbdl1KU97WzL6KNTTWPruDT2muwsbYvLL2t4ljJJm21AS3rxVm2lIrhsXJN2aYnjUNn1rHt57TzgVMGHuuNM/bP5pSS8EN4I79IHpSRShuPbca5mYAvn1c71R7s/D23L+AfZ8NvfR2zLeL5/XyPVbRnPDG3L+Iu7Dm3L+Lhuy/jyEdsytoNR0fe0M7NlONDuQGvub/eou1kUjUu355/GN5itCMvEql3OlFnHppSl32bIgne7D+JNwYt25Cui28ET4Y3w9lYchF+0yuJcNW1VP9tGbsv460dk3Z3+b8v4xohTg+0iddtI3T5St5HUeuu2krq9pG4zqdtN6raT2s52nE4796QRWHH8aKc8vSfNbGpUmUOmIrjbxbyd+9IIr3by7eSeKF4khVXlrzpppy/3hl9kHXyJewtHX+pNPaoXwVXYAOGN8C5NPGUheKeiu8qXqrK0M9iWcetHwYeA9INAfbZlvP3u4MNB+gGhZedP9nZbRv0Ak36IacU1NwQfZtIPNOkvAvrBJv1wk37AST/kpL8cZMEmnDZJuMTFh/NJe51lHbdddtr8SZffoGvjH3Vepqht9yERPuTHhyQbgHV+WINldiwR3gjvjsRQUZ0uavBMG6ZOt6h6VZ1va1vGlTHbMs6cJe9OvUKWjp/k37aMuj5dt2WccIG8e+mVsvK6m2TNbXfIe/f/WnrtbRlXvS+7N+86Yn16WvuH03Vis3Beaa47KY97sw9iilmS0FK7lYXtsGkLMy19YElSezZPsqerrybdS3wxNgHXQ7givBHepQ1IaTtduzONDGBHOkvdBaW1LePLb8rGhS8csS3jO1MulSVjJ4juruLVi6T2toyXXy33nDFVbhs9I9itRnet0d1rdBcb3c1Gd7UZdPH8SMGTlndR6VyDd1RcmTOrUfXt5rAoe9hh7TyQR/mipF/T7DKjzrvZRmW2PQp7E1ZmPSjryHGp2zFBeCO8vRPexjmmPeoaz27vyHm1f8/2vcH+4rrP+OY//Ek+ePIZef9Xv5W18+4J9iPXfcmDbRnPGiu6X7lPQl33c9d93R/rGS+/On2y3HXmNHls2s/k/YceDfaB1/3gt72zJngQSbstY9YlT3nZgXyyD9ZpdhLJgmuU6DY+ySW+TZqo44jLFuKrPs5u2yx2M2mj8DdhPCCXYwNjC4598UZ4I7y9GwiMc0w6MsPdtzOX7dyC9elbdot+sfPD198OvuCpS0be+6+HZM1td8rK638aLCnRL37qEhP9AqhPQv3N084MvpSqX0zVL6ce2pbxl7Lhd0/IpmcWBV9Y1S+t9kx5RAZf/GTkbLrNUZcYK9s23VhemuUmmib8Ip7aMOorl7Zto86jME6qQzuz7lHlEJbs+6JsZoeBYTKGYFQMRghvhLdXwts1y2ScZtQgiYMoxkHkieuhbRm3y/bl6+TDPy2RjU9/sy3jPb+UNT+/PXg5852LL5Ol5/q3LeOrQ06WF4efIfNPGSu/OW2S3HvGJfKL0dPlprOvl6vOvVkumTBXtr7xruxY0yu7P9wj+lCSJ3bklY7fxke0ezQ4p/mlI0pEJ217afLnmM6eneCUZAvlSCf5c2/xNmwqxghvhLdXzidpwGxqR6RdRzrxPTs/kZ3vb5Fty1YH2xh+MP85uf6cG2XOWVfJ3WdOkwdPnyyP94yXZ0eMkleGnuLVbPqhbRnPlWBbxiuvkVU//bmsu8PelvFV2bZ0pex8b3Op2zI2nWdpHtyTfEwa0a15RC0bceUdlb7p9qiyfUm/PqitWKZ4pN+t0mbdUjbCG+GN8C5pzWG3OJUi2xm1TCAQOxfPlxEXPSajfvJrmTDxPrlh6j3S+/ungg8FrbW3ZZx4obw16mzvlr280XOGHNqW8VJZcfX1svrmXwQfaNrwm8cPbcv48puy/d21sqt3m6Rdn16kHXzO2yV+844L4+DKP2qGPHw/1/kKQZc9TByY54s5eCbjifBGeHsjvJNmKFhDm9yhu8HpmQHTdUzCQbdl3L1pp2y3tmXsfeRJWX/fg7JmzjxZ6fu2jCNH992W8dY7grr3PjpfNj23OFhzv31l9LaMSdjUPT6PWW8Xt+y4MFZ2XPg8nJbr4v3Z0EuTt3ZkXCneDnC9L8YIb4S3N8I7af9bOm/fztvNeIRFjX1dxECqs8xz710sYy94QH5y/l1y+fhb5bpzbpIHJs+S1TffJiuuuk683ZZx2Cny1uhzZNmkKbL88qtl1aybZe3cu+W9X/5GPvj908HuNVvfWi471m2UPds+asT6dJsPRZ6HZ7FdZXVzf62q7UmTOcZeVdWPcrtzTEN4I7y9Ed7GCcYdcVLd6aTi7K4v2Ya5UoTojivfFR5sy7h+k2xdslI2L3q177aMN90iy6+8Rt6+4CJ5y8NtGd84+TRZcvZ4efvCqbJixkxZPftWWXfX/Ye2ZVzwvGx56XXZ9vZq2fn+h7Jn56fe+A/bHmFeFHVtr9tOEnl2/Tgvz5cl2UW5wfaC5dkD7u8ThDfC24uBM+nnYXuAo+PiJJvEAXtbxq1vvCObnn9Jeh+L2Jbx/J/IW2eM8W59erAt47iJojvSrLj2Rlnz87my/t5fyobfPiEbn/lDsIPN9hXrZdfGHUd8jbQoOyb5kzyFuGnDmJnPH/EgaJdj0nEs33+l4QN2Kd8u3Yo5whvh7YXwHjx1gXPQCv+k260dlnYzOLS2ZXz3m20Zn9FtGZ+Q9eFtGcdNFBXFPu2drnu5v3XmGFl2/k/k3WnTZeX1s2XtL+4M9n7vfXxh8NChDx87Vuu2jLs7WvZii94iz41vcpVx2vSnvfCz3ew/XPbRuG7GhraXO64gvBHeXjgcnGK5HR9H2z1429sybln8uui2jPo1z3V33ierZ8+R5dNnytuTL5ElZ48T3QbRK6E+vEeWjDn38LaMN90i6+bdI+8/+Dv54MlnZfMfXw2W8+xcv0l0eY/Na112lORXopYrJd0Tjjei2jV5YMS5XT/Oy+2DsTsiXXJo0gd7lGuPbsYb4Y3w7jNYVdUZwoOZfc0yExxiVbzstnJ12Yu+YLlj7UbRFy43v/jKoW0Zf/mb4IXMVTfeLMsvv0qWebst40hZOvY8eeeiQ9sy3jXqMrnlrGvkurE3yWXjbw1ejNUXZE+78Lcy5OInA9+XZg2w7Y+izpUnUeEmrNt45Gt7jT2ijr7WmXo1b/xDeCO8KxfeSevvmC1qnuNhMGmGTYNtGTfvEt268MPXlsmm5/4orW0Zb71DVl53k7w79QpZOmGSvHn6aL9m04eMCOqkdXt54iVy/8iLZO6oK2T2mJlyzdjZMnXCL2TixP+UMT/5lfRMeUQGXTw/Vlwrn6PEnAmD737w3dgj6sg444eNuqGvILwR3pUL7ygnaId1Q0ekjTj9buCAbsuoHwHSjwFteflN2fjUC7Lh4cdl3d3/FXw0SD8epLPVOmv9Rs9Ir4T6q0NOlheGnylPnjJWHj5tktxzxiVy2+gZMuvsG4JtGS86b17w8aZRkx+SERc93keod4Nt69BGB2RtMQAAIABJREFUe1wJn5slQ3VoB3Ws93iB8EZ4I7z5cmXlHGAgqfdAUpT9gm0Z39ss25auDNZz67puXd+t67xX/fTnh7Zl/MnFwTrw14f3eCXUXx7aI8+OGC2P94z/ZlvGOcG6el1fv7Em2zIWZdeq8j19xjP8MsF4V/l4h/BGeFdOwvDMg32ty1CqctKUixiEA/XhQLAt44e7gx1Rtr7xrmx64WXRnVLe+6+Hgp1TdAcV3Ull2fmTg51VdIcVn14k9XFbxqbxP2k9f9PaS3v89F8Ib4R3pcIWR+inY8BhY5emc0DXp+ve4rrH+Id/WhLsOb7hd08Ee5DrXuS6J7nuTb60y7dlbBoP7Imd8HnT2kp7/PTjCG+Ed6XC++TLn+anP376q5SDDE5+Dk6+2eXUaQtk5IW/kXMn/ZdMPu9OuWLcHLn+nFny87OulrvOnCa/On1ysKxEl5e8MvQUr2bTdRlO0raMupwnaltG3+zQaX3CYtu+7jRv7seXpOEAwhvhXanosZ1e1HkaEpMGZwcH4EDRHEj6da6P/7p4fvCCpb5oOWHSfbL5D38KXsB8L7wt46Qp8tboc+T1YX4JdX2x1d6WcfXNtwUvwOqLsPpCrL4Yqy/I6ouy+sJs0djnmX8fO32zh7cJy7Mc8sInxXEA4Y3wrtRpGocXdWR9N44rznERDjeq4ECUn0oKS7NbRuS2jI/Ol/X3PShrarQto24dqVtIap217rq1pG4xqVtN6paTuzfvEm1rFbYzZbrsxZaC+BXDkyKPCG+Ed2VOMGkGqUjikzcOFg7AgawccIm2uLgixFyqbRmn+Lkto87uvzXq7OAjTPoxJv0o09q5d4v+GtD7+6eCjzbpx5v0I076MSd9aTarnVzp4+yk4XysDZ/g4k5ecQhvhHeuTi0LMVnfjZPLwhfSwpeqOeASbXFxVddZy3duy3jTLV5vy/jGyafJkrPHy9uTL5Hl02fK6tmhbRkXvy7blq2Wne9vkT07P0kcz9hSED9SdZ9EeCO8Ex1VUSSNG6hMeFHlki+OFw7AgXY4YHxTlmM75VR5T6ptGS+bUY9tGa+5Qdb8/HZZf88vZcNvnwh2rnn2wefknAt+Kade+DsZfPGTR7zcXyX2lN0dfikX4T1r1ixZv379NxK2ngcFAtKXS3rX4MVPfuXaAu6DNxxI5kDSr3RRPq3puPbZlvHVpbLpmUVyxLaMl1wuS8dPFN2r3Ke9018bMkL+MGykzD/lHPnNaRPlvjMulj9efUuw93vvYwtk0/MvydY33gn2ht+9ZXfuy16azg3aF+1TchHeN9xwgxxzzDHy4x//WO655x7ZvXt37dQ3wjuaIEV1nKT13UWsiyyqLeRbLnfAG7yr4kCS3+pG4Z3VFnt2fio73/9Qtr29Wra89IZsXPi86Nc81911v6yefWvwlc+3L5wqS84ZL7rMxCehrtsyvnXWWHn7gouC5TmrbrpF1s67R97/1W/lgyefkc2LXpWtS7pjW8asdif9Yb+di/BWlf3VV1/JSy+9JBdffLEcffTRMmbMGJk/f77s37+/FiIc4X2YFGV0ENbZlYt3GTalDGzaDRyIEteusG7ApKg26rKXPds+lh3rNoq+cBlsy/jE04HQXTv3P2XVrJtl+eVXy7JgW8ax/m3LeMrpsmTsBHlnyqWy4qrrJNiW8a77ZcPDj8nGhYe2Zdz2zhrZ1bu1dtsyFmXzbsg3N+Ftq+ve3l4ZPHiw/M3f/E0gwqdPny579uyxk3h3jvAuVzS4BiqN64bORxvL5Rx4g3ceHEjyXeH4PMokj3TcNdsy7lj1vnz4+tuy6bnF0vvogkPbMt52R7DV4buXXilP9Zwji4ad7tds+pAR8ubpo2Tp+EkSbMs4c5asmTMvqPsG3Zbx2T/Kh68ule0r35Pdm3ZWvi0jnEzHySicchPeX3zxhTz22GMyatQo+fa3vy1XXXWVvPPOO7Jr1y658cYbZdCgQd6JbbtCCO/2SRRFrKSw8OBkX7N/d7m2SLIV8dgDDhzmgO2r0pyD3WHsfMHCLBkacvGTctqFvwtetrzg/LvksvG3ysyxN8n6/3xAVt/yC1lxzQ3yzkXTZOm558kbPWf4JdSHnixvnXloW8Z3L5shq278may9/W5574GHpfdx3ZbxZdn65ruyY80Hsntr/tsy+mLLOtYjF+E9efLkYGZ7/Pjx8uyzz8qBAwdsTStff/11EN8n0LMLhHe5ztE1YNWxI1HncvkD3uBdFQdcviscl+bjOVW1o9vLDdvKvo57x6jvtoyvyQfzn5X3H3xE1t1xr6z66c+tbRnHyRsjTvVKqGt9lowZJ2//5GJZPv1aWf1T3ZbxXnn/14/IB/Ofk81/fE22LVslO99Lty1jt/Onk/bnIrzvv/9++fjjj51S+ssvv3TGVx2J8C53ILedXPi8E0Jzb7l2BG/w7jYOJL2fYvuzOAHXbZj52F7bTuHzPB6YDm3LuEd2rOmVrW+8K5teeFl6H18YzEiv/cVdsuqG2aIz1cvOnyxvnTlGXh96sldC/c1Tz5Cl554v71x8WTDzr78A6C8BG377e9n49B/kwz8tke3L18muD7bJR7s/Z3nox+nHglyEd6eieeLEicGa8KFDh8rIkSNbWxPGhYfLmzt3rnznO9+RIUOGBP9mzpwZTpJ4jfBOT5pOnaguJQk7Ovu60/y5vzxbgjVYdxsHzDIF22fFnXcbNnVqb9LWkGW3JdiWcdMO2b7ivWAtd3hbxpXXzpJ3PN2WUR8a3jzjLFl23k9E19CvvP6nsua2O+S9+38drLHf9PziYM39jtUbhG0Z94kXwnvfvn0tYbxo0SIZNmxYcB0X3kr8zYkK79mzZ4eDM10jvMsTEIOnLkB4Z3g6LnsAoLzy+gJY1xPrOKEdDse+/to36QHKd9vVflvG0bot4xRZfsXVsmqWtS3jE08Hu9dsXbJCdq7bFHx11XdbZK2fF8LbVsi6BeHw4cPtoOA8LlwjEd7+OrcoQoYHJ/s6j5/4osokrF4cwV7Yy2cO2D7Lde5zG6jbvq6ZAGpty7jW2pbx93HbMp7j7baMur97sC3jz24L9n0Pb8u4c0M9tmX0RnjrloMDBw6UAQMGiG5HaP7iwk28Ed7HHXdcsHPKOeecI8uXL7ejU50z413eQO8aqFgTWZ4dGHjBGg60xwGXD7PjwLc9fMvCzbZV+LysOvhYTvS2jPODpSO6hGTldTcFS0qWTbhA3hw52qu16frBpT7bMl6r2zLOlfX3/kqO2JZx60eVrE33Rngbdawz2+PGjTOXrWNcuCbQFzv/53/+J0j7+uuvB+u9P/vss9a9aU4Q3uU5yLCDs699dELUqTxugDVY14EDSeuDjU+rQ1u6uY7GTlHHbsYla9s/2vVZ8JLl9nfXyZZX3pKNT78oG37zuPfbMupOLyrIs7a30/TeCW8Vyf369ZMo4RwXHhbWulRl6dKl4WDnNcK7nAGfFyvLwblTx8D92AkOxHMgaX2wEXJgGI+hD9gYO0Ud+fW1ONvt2fFJsG2hbl+o2xja2zLqNoe63aFue6jbH5axLePO9zaXKr4rF976SXn9yI75W7x4sfTv31/0gzxR4QcPHjRJW0f7q5jr168PPuCTtL1h6+ZvThDexXUy28HyYmU5ONuYcw7mcCB/DkSJNTuM91XyxzxvHtv2Cp9jPz/sd3hbxg+CDwLph4H0A0H6oaBgW8Ybf3ZoW8aJFwYfFMq8LePwHtm1aUd3Ce+9e/dKT09PsD5btwMcPXq0rF27VuLCjWDW5SirV68OLi+77DL58Y9/HGxJOGLECHnllVdMstRHhHc5nSzs3OzrEZctLJX8eTtx8iuHQ+AMzj5wwPZdUefMmPrP06Q92X3gGXXIxqPWtowrv9mW8dk/Bmu7dUmJrvVeOXOWvDv1Clk6fpK8PfkS2fjMH0rXHZXPeKdWxgUnRHhnI3e7ziBqgDJhDFTl2KBd23Ef9oEDhzlg/FbcEawOY+UrFklLhnytN/Xyn1suGyG8vxH0CO9yiBw3SGm4i6jElWMfcAZnOJCOA9NufyV2O7rB+LPa+HPGpHR8xy/khxPCG+FdmoNkdiG/josTBEs4UD0HJsx6MVJ88+td9bZJ2z8Q3vWxVVqb+p4O4Y3wLk14s54OB+e7Q6R+cDQrB1Rkj5n5fCDA9YjorheHEN71slfW/uljeoQ3wrs04e1ycLxBjvPz0UFSJ3gJB5rNAde4xENUs21fVd9GeCO8vRDeODgcXFVOkHLhHhzoXg64hDcTQt3LiyJ9AsIb4e2F8C6S5OSN84QDcAAOwIEoDrAEEl5E8aLIMIQ3whvh/TGOp0gnQ97wCw7AAV85oL+2uma9fa039apvn0J4I7wR3gjv0jjAYFHfwQLbYbumcgDhDbfL5DbCG+FdiuhiVgHHVqZjoyz4BgfgQFoOILzhSlqu5JEO4Y3wLkV4s44Ox5aHwyIPeAQH4EDeHEB4w6m8OeXKD+GN8C5FeLscG2+O4/RcToo4+AEH4ECRHHCNT0WWS97dyWuEN8K7cuHNVoLd6XwYdLA7HIADPnAA4Q0Py+QhwhvhXbnwLpPwlIWDhQNwAA7AAZsDg6cuiN3ZhIkhuGJzJY9zhDfCG+HNrialcCAPh0UeDIJwAA7kzQHXjDdLIeFb3nxDeCO8SxFdLseWN6nJD0cJB+AAHIADaTkwZubzsTPeOnalzYd0cC4NBxDeCO9SnArCG4eUxiGRBp7AAThQNgfY7hbOlck5hDfCG+HNUpNSOFCmY6MsBlI4AAeycIDJIfiShS+dpEV4I7wLF13MJuDQOnFS3At/4AAcKJoDCG84VjTHTP4Ib4R34cKbj+fg0IzD4QgX4AAc8JEDCG94WRYvEd4I78KFt8uh8cY4zq4sZ0c5cA0OwIE4DrjGqbh7CIdP7XAA4Y3wrlR4s0cqjqsdx8U98AYOwIE8OYDwhk958smVF8Ib4V2p8HaRkzgcIRyAA3AADpTBAZfwZoIIDubJQYQ3whvhza4mhXMgT6dFXgyCcAAO5M0Bl/BmSSR8y5NvCG+Ed6Giix1NcFh5Oizygk9wAA4UwQE2AYBXRfAqKk+EN8K7UOF98uVP80UwZtQL5ViUYyOMQRQOwIEsHGCSCL5k4UsnaRHeCO9CRZHr5zuN64S83IujhANwAA7Agbw44Bqv8iqDfOArwhvhXaj4dTmyOQ8tK7RsHBwODg7AATgAB9JygPEKrqTlSifpEN4I78LE77TbX2GZCctMCuNXJ46Pexlg4QAcCHPAJbw1bvg0fqUNY8Z19n6E8EZ4FyaMkpwYHTZ7hwUzMIMDcAAOFMOBwVMXOCeLzJgG/sXg3y24IrwR3oUIb11GYpxU1HHoVGYOusXJ0E4GKTgAB+rAgaRxy4xlzHzD5074jPBGeBcivI2DijvyQQIcVyeOi3vhDxyAA0VwIG7MCofzjhL8a5d/CG+EdyXCu13Cch/ODg7AATgAB4riQFhgu66LqgP5NpvfCG+Ed+7CO+mlSpaZNNupMGhgXzgAB+rKgbTLTVSQ88stPG+H5whvhHfuwts1Q4CzwlG146i4B97AAThQFgeGpHzJkkkkONkOJxHeCO/ShXc7ROUeHBwcgANwAA6UxYGeK55ybhBgJpjKqg/lNIf7CG+Ed67CO+mzu7yQ0hznwUCALeEAHGg6B4zAjjuy3IQ+kLUPILwR3rkK79NnPOOcJchKUNLj1OAAHIADcKAqDiSt+R5x2cJcx9Cq2km55fUxhDfCO1enETcrYMLp3OV1brAGazgAB+BA5xww41fcEYw7x7ibMER4I7xLE94sM8E5dZNzpa3wHQ40gwMnX/40v+R+3Axb+tAnEd4I77aE96irnz3CEU2Y9eIRYfYMgQ+Epw44TzgAB+AAHMjCAd5dgi9Z+JKUFuGN8M4svKNEty2w486TyEg8zg0OwAE4AAd85EDcuGbCfawzdfKzL3khvCdOnCiDBw+WoUOHysiRI2X9+vWBHI4L/0Yrtw5fffWVzJw5U37wgx/ICSecII899lgrLu2JAgFJ05HUOJqsR/BNhy84gRMcgANwwC8OJI132Msve/lsDy+E9759+1r6eNGiRTJs2LDgOi68lfibk/nz58vYsWPl66+/lk8//VSOO+442b59eziZ8xrhna7TJP3k5nJOPncE6pbO/uAETnAADnQjB5J2N9EvNncjLrQ5uz/wQnjbilhF9PDhw+2g4DwuXCPHjx8vzz//fOue6667Tu67777WdZoThHc68iS9ZBInvE+b/jROiZdT4AAcgANwoLYciBvfTDgiNJ2O6HacvBHe06dPl4EDB8qAAQOkt7e3pZXjwlsJRGTQoEGyatWqVtC9994rN9xwQ+s6zQnCO12HMQ4m65GPDKTDt9sdEu2HJ3AADvjKgaRxj3EO7qbhrjfC24hjndkeN26cuWwd48I1AcK7PLInOZ64+DRkJE15dgRrsIYDcAAOZONA0nITPqaTDc9u5Z93wluFdL9+/eSzzz5riW5zEhfOUpPyyB4nrJPCu7WD0e7yuAnWYA0H4EDRHGCsg2Odcqxy4b1//37ZtWuX0dayePFi6d+/v3zxxReR4QcPHmylNSdPPPHEES9Xbtu2zUSnOrLUJF1nSnI6cfGdEpX709kHnMAJDsABOFAcB4ZNW8j3KnhPoaP3FCoX3nv37pWenp5guciQIUNk9OjRsnbtWokLNypal6OsXr06uNTtBK+55ppgO0HdUvCRRx4xyVIfEd7JjoodTZIxYsADIzgAB+BAczmQNA5i++baPi/bVi68UyvjghMivJM7y5iZzzuf9ONmu/lUfDK2eXVo8gFrOAAH4ECxHIgb6zScFyyLxb4J3EZ4fyPoEd7JncXlbFxxTegotCGZH2AERnAADnQDB1zjHVvn0geS+gDCG+Gdeq3S4KkL2prxTiIh8TgqOAAH4AAcqAsHkr5nUZd2UM9q+hzCG+GdWni7nvLj4viaVzUdG4cK7nAADsCBYjjAOu9icO0WviK8Ed65CO/h046cDUd045y6xZHSTrgOB7qLA3GTTRoOF7qLC1ntjfCuSHj3XPFUn2Ubep3VeGWnx9HgTMrmHOXBOTgAB3zkAOMhvGyXlwjvCoR3WHTbHbhdQ5Zxn13P8HkZ5VMGjg4OwAE4AAd84EB4DLSv2ckLjro4ivCuQHjbHTR87vPyjHBd7WsXyYjDCcEBOAAH4ECTOGCPf1HnTWorbcm37yK8PRPe2oF9JXmUczFhvtaZeuXrMMATPOEAHIAD++T0Gc/0WS5qxkJzBCN/+8mEWS/2sZ1el2kvhDfCOzXhjEOJOpZJWsry16FhG2wDB+BAN3CAnU3K47ku3QnrDt3QoR2ehfMx12WKb4S3h8Lbx/VhOJnynEw7zoR7sA8cgANwoFwOGNEWdeQLln1tMerqZ48Qz2m0TpTotvHOwnn7vqjzLHl1khbhXYHwThKxSohOjFrEva7PxfOlrr4Opgj8yROM4QAcgAN+cSBKvJmwwR6O41XxJ2q7YYNTkvg26eKOaWeqo4R/OM+y8EF4VyC81bhhg4evyyJA2nLC9bOvebL3azBIa1PSYTc4AAfgQPscsMfBqHPGxn2SNGNtcFNhHOZieC22SRs+hu8LX6eZ7NQ8w/cVdY3wrkh4J5GxKIO3m+8Qx+fi282T+9p3+GAHdnAADsCBajmQ9ILl0KnliTlfuRAWya5r1RmmHUkayc4nab33yZc/nTjZWeYvFAjvioS3kssmTvjckM+XY7h+9rUvdaQe1Q5C4A/+cAAOdBMH0syk2mKym7AxbbW1Qppzs6VymrR2GtevC3a6uHPX/aYteR0R3p4K7zJJkIZMcTPe3e5U0mBHGsQIHIADcKCZHIgTcuHwbrR/lllrGy/Fyr5Ocz7isoWt2XIb6zR10DT2PUWfI7w9Fd6+vbDoIn7RJCX/Zg5Y2BW7wgE4UHcOpBF2On6amdy6tzdL/Qc7lqi6NEXatd3hPKLqFk4Tvk77cmZU3u2GIbwrFN5J68PaNWoR9zHjzQBZBK/IE17BAThQdw6ExVzcdd3bmbX+cTgUFR5Vv6Syou4pOgzhXaHwTlofVrTxs+TvIm+WfEjLIAsH4AAcgANN4kDaGdomtTlNW1y6oYi4cJ2Sfo2o6uVXhHeFwltJ4iJfmERVXjPjzUBZJf8oG/7BATjgMwdcY7mJ8+3drSLxTJpYNJjkeQzjm5R3OH2ReNh5I7wR3qleKnAR2CYU5wyOcAAOwAE40I0c6LniKedkWtwLgE3EKs1SWpeuaCcu/G5cUh5V4Y7w9lh4V/U0FkVGZrwZSKN4QRi8gANwAA4c5oCvYq9sG6XBISlNVHzSC5t2O6PuN2FVPgQhvD0W3uGnN5tQZZ8bskYdy64L5R128mABFnAADsABfziQtK7Ypwm1InkTpRVMmNE25jrLMQlf06akdFXaAeFdsfBO83OMIVKVx7inTPbx9sfhV8kPyoYHcAAOwIFDHHAJyape6CvbNi4MjOhN0j/hPFRMazvC4fa1aacdFnVu0lVxRHhXLLyVgFGkMGFVkCJcZh3qGK4z14gAOAAH4AAcqIIDZvyOO1ZRpzLLTKsZktKF8TNtCIfb12nSaHqTroojwrti4a1Gt0kTPq+CFOEyx8x8PraOGhdOzzWDHRyAA3AADnQrB8LjePjazNw2FZ+kmWy73WFsXNfmPlcaFfNJgr5q/BHeCO9E4ZxEctMZODLQwgE4AAfgQLdzIGl9sY6pTcbIpRnCbU9Ka+LtlyFNWNRR14+ffPnTsZOFek/V2CO8Ed6JJIx7ej358oWJ91ZNcMpHBMABOAAH4EDZHIgShXZY2fUpszy7neFz82KlqU84Pu5aZ7HNPUnCOi4PE27yqeqI8PZceNtkq4ok2lEMYe1juANVVT/KZVCFA3AADsABnziQJA6HT6t+5rUovGydED4Pa5oknMz9dl2TlpKYe6KO9sy5nWeZ5whvz4W3D+I2irwmrEyyUhYDKxyAA3AADtSBA2nFoX5uvg7tSVvHpHaH80lKr1ojCiOjQbIetbxwHcq+Rnh7ILzjlnIYQpVNinB5fDyHgS7MCa7hBByAA3DAzQEzhicdm7Qtbzt6JgmfKJ4l3RMXH5VX2WEIbw+Ed9ITX9mkCJcXR2AND6fl2u2IwQd84AAcgAPdwYG0yyh0LI2a1a0jT1x6IU4zuF5GnXb7K5E6I6mcuHgfMEV4eyC8lQhxJIkjapnkYca7OwaJMjlFWXAKDsCBpnMgaVItPO43AY9wm+xr19LZKPEdJ7oVJzvftOdVbyNo7IvwRnhHPk0agiQR3E7HOQMpHIADcAAOwIHDHBh19bOpRaIP6487sV3Sg0ae7Uta0hIlxjtpW573IrxrILzzJGs75GHG+7ATbQc/7gE/OAAH4ED3ckB3MIkSguEwH3bc6ISnSWK4k7zD9yaJ/DC2eh3Oo6prhHcNhLfr55kyiBNFYBNWRvmU0b0DFrbH9nAADjSBA7pswoybrmOd2+pql8bl3bak8ux417KVvOuVlB/C2xPhnfQSRpIhi4xnxpuBr0h+kTf8ggNwoFs40HPFU04BXmccbKEbPi9iAjFchuvaJ1wR3p4I76SfTaokTV3IXCVGlI1wgANwAA7AgTQccI2pVS8ttesfXp8+eOoCcdWv7HZpfVxlmjjfdoxBeHsivJXshiRRR7szlH0eR+4m7T1aNqaUxwANB+AAHOhODkSN8SasiJnhdngW90u3qace7eUbVUweRu2EYtfPnLfT/iLvQXgjvJ3rrqroTEUSnry7c6DD7tgdDsABXzhgBGGa49BLFzpnmYtok84Qp6mbSaN1KPPFSrvNpg5xR9cMvZ1PmecI75oI76rIM2bm87EdUOPKJCtlMXDCATgAB+BA3TmQ9E5XlIgsSwMkTbZF1S1NWFE2c816l4VZ1rYhvGsivKvaZsjVoXwlddZOQHoGcjgAB+AAHCiLA+2K2zLqN2zawtjJNpcecMUVvXxGxbdZGqNHXz6UE2cvhLdHwruqn2riyKHhhsxRncp1H3EMYnAADsABOAAHojkQNaYmhenLjkXjmVSHduKZpOvLAS+E98SJE2Xw4MEydOhQGTlypKxfv14+++wzGTdunJx44okyaNAgueCCC+TTTz/9Rib3PVx++eVy3HHHyZAhQ4J/d911V98EKa4UiKIJnZR/0lNw0v1FxLs6WRHlkWffDgoe4AEH4AAcaB4HXGOrKy5vEZv24z6uOiXFwd++/PVCeO/bt68ljRctWiTDhg2Tzz//XJYsWdIKnz17tlx55ZWta/tEhfdDDz1kB2U+90F4KzldBK6CvHEz3hpeRX0os28HBg/wgANwAA7UjwNxu4W5NIDGDc1p7E2a6EuqR5Z4+NmXn14Ib1slz58/X4YPH24HBecvvPCCjBkz5ohwDUB49zVqniR3da48yyGv4mwItmALB+AAHPCLA66XAl3jrsa1a8u0X89MKj9LfFXvp7WLURn3eSO8p0+fLgMHDpQBAwZIb29vH4H99ddfB6L7wQcf7BNuLlR4f//73w+WpOiylY0bN5qo1Mc6zHjn/RNTGoLFPZVreJr7SeOXs8ce2AMOwAE44AcHsghYV1r9GmaSTbNuERguz+zZnXWmvArdkoRF1fHeCG+jkHXGW9d2238zZ84UFdQqwKP+9uzZ04rT+7/3ve/JV199FZU0NqwOwrvoN4OjyBjufPZ1VHrC/HDo2AE7wAE4AAf85kD4y5D2+Jr13LX8M6tYjio7zKWoNFFh4fu43ifeCW9Vxv369QtertRzXdt9zjnnyIEDB2JFczji29/+tuzYsSMc7Lz2RXj7trNJVEcyYXQgv5069sE+cAAOwAG/OWDG0zyOcdvotbNveLg+UTwKpwlfm1nyqHu7Oaxy4b1//37ZtWtXSxQvXrxY+vfvLwcPHpQ5c+bIqFEuPDfxAAAQiUlEQVSj5Msvv2zFR53ojLf5e/XVV+U73/mO/PWvfzVBqY6+CO+kJ9OyyRruSPZ12XWhPL8HEOyDfeAAHIAD2TmQ584iUfjb43Y753GCXsuKqzuiO54HlQvvvXv3Sk9PT7A+W7cDHD16tKxduzZY533UUUcF2wmabQInTZrUEtEaZgS3vnSpWw7qloS6HeGKFSta6dKe+CK8lciujhHVqYoM86kuRbaTvOOdBNiADRyAA3CgXA4kTcLFjc1Ra6rj0qYJdy1hgRPtcaJy4Z1WGBedDuF9JIGSOj6d7kjMwARM4AAcgANwIA8OpBHG4TThXUSSxvHw/fZ1mpc282hnt+WB8P5G0ddFeLt+8smbvK715lW86Jl3+8iPwREOwAE4AAd85YAtgrOc2+1JWt9tp+W8nL6A8K6Z8NbOV1bncHX0qJ+zyqoX5ZTjHMAZnOEAHIAD1XGg3b2+7fHZNY6XqSfg0WEeIbw9FN6umeYyO4qrw9KJDncisAALOAAH4AAcKIIDrnE4Ls5ebhKXRsPL/AW9CGzqmifC20PhnbQmqyyyuTpsWXWgHAYzOAAH4AAc6GYOxO0ckjRG+6Ilutl2UW1HeHsovNVQrg5V1lOqqw5RZCKMwREOwAE4AAfgQPEccI3PGqeim/XdxduhHa4jvGsovLVTtWPsrPe4OnbWvEjvpwPALtgFDsABOFA/DiSt/9blJq4xvCwdAbeO5BbCu6bCWz81WzShXZ226LLJ/8jOCiZgAgfgAByAA4YDrjE6KY6dyarjEcLbU+Gd9BORdqoil5ywNqy6TmmcKkdsAAfgAByAA3EcSBLXrngd4+PyJbxYziG8PRXeScLXdKiiOsjgqQucP1MVVS75FtvhwRd84QAcgAPN4EDSchOjE6KOcKA6DiC8PRXe2imiOks4rIjOM+32V5xl8xNVdR22CHuTJ/aEA3AADtSTA2FNkOba3m4Qu5dvd4S3x8I7zdOsiuQ8O06aMvmJqvyOmqeNyQv7wQE4AAeawYE0QjuchjG8WtsjvD0W3uoYe654yjn7rB0qLweapqw8y8ur3uRTrRMBf/CHA3AADlTDgTSTZbbwLmNjBrjg5gLC23PhrQS2O03UeR5Pr2lFN8Lb3aFwOOADB+AAHIADZXIgShfEhZVZL8qK7gcI7xoI76Qn2k7XXKd9kVM7ct5LW+iY0R0TXMAFDsABOAAH0nIgzdct0+ZFumJ5h/CugfDWThD39GrCO+koJo+k45Cp+S1r6aS+3FusUwBf8IUDcAAO1JcDupzEHs9ZXuKXLRHeNRHew6a5v0LVrpOcMOvFPh3U7qzh83bL4D6/Oj32wB5wAA7AATgAB6rhAMK7JsI7aTlIOx0oKU9beLeTP/dU06nBHdzhAByAA3AADvjJAYR3TYS3diBbCIfP2+lg4TyirnXdWDt5c4+fHR67YBc4AAfgAByAA9VxAOHdEOGdtLNJll1LbAFO56yuc4I92MMBOAAH4AAcaBYHEN4NEd6uL1HZQjrLue6mQodvVofHntgTDsABOAAH4EB1HEB410h4nz7jmczLTdJsMRQlxnWGnI5ZXccEe7CHA3AADsABONA8DiC8ayS8k16GDHfQpP2/owS3CQvnxXXzOj82xaZwAA7AATgAB8rlAMK7RsJbO4cRxlHHcOeJSpMmLGm9eLgcrsvttOAN3nAADsABOAAH6skBhHeDhHdYMKcR2eE0bLRfz46MA8ZucAAOwAE4AAf85wDCu0HC2/50vH7aPSyq01zTaf3vtNgIG8EBOAAH4AAcqCcHEN41E96Dpy5wCmrTEdOI7HAaFevmfo717NDYDbvBATgAB+AAHPCXAwjvmgnvpBcmtbMlpQkLbr1GdPvbSXGg2AYOwAE4AAfgQDM4gPCumfDWjhclnE1YUjwiuxkdFweMHeEAHIADcAAO1I8DCO+GCW8jwF1HOmr9Oio2w2ZwAA7AATgAB+rPAYR3lwnvoVMXsI774/p3XJwvNoQDcAAOwAE4UD8OILy7THiHtxyk09av02IzbAYH4AAcgANwoJ4cQHjXUHi38/KkWXpCR61nR8Vu2A0OwAE4AAfgQP05gPCuofDWjmeEdJYjs93177A4XWwIB+AAHIADcKC+HEB4d4nwZrvA+nZSHCy2gwNwAA7AATjQDA4gvGsqvLMsN0F0N6Oz4nSxIxyAA3AADsCBenMA4V1T4a0db/g091csdRkKorveHRQHi/3gAByAA3AADjSHAwjvGgtv7Yijrn42dr23zorTWZvTWbEltoQDcAAOwAE4UG8OILxrLrzpgPXugNgP+8EBOAAH4AAc6B4OILwR3syK80EdOAAH4AAcgANwAA6UwAGEN8KbjlZCR2M2o3tmM7A1toYDcAAOwIE4DiC8Ed4Ib4Q3HIADcAAOwAE4AAdK4IAXwnvixIkyePBgGTp0qIwcOVLWr18vn332mYwbN05OPPFEGTRokFxwwQXy6aeffiOT+x6+/PJLmTJlipxwwgnywx/+UF566aW+CVJcKRBxTyeE8+QKB+AAHIADcAAOwAE40CkHvBDe+/bta0njRYsWybBhw+Tzzz+XJUuWtMJnz54tV155ZevaPpk3b57MmDEjCNqyZYsce+yxsn//fjtJ4jnCm87UaWfifjgEB+AAHIADcAAOuDjghfC2VfH8+fNl+PDhdlBw/sILL8iYMWOOCNeAk046SVavXt2KmzBhgjz33HOt6zQnCG86iqujEAc/4AAcgANwAA7AgU454I3wnj59ugwcOFAGDBggvb29fbTy119/HYjuBx98sE+4uTj66KP7LEO59tpr5YEHHjDRqY4IbzpTp52J++EQHIADcAAOwAE44OKAN8LbqGOd8da13fbfzJkzRdeBqwCP+kN4Q3IXyYmDH3AADsABOAAH4IAPHPBOeKuw7tevX/BypZ7r2u5zzjlHDhw4EKW5gzCWmtCZfOhM1AEewgE4AAfgAByAAy4OVC689SXIXbt2tUT14sWLpX///nLw4EGZM2eOjBo1SnTXEtff3Llz+7xcecwxx8gXX3zhuuWIuM8+2y8KBv/AAA7AATgAB+AAHIADcKAIDqjejPv7X3EReYbv3btXenp6gi0DhwwZIqNHj5a1a9cG67yPOuqoYDtBDdd/kyZNahWt13v27Amu//KXv8jkyZOD7QR1+0HdGYU/EAABEAABEAABEAABEKgLAqUI77qAQT1BAARAAARAAARAAARAoCgEEN5FIUu+IAACIAACIAACIAACIGAhgPC2wOAUBEAABEAABEAABEAABIpCAOFdFLLkCwIgAAIgAAIgAAIgAAIWAghvCwxOQQAEQAAEQAAEQAAEQKAoBBDeRSFLviAAAiAAAiAAAiAAAiBgIYDwtsDgFARAAARAAARAAARAAASKQgDhXRSy5AsCIAACIAACIAACIAACFgIIbwsMTkEABEAABEAABEAABECgKAQQ3kUhKyKbN2+WU089Nfgypx63bNlSYGlkXRcEZs+eLccff7zoV1s3bNjQqraLL+3GtTLnpDEIfPbZZzJu3LjArwwaNEguuOAC+fTTT4P2rVixQgYPHhzEnXPOOfLJJ5+02t1uXCsDThqFwMSJEwOuDB06VEaOHCnr168P2teur3Hd1yjgaMwRCMybN6/PeNaur3Hdd0ShNQ5AeBdovNGjR8uCBQuCEvSo1/yBwNtvvy27du0KxLctvF18aTcOtJuHwOeffy5LlixpNUwf5K688kr5+uuv5YQTThDll/7deeedcsUVVwTn7ca1CuGkcQjs27ev1aZFixbJsGHDgut2fY3rvlZBnDQOgbVr18q5557bGs/a9TWu+5oGGsK7IIvqTNO//Mu/yFdffRWUoEe9NjNTBRVLtjVCQGe9jfB28aXduBpBQVU7QOCFF16QMWPGyKpVq+THP/5xKyf1NUcffXRw3W5cKzNOGo3A/PnzZfjw4cEvJHHjFn6o0RRoq3EHDhwIftXfvn17S3i362tc97VVOY9vQngXZJw1a9bISSed1Cf3H/3oR6JPh/yBgCJgC28XX9qNA+XmI6CzRCq6H3zwQVEBPn78+D6N/od/+AfRGfJ24/pkxkXjEJg+fboMHDhQBgwYIL29vdKur3Hd1zjQaFALgZtvvlkefvjh4NqMZ+36Gtd9rQIbcoLwLsiQOKKCgG1QtsZRaZNcfGk3rkFQ0ZQYBGbOnCm6VlcFuGvgajcupliCG4aAznjrewPt+hrXfQ2DiuZ8g8Dy5cvlrLPOkoMHDwYhZjxr19e47msa6Ajvgizq+lmuoCLJtmYIGEel1Xbxpd24msFBdTMioGu79QVK/blX/1w/1bYbl7FKJK8xAv369ZO9e/fGLpHED9XYuAVU/Z577pHvfve7wS+3OpZ961vfkv79+4uGs+TNDTjC241PR7GjRo3q83KlXvMHAgYBW3hrmIsv7caZsjg2C4E5c+YEfPnyyy9bDdNZ7x/84AexL1e2E9fKnJNGIbB///7gBW/TqMWLFweiSWcv2/U1rvtMORybi4AZz/BDyTZGeCdj1HaKjRs3yimnnBJs7aXHTZs2tZ0XNzYHgRtuuEGOO+64YIbg2GOPbb0L4OJLu3HNQY2WGAR0La5uRXniiSfKkCFDgn+TJk0Kot99913RLQb/4z/+Q84+++xgBtPc126cuZ9jcxDQme2enp6AK8oh3ZHEvH/Urq9x3dcc5GhJHAJGeGt8u77GdV9cuXUMR3jX0WrUGQRAAARAAARAAARAoHYIILxrZzIqDAIgAAIgAAIgAAIgUEcEEN51tBp1BgEQAAEQAAEQAAEQqB0CCO/amYwKgwAIgAAIgAAIgAAI1BEBhHcdrUadQQAEQAAEQAAEQAAEaocAwrt2JqPCIAACIAACIAACIAACdUQA4V1Hq1FnEAABEAABEAABEACB2iGA8K6dyagwCIAACIAACIAACIBAHRFAeNfRatQZBEAABEAABEAABECgdgggvGtnMioMAiAAAsUisHXrVvm3f/u31tcM9+zZI//+7/8uS5YsKbZgcgcBEACBhiOA8G64gWkeCIAACLSDwKOPPio/+tGP5Msvv5SxY8fK7Nmz28mGe0AABEAABCwEEN4WGJyCAAiAAAgcRuC8886TQYMGBf8OHDhwOIIzEAABEACBthBAeLcFGzeBAAiAQPMRWLx4sRx11FGis9/8gQAIgAAIdI4AwrtzDMkBBEAABBqHwP79++UHP/iBTJ8+Xfr37y+ff/5549pIg0AABECgbAQQ3mUjTnkgAAIgUAMErrzySpkyZUpQ06uuukouvPDCGtSaKoIACICA3wggvP22D7UDARAAgdIRWLRoUZ9Zbp39PuGEE2ThwoWl14UCQQAEQKBJCCC8m2RN2gICIAACIAACIAACIOAtAghvb01DxUAABEAABEAABEAABJqEAMK7SdakLSAAAiAAAiAAAiAAAt4igPD21jRUDARAAARAAARAAARAoEkIILybZE3aAgIgAAIgAAIgAAIg4C0CCG9vTUPFQAAEQAAEQAAEQAAEmoQAwrtJ1qQtIAACIAACIAACIAAC3iKA8PbWNFQMBEAABEAABEAABECgSQggvJtkTdoCAiAAAiAAAiAAAiDgLQIIb29NQ8VAAARAAARAAARAAASahMD/B0U/wWA7qhWmAAAAAElFTkSuQmCC)"
      ]
    },
    {
      "cell_type": "markdown",
      "metadata": {
        "id": "3fmswcOwNR1c"
      },
      "source": [
        "\\#En la gráfica se observa que la tendencia es negativa en el rango de años de 2000-01 / 2012-06"
      ]
    },
    {
      "cell_type": "markdown",
      "metadata": {
        "id": "3XVed4ldNUju"
      },
      "source": [
        "\\# Modelo Aditivo: Observado = Tendencia + Estacionalidad + Residuo\r\n",
        "\r\n",
        "\\# Tamaño de la figura\r\n",
        "\r\n",
        "sns.set(rc={'figure.figsize':(12, 6)})\r\n",
        "\r\n",
        "\\# Periodo de datos completos (No funciona cuando hace falta un rango de datos)\r\n",
        "\r\n",
        "start, end = '2000-01', '2012-06'\r\n",
        "\r\n",
        "\\# Ciclo anual 365 días (Por las Estaciones)\r\n",
        "\r\n",
        "decompfreq = 365\r\n",
        "\r\n",
        "\\# Uso del modelo 'statsmodel' para el análisis de series de tiempo(sm.tsa) \r\n",
        "\r\n",
        "\r\n",
        "resTmax = sm.tsa.seasonal_decompose(df_90_30d.loc[start:end, 'Tmin'].interpolate(),\r\n",
        "                                    freq=decompfreq, model='additive')\r\n",
        "resTmax.plot()\r\n",
        "\r\n",
        "plt.title('Descomposición Aditiva de Evaporación (promedio Móvil 30 días)');\r\n",
        "\r\n",
        "![image.png](data:image/png;base64,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)"
      ]
    },
    {
      "cell_type": "markdown",
      "metadata": {
        "id": "zLEM0k-UNf4G"
      },
      "source": [
        "trendMax = resTmin.trend\r\n",
        "\r\n",
        "trendMax = trendMax[~np.isnan(trendMax)]\r\n",
        "\r\n",
        "trendMax\r\n",
        "\r\n",
        "![2.png](data:image/png;base64,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)"
      ]
    },
    {
      "cell_type": "markdown",
      "metadata": {
        "id": "Mj8K12XqNnFm"
      },
      "source": [
        "N = 4198\r\n",
        "\r\n",
        "x = np.arange(0,N)\r\n",
        "\r\n",
        "y = trendMax\r\n",
        "\r\n",
        "plt.scatter(x,y);\r\n",
        "\r\n",
        "plt.grid()\r\n",
        "\r\n",
        "plt.title('Serie de Tendencia')\r\n",
        "\r\n",
        "plt.xlabel('x')\r\n",
        "\r\n",
        "plt.ylabel('y')\r\n",
        "\r\n",
        "plt.show()\r\n",
        "\r\n",
        "![image.png](data:image/png;base64,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)"
      ]
    },
    {
      "cell_type": "markdown",
      "metadata": {
        "id": "6kx13MqcNtPy"
      },
      "source": [
        "\\# Creamos la matriz X, con 1's en la primera columna y los puntos x_k en la segunda.\r\n",
        "\r\n",
        "X = np.column_stack([np.ones(N),x])\r\n",
        "\r\n",
        "print('Shape:', X.shape)\r\n",
        "\r\n",
        "\\# Imprimimos los primeros 5 renglones para verificar\r\n",
        "\r\n",
        "print(X[:5,:])\r\n",
        "\r\n",
        "Shape: (4198, 2)\r\n",
        "[[1. 0.]\r\n",
        " [1. 1.]\r\n",
        " [1. 2.]\r\n",
        " [1. 3.]\r\n",
        " [1. 4.]]"
      ]
    },
    {
      "cell_type": "markdown",
      "metadata": {
        "id": "bakmzT6vN0gD"
      },
      "source": [
        "\\# Usamos la función scipy.linalg.solve() para resolver la ecuación X.T@X@a = X.T@y respecto a 'a'\r\n",
        "\r\n",
        "a = la.solve(X.T @ X, X.T @ y)\r\n",
        "\r\n",
        "print(a)\r\n",
        "\r\n",
        "\r\n",
        "[1.84457771e+01 2.33692428e-05]"
      ]
    },
    {
      "cell_type": "markdown",
      "metadata": {
        "id": "6nnSQE-lN6jh"
      },
      "source": [
        "\\# Graficamos el ajuste con esos 2 coeficientes de la regresión y = a_0 + a_1 x \r\n",
        "\r\n",
        "xs = np.linspace(0,N,10)\r\n",
        "\r\n",
        "ys = a[0] + a[1]*xs\r\n",
        "\r\n",
        "plt.plot(xs,ys,'r',linewidth=4)\r\n",
        "\r\n",
        "plt.scatter(x,y);\r\n",
        "\r\n",
        "plt.grid()\r\n",
        "\r\n",
        "plt.title('Ajuste mediante Regresión Lineal de los datos')\r\n",
        "\r\n",
        "plt.xlabel('x')\r\n",
        "\r\n",
        "plt.ylabel('y')\r\n",
        "\r\n",
        "plt.show()\r\n",
        "\r\n",
        "\r\n",
        "![image.png](data:image/png;base64,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)"
      ]
    },
    {
      "cell_type": "markdown",
      "metadata": {
        "id": "L6xg5350OCG2"
      },
      "source": [
        "\\#Observamos que la tendencia es positiva y muy inclinada hacia el eje de las x"
      ]
    }
  ]
}