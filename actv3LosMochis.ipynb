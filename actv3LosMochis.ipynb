{
  "nbformat": 4,
  "nbformat_minor": 0,
  "metadata": {
    "colab": {
      "name": "actv3LosMochis.ipynb",
      "provenance": [],
      "include_colab_link": true
    },
    "kernelspec": {
      "name": "python3",
      "display_name": "Python 3"
    }
  },
  "cells": [
    {
      "cell_type": "markdown",
      "metadata": {
        "id": "view-in-github",
        "colab_type": "text"
      },
      "source": [
        "<a href=\"https://colab.research.google.com/github/Majoramu/Fisica_Computacional1/blob/main/actv3LosMochis.ipynb\" target=\"_parent\"><img src=\"https://colab.research.google.com/assets/colab-badge.svg\" alt=\"Open In Colab\"/></a>"
      ]
    },
    {
      "cell_type": "code",
      "metadata": {
        "id": "E5F3ekfTNbJY"
      },
      "source": [
        "import pandas as pd\n",
        "import numpy as np\n",
        "\n",
        "# Tomar la dirección URL del archivo en formato 'raw'\n",
        "url = 'https://raw.githubusercontent.com/Majoramu/Fisica_Computacional1/main/Actividad_1/25116.txt'\n",
        "\n",
        "# Definimos los nombres de las columnas\n",
        "# El archivo tiene códigos ASCII extendido (Español), encoding='cp1251' Windows (Europa Occidental)\n",
        "# El separador de datos es de uno o más espacios, sep='\\s+'\n",
        "# Se brincará los primeros 19 renglones y el último, afirmamos que no nay encabezado\n",
        "# Se procesan los datos utilizando Python, engine='python' \n",
        "my_cols = ['Fecha', 'Precip', 'Evap', 'Tmax', 'Tmin']\n",
        "df_dist = pd.read_csv(url, names=my_cols, encoding='cp1251', sep='\\s+', header=None, skiprows=19, skipfooter=1, engine='python')"
      ],
      "execution_count": null,
      "outputs": []
    },
    {
      "cell_type": "code",
      "metadata": {
        "id": "0ZibrSmWNfiw",
        "colab": {
          "base_uri": "https://localhost:8080/"
        },
        "outputId": "a456f2c9-1491-41aa-b01d-55b56b6deef4"
      },
      "source": [
        "#Se imprime el encabezado y el final del dataframe\n",
        "print(df_dist.head())\n",
        "print(df_dist.tail())"
      ],
      "execution_count": null,
      "outputs": [
        {
          "output_type": "stream",
          "text": [
            "        Fecha  Precip Evap  Tmax  Tmin\n",
            "0  01/01/1961     0.0  0.8  22.5     8\n",
            "1  02/01/1961     0.0  1.8  26.5   8.5\n",
            "2  03/01/1961     0.0    2  25.5   7.5\n",
            "3  04/01/1961     0.0  2.5  24.5  10.5\n",
            "4  05/01/1961     0.0  1.5  20.5  12.5\n",
            "            Fecha  Precip  Evap  Tmax  Tmin\n",
            "19032  27/05/2013     0.0  Nulo    37  20.5\n",
            "19033  28/05/2013     0.0  Nulo  35.5    20\n",
            "19034  29/05/2013     0.0  Nulo  32.5  19.5\n",
            "19035  30/05/2013     0.0  Nulo  31.5    20\n",
            "19036  31/05/2013     0.0  Nulo    33    19\n"
          ],
          "name": "stdout"
        }
      ]
    },
    {
      "cell_type": "code",
      "metadata": {
        "colab": {
          "base_uri": "https://localhost:8080/"
        },
        "id": "EIai_Om847_J",
        "outputId": "5b135a30-e835-4f89-c091-fbb41e35800d"
      },
      "source": [
        "#Se obtiene la dimensión del dataframe\r\n",
        "df_dist.shape"
      ],
      "execution_count": null,
      "outputs": [
        {
          "output_type": "execute_result",
          "data": {
            "text/plain": [
              "(19037, 5)"
            ]
          },
          "metadata": {
            "tags": []
          },
          "execution_count": 3
        }
      ]
    },
    {
      "cell_type": "code",
      "metadata": {
        "id": "oAYzQeF55Pnb",
        "colab": {
          "base_uri": "https://localhost:8080/"
        },
        "outputId": "a60bb5e9-e0a7-42d4-8123-e92ed87262cb"
      },
      "source": [
        "#Se muestra cómo es el contenido del dataframe\r\n",
        "df_dist.info()"
      ],
      "execution_count": null,
      "outputs": [
        {
          "output_type": "stream",
          "text": [
            "<class 'pandas.core.frame.DataFrame'>\n",
            "RangeIndex: 19037 entries, 0 to 19036\n",
            "Data columns (total 5 columns):\n",
            " #   Column  Non-Null Count  Dtype  \n",
            "---  ------  --------------  -----  \n",
            " 0   Fecha   19037 non-null  object \n",
            " 1   Precip  19037 non-null  float64\n",
            " 2   Evap    19037 non-null  object \n",
            " 3   Tmax    19037 non-null  object \n",
            " 4   Tmin    19037 non-null  object \n",
            "dtypes: float64(1), object(4)\n",
            "memory usage: 743.8+ KB\n"
          ],
          "name": "stdout"
        }
      ]
    },
    {
      "cell_type": "code",
      "metadata": {
        "id": "qQS-uRYQ5Rfc",
        "colab": {
          "base_uri": "https://localhost:8080/",
          "height": 198
        },
        "outputId": "00f91cff-d0d0-4168-8e54-7118ba84e9e3"
      },
      "source": [
        "#Se hace copia de trabajo y se preserva el dataframe original\n",
        "df_work0 = df_dist.copy()\n",
        "df_work0.head()"
      ],
      "execution_count": null,
      "outputs": [
        {
          "output_type": "execute_result",
          "data": {
            "text/html": [
              "<div>\n",
              "<style scoped>\n",
              "    .dataframe tbody tr th:only-of-type {\n",
              "        vertical-align: middle;\n",
              "    }\n",
              "\n",
              "    .dataframe tbody tr th {\n",
              "        vertical-align: top;\n",
              "    }\n",
              "\n",
              "    .dataframe thead th {\n",
              "        text-align: right;\n",
              "    }\n",
              "</style>\n",
              "<table border=\"1\" class=\"dataframe\">\n",
              "  <thead>\n",
              "    <tr style=\"text-align: right;\">\n",
              "      <th></th>\n",
              "      <th>Fecha</th>\n",
              "      <th>Precip</th>\n",
              "      <th>Evap</th>\n",
              "      <th>Tmax</th>\n",
              "      <th>Tmin</th>\n",
              "    </tr>\n",
              "  </thead>\n",
              "  <tbody>\n",
              "    <tr>\n",
              "      <th>0</th>\n",
              "      <td>01/01/1961</td>\n",
              "      <td>0.0</td>\n",
              "      <td>0.8</td>\n",
              "      <td>22.5</td>\n",
              "      <td>8</td>\n",
              "    </tr>\n",
              "    <tr>\n",
              "      <th>1</th>\n",
              "      <td>02/01/1961</td>\n",
              "      <td>0.0</td>\n",
              "      <td>1.8</td>\n",
              "      <td>26.5</td>\n",
              "      <td>8.5</td>\n",
              "    </tr>\n",
              "    <tr>\n",
              "      <th>2</th>\n",
              "      <td>03/01/1961</td>\n",
              "      <td>0.0</td>\n",
              "      <td>2</td>\n",
              "      <td>25.5</td>\n",
              "      <td>7.5</td>\n",
              "    </tr>\n",
              "    <tr>\n",
              "      <th>3</th>\n",
              "      <td>04/01/1961</td>\n",
              "      <td>0.0</td>\n",
              "      <td>2.5</td>\n",
              "      <td>24.5</td>\n",
              "      <td>10.5</td>\n",
              "    </tr>\n",
              "    <tr>\n",
              "      <th>4</th>\n",
              "      <td>05/01/1961</td>\n",
              "      <td>0.0</td>\n",
              "      <td>1.5</td>\n",
              "      <td>20.5</td>\n",
              "      <td>12.5</td>\n",
              "    </tr>\n",
              "  </tbody>\n",
              "</table>\n",
              "</div>"
            ],
            "text/plain": [
              "        Fecha  Precip Evap  Tmax  Tmin\n",
              "0  01/01/1961     0.0  0.8  22.5     8\n",
              "1  02/01/1961     0.0  1.8  26.5   8.5\n",
              "2  03/01/1961     0.0    2  25.5   7.5\n",
              "3  04/01/1961     0.0  2.5  24.5  10.5\n",
              "4  05/01/1961     0.0  1.5  20.5  12.5"
            ]
          },
          "metadata": {
            "tags": []
          },
          "execution_count": 5
        }
      ]
    },
    {
      "cell_type": "code",
      "metadata": {
        "colab": {
          "base_uri": "https://localhost:8080/",
          "height": 198
        },
        "id": "iJqLHBJG5pnu",
        "outputId": "2487e7ee-56c7-48ef-e0c4-9c4377360ec4"
      },
      "source": [
        "#Se reemplazan los textos 'Nulo' por espacio en blanco\n",
        "str_Nulo = 'Nulo'\n",
        "df_work1 = df_work0.replace(to_replace=str_Nulo, value='', regex=True)\n",
        "df_work1.head()"
      ],
      "execution_count": null,
      "outputs": [
        {
          "output_type": "execute_result",
          "data": {
            "text/html": [
              "<div>\n",
              "<style scoped>\n",
              "    .dataframe tbody tr th:only-of-type {\n",
              "        vertical-align: middle;\n",
              "    }\n",
              "\n",
              "    .dataframe tbody tr th {\n",
              "        vertical-align: top;\n",
              "    }\n",
              "\n",
              "    .dataframe thead th {\n",
              "        text-align: right;\n",
              "    }\n",
              "</style>\n",
              "<table border=\"1\" class=\"dataframe\">\n",
              "  <thead>\n",
              "    <tr style=\"text-align: right;\">\n",
              "      <th></th>\n",
              "      <th>Fecha</th>\n",
              "      <th>Precip</th>\n",
              "      <th>Evap</th>\n",
              "      <th>Tmax</th>\n",
              "      <th>Tmin</th>\n",
              "    </tr>\n",
              "  </thead>\n",
              "  <tbody>\n",
              "    <tr>\n",
              "      <th>0</th>\n",
              "      <td>01/01/1961</td>\n",
              "      <td>0.0</td>\n",
              "      <td>0.8</td>\n",
              "      <td>22.5</td>\n",
              "      <td>8</td>\n",
              "    </tr>\n",
              "    <tr>\n",
              "      <th>1</th>\n",
              "      <td>02/01/1961</td>\n",
              "      <td>0.0</td>\n",
              "      <td>1.8</td>\n",
              "      <td>26.5</td>\n",
              "      <td>8.5</td>\n",
              "    </tr>\n",
              "    <tr>\n",
              "      <th>2</th>\n",
              "      <td>03/01/1961</td>\n",
              "      <td>0.0</td>\n",
              "      <td>2</td>\n",
              "      <td>25.5</td>\n",
              "      <td>7.5</td>\n",
              "    </tr>\n",
              "    <tr>\n",
              "      <th>3</th>\n",
              "      <td>04/01/1961</td>\n",
              "      <td>0.0</td>\n",
              "      <td>2.5</td>\n",
              "      <td>24.5</td>\n",
              "      <td>10.5</td>\n",
              "    </tr>\n",
              "    <tr>\n",
              "      <th>4</th>\n",
              "      <td>05/01/1961</td>\n",
              "      <td>0.0</td>\n",
              "      <td>1.5</td>\n",
              "      <td>20.5</td>\n",
              "      <td>12.5</td>\n",
              "    </tr>\n",
              "  </tbody>\n",
              "</table>\n",
              "</div>"
            ],
            "text/plain": [
              "        Fecha  Precip Evap  Tmax  Tmin\n",
              "0  01/01/1961     0.0  0.8  22.5     8\n",
              "1  02/01/1961     0.0  1.8  26.5   8.5\n",
              "2  03/01/1961     0.0    2  25.5   7.5\n",
              "3  04/01/1961     0.0  2.5  24.5  10.5\n",
              "4  05/01/1961     0.0  1.5  20.5  12.5"
            ]
          },
          "metadata": {
            "tags": []
          },
          "execution_count": 6
        }
      ]
    },
    {
      "cell_type": "code",
      "metadata": {
        "colab": {
          "base_uri": "https://localhost:8080/"
        },
        "id": "sKZ52lID5-io",
        "outputId": "bc4c9a85-eeb0-47f6-c364-3dd34e552c06"
      },
      "source": [
        "#Se imprime la información actualizada del dataframe\n",
        "df_work1.info()\n",
        "print(df_work1.head())"
      ],
      "execution_count": null,
      "outputs": [
        {
          "output_type": "stream",
          "text": [
            "<class 'pandas.core.frame.DataFrame'>\n",
            "RangeIndex: 19037 entries, 0 to 19036\n",
            "Data columns (total 5 columns):\n",
            " #   Column  Non-Null Count  Dtype  \n",
            "---  ------  --------------  -----  \n",
            " 0   Fecha   19037 non-null  object \n",
            " 1   Precip  19037 non-null  float64\n",
            " 2   Evap    19037 non-null  object \n",
            " 3   Tmax    19037 non-null  object \n",
            " 4   Tmin    19037 non-null  object \n",
            "dtypes: float64(1), object(4)\n",
            "memory usage: 743.8+ KB\n",
            "        Fecha  Precip Evap  Tmax  Tmin\n",
            "0  01/01/1961     0.0  0.8  22.5     8\n",
            "1  02/01/1961     0.0  1.8  26.5   8.5\n",
            "2  03/01/1961     0.0    2  25.5   7.5\n",
            "3  04/01/1961     0.0  2.5  24.5  10.5\n",
            "4  05/01/1961     0.0  1.5  20.5  12.5\n"
          ],
          "name": "stdout"
        }
      ]
    },
    {
      "cell_type": "markdown",
      "metadata": {
        "id": "4At_XTJ9k5Xw"
      },
      "source": [
        "Convertimos objetos a números flotantes.\r\n",
        "Primero atenderemos las columnas de datos que son reales o flotantes."
      ]
    },
    {
      "cell_type": "code",
      "metadata": {
        "colab": {
          "base_uri": "https://localhost:8080/"
        },
        "id": "8VbJSxek6ltQ",
        "outputId": "adca4290-9021-48d3-d02d-6381cccded0a"
      },
      "source": [
        "#Convertimos los valores de las variables ambientales a números flotantes.\n",
        "cols_list = ['Precip', 'Evap','Tmax','Tmin']\n",
        "for cols in cols_list:\n",
        "  df_work1[cols] = pd.to_numeric(df_work1[cols], errors='coerce')\n",
        "\n",
        "  df_work1.info()"
      ],
      "execution_count": null,
      "outputs": [
        {
          "output_type": "stream",
          "text": [
            "<class 'pandas.core.frame.DataFrame'>\n",
            "RangeIndex: 19037 entries, 0 to 19036\n",
            "Data columns (total 5 columns):\n",
            " #   Column  Non-Null Count  Dtype  \n",
            "---  ------  --------------  -----  \n",
            " 0   Fecha   19037 non-null  object \n",
            " 1   Precip  19037 non-null  float64\n",
            " 2   Evap    19037 non-null  object \n",
            " 3   Tmax    19037 non-null  object \n",
            " 4   Tmin    19037 non-null  object \n",
            "dtypes: float64(1), object(4)\n",
            "memory usage: 743.8+ KB\n",
            "<class 'pandas.core.frame.DataFrame'>\n",
            "RangeIndex: 19037 entries, 0 to 19036\n",
            "Data columns (total 5 columns):\n",
            " #   Column  Non-Null Count  Dtype  \n",
            "---  ------  --------------  -----  \n",
            " 0   Fecha   19037 non-null  object \n",
            " 1   Precip  19037 non-null  float64\n",
            " 2   Evap    16923 non-null  float64\n",
            " 3   Tmax    19037 non-null  object \n",
            " 4   Tmin    19037 non-null  object \n",
            "dtypes: float64(2), object(3)\n",
            "memory usage: 743.8+ KB\n",
            "<class 'pandas.core.frame.DataFrame'>\n",
            "RangeIndex: 19037 entries, 0 to 19036\n",
            "Data columns (total 5 columns):\n",
            " #   Column  Non-Null Count  Dtype  \n",
            "---  ------  --------------  -----  \n",
            " 0   Fecha   19037 non-null  object \n",
            " 1   Precip  19037 non-null  float64\n",
            " 2   Evap    16923 non-null  float64\n",
            " 3   Tmax    19030 non-null  float64\n",
            " 4   Tmin    19037 non-null  object \n",
            "dtypes: float64(3), object(2)\n",
            "memory usage: 743.8+ KB\n",
            "<class 'pandas.core.frame.DataFrame'>\n",
            "RangeIndex: 19037 entries, 0 to 19036\n",
            "Data columns (total 5 columns):\n",
            " #   Column  Non-Null Count  Dtype  \n",
            "---  ------  --------------  -----  \n",
            " 0   Fecha   19037 non-null  object \n",
            " 1   Precip  19037 non-null  float64\n",
            " 2   Evap    16923 non-null  float64\n",
            " 3   Tmax    19030 non-null  float64\n",
            " 4   Tmin    19004 non-null  float64\n",
            "dtypes: float64(4), object(1)\n",
            "memory usage: 743.8+ KB\n"
          ],
          "name": "stdout"
        }
      ]
    },
    {
      "cell_type": "code",
      "metadata": {
        "colab": {
          "base_uri": "https://localhost:8080/"
        },
        "id": "9-zpYz2Z7Db-",
        "outputId": "5ac987b3-005a-427d-fdc8-614bbd06d6e1"
      },
      "source": [
        "#De la instrucción anterior, vemos que hay varios faltantes. Sumamos los valores nulos.\r\n",
        "df_work1.isnull().sum()"
      ],
      "execution_count": null,
      "outputs": [
        {
          "output_type": "execute_result",
          "data": {
            "text/plain": [
              "Fecha        0\n",
              "Precip       0\n",
              "Evap      2114\n",
              "Tmax         7\n",
              "Tmin        33\n",
              "dtype: int64"
            ]
          },
          "metadata": {
            "tags": []
          },
          "execution_count": 9
        }
      ]
    },
    {
      "cell_type": "code",
      "metadata": {
        "colab": {
          "base_uri": "https://localhost:8080/"
        },
        "id": "1sE9mMaJ7et-",
        "outputId": "96b7e1cb-6832-45f7-b15f-e1051cc6327c"
      },
      "source": [
        "print(df_work1.head())\n",
        "print(df_work1.head())"
      ],
      "execution_count": null,
      "outputs": [
        {
          "output_type": "stream",
          "text": [
            "        Fecha  Precip  Evap  Tmax  Tmin\n",
            "0  01/01/1961     0.0   0.8  22.5   8.0\n",
            "1  02/01/1961     0.0   1.8  26.5   8.5\n",
            "2  03/01/1961     0.0   2.0  25.5   7.5\n",
            "3  04/01/1961     0.0   2.5  24.5  10.5\n",
            "4  05/01/1961     0.0   1.5  20.5  12.5\n",
            "        Fecha  Precip  Evap  Tmax  Tmin\n",
            "0  01/01/1961     0.0   0.8  22.5   8.0\n",
            "1  02/01/1961     0.0   1.8  26.5   8.5\n",
            "2  03/01/1961     0.0   2.0  25.5   7.5\n",
            "3  04/01/1961     0.0   2.5  24.5  10.5\n",
            "4  05/01/1961     0.0   1.5  20.5  12.5\n"
          ],
          "name": "stdout"
        }
      ]
    },
    {
      "cell_type": "code",
      "metadata": {
        "colab": {
          "base_uri": "https://localhost:8080/",
          "height": 288
        },
        "id": "2wVJlXnP72kb",
        "outputId": "76673c0a-2093-48fa-e324-4d8e3e9ab69f"
      },
      "source": [
        "#Se realiza el análisis estadístico breve de las variables numéricas redondeando a 2 cifras significativas\r\n",
        "df_work1.describe().round(2)"
      ],
      "execution_count": null,
      "outputs": [
        {
          "output_type": "execute_result",
          "data": {
            "text/html": [
              "<div>\n",
              "<style scoped>\n",
              "    .dataframe tbody tr th:only-of-type {\n",
              "        vertical-align: middle;\n",
              "    }\n",
              "\n",
              "    .dataframe tbody tr th {\n",
              "        vertical-align: top;\n",
              "    }\n",
              "\n",
              "    .dataframe thead th {\n",
              "        text-align: right;\n",
              "    }\n",
              "</style>\n",
              "<table border=\"1\" class=\"dataframe\">\n",
              "  <thead>\n",
              "    <tr style=\"text-align: right;\">\n",
              "      <th></th>\n",
              "      <th>Precip</th>\n",
              "      <th>Evap</th>\n",
              "      <th>Tmax</th>\n",
              "      <th>Tmin</th>\n",
              "    </tr>\n",
              "  </thead>\n",
              "  <tbody>\n",
              "    <tr>\n",
              "      <th>count</th>\n",
              "      <td>19037.00</td>\n",
              "      <td>16923.00</td>\n",
              "      <td>19030.00</td>\n",
              "      <td>19004.00</td>\n",
              "    </tr>\n",
              "    <tr>\n",
              "      <th>mean</th>\n",
              "      <td>0.90</td>\n",
              "      <td>6.00</td>\n",
              "      <td>32.72</td>\n",
              "      <td>18.35</td>\n",
              "    </tr>\n",
              "    <tr>\n",
              "      <th>std</th>\n",
              "      <td>6.15</td>\n",
              "      <td>2.53</td>\n",
              "      <td>5.14</td>\n",
              "      <td>5.68</td>\n",
              "    </tr>\n",
              "    <tr>\n",
              "      <th>min</th>\n",
              "      <td>0.00</td>\n",
              "      <td>0.00</td>\n",
              "      <td>13.50</td>\n",
              "      <td>-1.50</td>\n",
              "    </tr>\n",
              "    <tr>\n",
              "      <th>25%</th>\n",
              "      <td>0.00</td>\n",
              "      <td>4.00</td>\n",
              "      <td>29.00</td>\n",
              "      <td>13.50</td>\n",
              "    </tr>\n",
              "    <tr>\n",
              "      <th>50%</th>\n",
              "      <td>0.00</td>\n",
              "      <td>6.00</td>\n",
              "      <td>33.50</td>\n",
              "      <td>18.00</td>\n",
              "    </tr>\n",
              "    <tr>\n",
              "      <th>75%</th>\n",
              "      <td>0.00</td>\n",
              "      <td>7.90</td>\n",
              "      <td>37.00</td>\n",
              "      <td>24.00</td>\n",
              "    </tr>\n",
              "    <tr>\n",
              "      <th>max</th>\n",
              "      <td>211.00</td>\n",
              "      <td>18.00</td>\n",
              "      <td>48.00</td>\n",
              "      <td>31.00</td>\n",
              "    </tr>\n",
              "  </tbody>\n",
              "</table>\n",
              "</div>"
            ],
            "text/plain": [
              "         Precip      Evap      Tmax      Tmin\n",
              "count  19037.00  16923.00  19030.00  19004.00\n",
              "mean       0.90      6.00     32.72     18.35\n",
              "std        6.15      2.53      5.14      5.68\n",
              "min        0.00      0.00     13.50     -1.50\n",
              "25%        0.00      4.00     29.00     13.50\n",
              "50%        0.00      6.00     33.50     18.00\n",
              "75%        0.00      7.90     37.00     24.00\n",
              "max      211.00     18.00     48.00     31.00"
            ]
          },
          "metadata": {
            "tags": []
          },
          "execution_count": 11
        }
      ]
    },
    {
      "cell_type": "markdown",
      "metadata": {
        "id": "dv2kQJEbiqmO"
      },
      "source": [
        "Ahora trabajaremos la variable Fecha.\r\n",
        "Usamos las herramientas que nos ofrece Python para trabajar las fechas."
      ]
    },
    {
      "cell_type": "code",
      "metadata": {
        "id": "Pp0XPN7E8GJ_",
        "colab": {
          "base_uri": "https://localhost:8080/"
        },
        "outputId": "84d7dbfe-3900-4ad6-f650-995303b4c8a3"
      },
      "source": [
        "#Volvemos a hacer una pausa y definimos un nuevo dataframe por si hay que regresarse.\n",
        "df_work2 = df_work1.copy()\n",
        "df_work2['Fecha'].head()"
      ],
      "execution_count": null,
      "outputs": [
        {
          "output_type": "execute_result",
          "data": {
            "text/plain": [
              "0    01/01/1961\n",
              "1    02/01/1961\n",
              "2    03/01/1961\n",
              "3    04/01/1961\n",
              "4    05/01/1961\n",
              "Name: Fecha, dtype: object"
            ]
          },
          "metadata": {
            "tags": []
          },
          "execution_count": 12
        }
      ]
    },
    {
      "cell_type": "code",
      "metadata": {
        "colab": {
          "base_uri": "https://localhost:8080/"
        },
        "id": "NpC25nJX-p0-",
        "outputId": "30b7577e-697d-4bd4-e187-15d5814c3c2a"
      },
      "source": [
        "##Pandas tiene la función pd.to_datetime que convierte una cadena en tipo datetime64[ns]\n",
        "#Intentamos a ver si Python reconoce el formato en nuestro caso.\n",
        "#Agregamos la opción de que el primer dato es el día (dayfirst=True)\n",
        "df_work2['Fecha']=pd.to_datetime(df_work2['Fecha'], dayfirst=True).copy()\n",
        "print(df_work1.head())"
      ],
      "execution_count": null,
      "outputs": [
        {
          "output_type": "stream",
          "text": [
            "        Fecha  Precip  Evap  Tmax  Tmin\n",
            "0  01/01/1961     0.0   0.8  22.5   8.0\n",
            "1  02/01/1961     0.0   1.8  26.5   8.5\n",
            "2  03/01/1961     0.0   2.0  25.5   7.5\n",
            "3  04/01/1961     0.0   2.5  24.5  10.5\n",
            "4  05/01/1961     0.0   1.5  20.5  12.5\n"
          ],
          "name": "stdout"
        }
      ]
    },
    {
      "cell_type": "code",
      "metadata": {
        "colab": {
          "base_uri": "https://localhost:8080/"
        },
        "id": "eM8EnA7i_VfA",
        "outputId": "1589e656-2be8-4cfd-fa41-988128e1135a"
      },
      "source": [
        "#Verificamos que cada variable (columna), sea del tipo que esperamos.\r\n",
        "#Observamos que la variable Fecha es de tipo 'datetime64[ns]'\r\n",
        "df_work2.dtypes"
      ],
      "execution_count": null,
      "outputs": [
        {
          "output_type": "execute_result",
          "data": {
            "text/plain": [
              "Fecha     datetime64[ns]\n",
              "Precip           float64\n",
              "Evap             float64\n",
              "Tmax             float64\n",
              "Tmin             float64\n",
              "dtype: object"
            ]
          },
          "metadata": {
            "tags": []
          },
          "execution_count": 14
        }
      ]
    },
    {
      "cell_type": "code",
      "metadata": {
        "id": "u3W5nNAU_7Ds"
      },
      "source": [
        "#Buscamos ahora añadir dos columnas adicionales: df['Año'],df['Mes']\n",
        "#Usaremos la función .dt.year y .dt.month para extraer el Año y Mes de la Fecha\n",
        "df_work2['Año'] = df_work2['Fecha'].dt.year\n",
        "df_work2['Mes'] = df_work2['Fecha'].dt.month"
      ],
      "execution_count": null,
      "outputs": []
    },
    {
      "cell_type": "code",
      "metadata": {
        "colab": {
          "base_uri": "https://localhost:8080/"
        },
        "id": "yQwYgY4nAKld",
        "outputId": "c34e9fec-b107-49cb-b8c2-8746cc87bf75"
      },
      "source": [
        "#Verificamos que se hayan creado de forma correcta\n",
        "#Tendremos ahora dos columnas adicionales que podemos utilizar para filtrar información\n",
        "print(df_work2.head())\n",
        "print(df_work2.tail())"
      ],
      "execution_count": 17,
      "outputs": [
        {
          "output_type": "stream",
          "text": [
            "       Fecha  Precip  Evap  Tmax  Tmin   Año  Mes\n",
            "0 1961-01-01     0.0   0.8  22.5   8.0  1961    1\n",
            "1 1961-01-02     0.0   1.8  26.5   8.5  1961    1\n",
            "2 1961-01-03     0.0   2.0  25.5   7.5  1961    1\n",
            "3 1961-01-04     0.0   2.5  24.5  10.5  1961    1\n",
            "4 1961-01-05     0.0   1.5  20.5  12.5  1961    1\n",
            "           Fecha  Precip  Evap  Tmax  Tmin   Año  Mes\n",
            "19032 2013-05-27     0.0   NaN  37.0  20.5  2013    5\n",
            "19033 2013-05-28     0.0   NaN  35.5  20.0  2013    5\n",
            "19034 2013-05-29     0.0   NaN  32.5  19.5  2013    5\n",
            "19035 2013-05-30     0.0   NaN  31.5  20.0  2013    5\n",
            "19036 2013-05-31     0.0   NaN  33.0  19.0  2013    5\n"
          ],
          "name": "stdout"
        }
      ]
    },
    {
      "cell_type": "code",
      "metadata": {
        "id": "aGzH_1ywAWMk",
        "colab": {
          "base_uri": "https://localhost:8080/"
        },
        "outputId": "6b997d57-14b7-4552-8393-194acf3b01c5"
      },
      "source": [
        "#Verificamos que Año y Mes son variables enteras.\r\n",
        "df_work2.info()"
      ],
      "execution_count": 18,
      "outputs": [
        {
          "output_type": "stream",
          "text": [
            "<class 'pandas.core.frame.DataFrame'>\n",
            "RangeIndex: 19037 entries, 0 to 19036\n",
            "Data columns (total 7 columns):\n",
            " #   Column  Non-Null Count  Dtype         \n",
            "---  ------  --------------  -----         \n",
            " 0   Fecha   19037 non-null  datetime64[ns]\n",
            " 1   Precip  19037 non-null  float64       \n",
            " 2   Evap    16923 non-null  float64       \n",
            " 3   Tmax    19030 non-null  float64       \n",
            " 4   Tmin    19004 non-null  float64       \n",
            " 5   Año     19037 non-null  int64         \n",
            " 6   Mes     19037 non-null  int64         \n",
            "dtypes: datetime64[ns](1), float64(4), int64(2)\n",
            "memory usage: 1.0 MB\n"
          ],
          "name": "stdout"
        }
      ]
    },
    {
      "cell_type": "code",
      "metadata": {
        "id": "2j77N_LqkX2L"
      },
      "source": [
        ""
      ],
      "execution_count": null,
      "outputs": []
    }
  ]
}
